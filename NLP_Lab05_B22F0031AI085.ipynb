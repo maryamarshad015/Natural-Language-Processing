{
  "nbformat": 4,
  "nbformat_minor": 0,
  "metadata": {
    "colab": {
      "provenance": []
    },
    "kernelspec": {
      "name": "python3",
      "display_name": "Python 3"
    },
    "language_info": {
      "name": "python"
    },
    "widgets": {
      "application/vnd.jupyter.widget-state+json": {
        "0c2fb3d2a14541a0b3ae76214e4d3a36": {
          "model_module": "@jupyter-widgets/controls",
          "model_name": "HBoxModel",
          "model_module_version": "1.5.0",
          "state": {
            "_dom_classes": [],
            "_model_module": "@jupyter-widgets/controls",
            "_model_module_version": "1.5.0",
            "_model_name": "HBoxModel",
            "_view_count": null,
            "_view_module": "@jupyter-widgets/controls",
            "_view_module_version": "1.5.0",
            "_view_name": "HBoxView",
            "box_style": "",
            "children": [
              "IPY_MODEL_f86cb962da294119b69b30499fdda719",
              "IPY_MODEL_df6131b4d0734e5e86aa794f7d7b63b6",
              "IPY_MODEL_5f2537f0af3542eaab0eeaeed5fed5c0"
            ],
            "layout": "IPY_MODEL_4850ea9e1bfe43cb8b3accf74ea50b26"
          }
        },
        "f86cb962da294119b69b30499fdda719": {
          "model_module": "@jupyter-widgets/controls",
          "model_name": "HTMLModel",
          "model_module_version": "1.5.0",
          "state": {
            "_dom_classes": [],
            "_model_module": "@jupyter-widgets/controls",
            "_model_module_version": "1.5.0",
            "_model_name": "HTMLModel",
            "_view_count": null,
            "_view_module": "@jupyter-widgets/controls",
            "_view_module_version": "1.5.0",
            "_view_name": "HTMLView",
            "description": "",
            "description_tooltip": null,
            "layout": "IPY_MODEL_1f64146fcc9a422da4cfc88c6a348b07",
            "placeholder": "​",
            "style": "IPY_MODEL_4e6a5eb999a44cb0a3ddc2fe63a5113d",
            "value": "config.json: 100%"
          }
        },
        "df6131b4d0734e5e86aa794f7d7b63b6": {
          "model_module": "@jupyter-widgets/controls",
          "model_name": "FloatProgressModel",
          "model_module_version": "1.5.0",
          "state": {
            "_dom_classes": [],
            "_model_module": "@jupyter-widgets/controls",
            "_model_module_version": "1.5.0",
            "_model_name": "FloatProgressModel",
            "_view_count": null,
            "_view_module": "@jupyter-widgets/controls",
            "_view_module_version": "1.5.0",
            "_view_name": "ProgressView",
            "bar_style": "success",
            "description": "",
            "description_tooltip": null,
            "layout": "IPY_MODEL_6e95595aa945488580314eab1f538566",
            "max": 570,
            "min": 0,
            "orientation": "horizontal",
            "style": "IPY_MODEL_95756fa189db4fdfa7ddd55a034a0566",
            "value": 570
          }
        },
        "5f2537f0af3542eaab0eeaeed5fed5c0": {
          "model_module": "@jupyter-widgets/controls",
          "model_name": "HTMLModel",
          "model_module_version": "1.5.0",
          "state": {
            "_dom_classes": [],
            "_model_module": "@jupyter-widgets/controls",
            "_model_module_version": "1.5.0",
            "_model_name": "HTMLModel",
            "_view_count": null,
            "_view_module": "@jupyter-widgets/controls",
            "_view_module_version": "1.5.0",
            "_view_name": "HTMLView",
            "description": "",
            "description_tooltip": null,
            "layout": "IPY_MODEL_56a7a08f7c334b7bba48ff6f3f74aa32",
            "placeholder": "​",
            "style": "IPY_MODEL_0be4fc7ab8a44dcd8618c783efe50cb4",
            "value": " 570/570 [00:00&lt;00:00, 8.53kB/s]"
          }
        },
        "4850ea9e1bfe43cb8b3accf74ea50b26": {
          "model_module": "@jupyter-widgets/base",
          "model_name": "LayoutModel",
          "model_module_version": "1.2.0",
          "state": {
            "_model_module": "@jupyter-widgets/base",
            "_model_module_version": "1.2.0",
            "_model_name": "LayoutModel",
            "_view_count": null,
            "_view_module": "@jupyter-widgets/base",
            "_view_module_version": "1.2.0",
            "_view_name": "LayoutView",
            "align_content": null,
            "align_items": null,
            "align_self": null,
            "border": null,
            "bottom": null,
            "display": null,
            "flex": null,
            "flex_flow": null,
            "grid_area": null,
            "grid_auto_columns": null,
            "grid_auto_flow": null,
            "grid_auto_rows": null,
            "grid_column": null,
            "grid_gap": null,
            "grid_row": null,
            "grid_template_areas": null,
            "grid_template_columns": null,
            "grid_template_rows": null,
            "height": null,
            "justify_content": null,
            "justify_items": null,
            "left": null,
            "margin": null,
            "max_height": null,
            "max_width": null,
            "min_height": null,
            "min_width": null,
            "object_fit": null,
            "object_position": null,
            "order": null,
            "overflow": null,
            "overflow_x": null,
            "overflow_y": null,
            "padding": null,
            "right": null,
            "top": null,
            "visibility": null,
            "width": null
          }
        },
        "1f64146fcc9a422da4cfc88c6a348b07": {
          "model_module": "@jupyter-widgets/base",
          "model_name": "LayoutModel",
          "model_module_version": "1.2.0",
          "state": {
            "_model_module": "@jupyter-widgets/base",
            "_model_module_version": "1.2.0",
            "_model_name": "LayoutModel",
            "_view_count": null,
            "_view_module": "@jupyter-widgets/base",
            "_view_module_version": "1.2.0",
            "_view_name": "LayoutView",
            "align_content": null,
            "align_items": null,
            "align_self": null,
            "border": null,
            "bottom": null,
            "display": null,
            "flex": null,
            "flex_flow": null,
            "grid_area": null,
            "grid_auto_columns": null,
            "grid_auto_flow": null,
            "grid_auto_rows": null,
            "grid_column": null,
            "grid_gap": null,
            "grid_row": null,
            "grid_template_areas": null,
            "grid_template_columns": null,
            "grid_template_rows": null,
            "height": null,
            "justify_content": null,
            "justify_items": null,
            "left": null,
            "margin": null,
            "max_height": null,
            "max_width": null,
            "min_height": null,
            "min_width": null,
            "object_fit": null,
            "object_position": null,
            "order": null,
            "overflow": null,
            "overflow_x": null,
            "overflow_y": null,
            "padding": null,
            "right": null,
            "top": null,
            "visibility": null,
            "width": null
          }
        },
        "4e6a5eb999a44cb0a3ddc2fe63a5113d": {
          "model_module": "@jupyter-widgets/controls",
          "model_name": "DescriptionStyleModel",
          "model_module_version": "1.5.0",
          "state": {
            "_model_module": "@jupyter-widgets/controls",
            "_model_module_version": "1.5.0",
            "_model_name": "DescriptionStyleModel",
            "_view_count": null,
            "_view_module": "@jupyter-widgets/base",
            "_view_module_version": "1.2.0",
            "_view_name": "StyleView",
            "description_width": ""
          }
        },
        "6e95595aa945488580314eab1f538566": {
          "model_module": "@jupyter-widgets/base",
          "model_name": "LayoutModel",
          "model_module_version": "1.2.0",
          "state": {
            "_model_module": "@jupyter-widgets/base",
            "_model_module_version": "1.2.0",
            "_model_name": "LayoutModel",
            "_view_count": null,
            "_view_module": "@jupyter-widgets/base",
            "_view_module_version": "1.2.0",
            "_view_name": "LayoutView",
            "align_content": null,
            "align_items": null,
            "align_self": null,
            "border": null,
            "bottom": null,
            "display": null,
            "flex": null,
            "flex_flow": null,
            "grid_area": null,
            "grid_auto_columns": null,
            "grid_auto_flow": null,
            "grid_auto_rows": null,
            "grid_column": null,
            "grid_gap": null,
            "grid_row": null,
            "grid_template_areas": null,
            "grid_template_columns": null,
            "grid_template_rows": null,
            "height": null,
            "justify_content": null,
            "justify_items": null,
            "left": null,
            "margin": null,
            "max_height": null,
            "max_width": null,
            "min_height": null,
            "min_width": null,
            "object_fit": null,
            "object_position": null,
            "order": null,
            "overflow": null,
            "overflow_x": null,
            "overflow_y": null,
            "padding": null,
            "right": null,
            "top": null,
            "visibility": null,
            "width": null
          }
        },
        "95756fa189db4fdfa7ddd55a034a0566": {
          "model_module": "@jupyter-widgets/controls",
          "model_name": "ProgressStyleModel",
          "model_module_version": "1.5.0",
          "state": {
            "_model_module": "@jupyter-widgets/controls",
            "_model_module_version": "1.5.0",
            "_model_name": "ProgressStyleModel",
            "_view_count": null,
            "_view_module": "@jupyter-widgets/base",
            "_view_module_version": "1.2.0",
            "_view_name": "StyleView",
            "bar_color": null,
            "description_width": ""
          }
        },
        "56a7a08f7c334b7bba48ff6f3f74aa32": {
          "model_module": "@jupyter-widgets/base",
          "model_name": "LayoutModel",
          "model_module_version": "1.2.0",
          "state": {
            "_model_module": "@jupyter-widgets/base",
            "_model_module_version": "1.2.0",
            "_model_name": "LayoutModel",
            "_view_count": null,
            "_view_module": "@jupyter-widgets/base",
            "_view_module_version": "1.2.0",
            "_view_name": "LayoutView",
            "align_content": null,
            "align_items": null,
            "align_self": null,
            "border": null,
            "bottom": null,
            "display": null,
            "flex": null,
            "flex_flow": null,
            "grid_area": null,
            "grid_auto_columns": null,
            "grid_auto_flow": null,
            "grid_auto_rows": null,
            "grid_column": null,
            "grid_gap": null,
            "grid_row": null,
            "grid_template_areas": null,
            "grid_template_columns": null,
            "grid_template_rows": null,
            "height": null,
            "justify_content": null,
            "justify_items": null,
            "left": null,
            "margin": null,
            "max_height": null,
            "max_width": null,
            "min_height": null,
            "min_width": null,
            "object_fit": null,
            "object_position": null,
            "order": null,
            "overflow": null,
            "overflow_x": null,
            "overflow_y": null,
            "padding": null,
            "right": null,
            "top": null,
            "visibility": null,
            "width": null
          }
        },
        "0be4fc7ab8a44dcd8618c783efe50cb4": {
          "model_module": "@jupyter-widgets/controls",
          "model_name": "DescriptionStyleModel",
          "model_module_version": "1.5.0",
          "state": {
            "_model_module": "@jupyter-widgets/controls",
            "_model_module_version": "1.5.0",
            "_model_name": "DescriptionStyleModel",
            "_view_count": null,
            "_view_module": "@jupyter-widgets/base",
            "_view_module_version": "1.2.0",
            "_view_name": "StyleView",
            "description_width": ""
          }
        },
        "53a6b9bf61bd404c8ebc9d2d3b54b3b4": {
          "model_module": "@jupyter-widgets/controls",
          "model_name": "HBoxModel",
          "model_module_version": "1.5.0",
          "state": {
            "_dom_classes": [],
            "_model_module": "@jupyter-widgets/controls",
            "_model_module_version": "1.5.0",
            "_model_name": "HBoxModel",
            "_view_count": null,
            "_view_module": "@jupyter-widgets/controls",
            "_view_module_version": "1.5.0",
            "_view_name": "HBoxView",
            "box_style": "",
            "children": [
              "IPY_MODEL_ce713f09f6d94f9eac7b6b07e4fc3db5",
              "IPY_MODEL_bd1b741a36a04470bd1668c67c76cc99",
              "IPY_MODEL_3bb73932a3974c85a78b9c0aba3b222e"
            ],
            "layout": "IPY_MODEL_e0aeed36764f43bc8c335e21538ed4ab"
          }
        },
        "ce713f09f6d94f9eac7b6b07e4fc3db5": {
          "model_module": "@jupyter-widgets/controls",
          "model_name": "HTMLModel",
          "model_module_version": "1.5.0",
          "state": {
            "_dom_classes": [],
            "_model_module": "@jupyter-widgets/controls",
            "_model_module_version": "1.5.0",
            "_model_name": "HTMLModel",
            "_view_count": null,
            "_view_module": "@jupyter-widgets/controls",
            "_view_module_version": "1.5.0",
            "_view_name": "HTMLView",
            "description": "",
            "description_tooltip": null,
            "layout": "IPY_MODEL_010469350c4e45c98f0f70b2a8eea783",
            "placeholder": "​",
            "style": "IPY_MODEL_d9bf27232e934478bf74c32d015504a0",
            "value": "model.safetensors: 100%"
          }
        },
        "bd1b741a36a04470bd1668c67c76cc99": {
          "model_module": "@jupyter-widgets/controls",
          "model_name": "FloatProgressModel",
          "model_module_version": "1.5.0",
          "state": {
            "_dom_classes": [],
            "_model_module": "@jupyter-widgets/controls",
            "_model_module_version": "1.5.0",
            "_model_name": "FloatProgressModel",
            "_view_count": null,
            "_view_module": "@jupyter-widgets/controls",
            "_view_module_version": "1.5.0",
            "_view_name": "ProgressView",
            "bar_style": "success",
            "description": "",
            "description_tooltip": null,
            "layout": "IPY_MODEL_b4dd593120f043feb17b8d8223d18de3",
            "max": 440449768,
            "min": 0,
            "orientation": "horizontal",
            "style": "IPY_MODEL_1557e85a6439474cab4e995a7b5cb560",
            "value": 440449768
          }
        },
        "3bb73932a3974c85a78b9c0aba3b222e": {
          "model_module": "@jupyter-widgets/controls",
          "model_name": "HTMLModel",
          "model_module_version": "1.5.0",
          "state": {
            "_dom_classes": [],
            "_model_module": "@jupyter-widgets/controls",
            "_model_module_version": "1.5.0",
            "_model_name": "HTMLModel",
            "_view_count": null,
            "_view_module": "@jupyter-widgets/controls",
            "_view_module_version": "1.5.0",
            "_view_name": "HTMLView",
            "description": "",
            "description_tooltip": null,
            "layout": "IPY_MODEL_418925667bbb4d359a497450f95f91fd",
            "placeholder": "​",
            "style": "IPY_MODEL_13b0e7655c5b43959662e238541089ea",
            "value": " 440M/440M [00:06&lt;00:00, 116MB/s]"
          }
        },
        "e0aeed36764f43bc8c335e21538ed4ab": {
          "model_module": "@jupyter-widgets/base",
          "model_name": "LayoutModel",
          "model_module_version": "1.2.0",
          "state": {
            "_model_module": "@jupyter-widgets/base",
            "_model_module_version": "1.2.0",
            "_model_name": "LayoutModel",
            "_view_count": null,
            "_view_module": "@jupyter-widgets/base",
            "_view_module_version": "1.2.0",
            "_view_name": "LayoutView",
            "align_content": null,
            "align_items": null,
            "align_self": null,
            "border": null,
            "bottom": null,
            "display": null,
            "flex": null,
            "flex_flow": null,
            "grid_area": null,
            "grid_auto_columns": null,
            "grid_auto_flow": null,
            "grid_auto_rows": null,
            "grid_column": null,
            "grid_gap": null,
            "grid_row": null,
            "grid_template_areas": null,
            "grid_template_columns": null,
            "grid_template_rows": null,
            "height": null,
            "justify_content": null,
            "justify_items": null,
            "left": null,
            "margin": null,
            "max_height": null,
            "max_width": null,
            "min_height": null,
            "min_width": null,
            "object_fit": null,
            "object_position": null,
            "order": null,
            "overflow": null,
            "overflow_x": null,
            "overflow_y": null,
            "padding": null,
            "right": null,
            "top": null,
            "visibility": null,
            "width": null
          }
        },
        "010469350c4e45c98f0f70b2a8eea783": {
          "model_module": "@jupyter-widgets/base",
          "model_name": "LayoutModel",
          "model_module_version": "1.2.0",
          "state": {
            "_model_module": "@jupyter-widgets/base",
            "_model_module_version": "1.2.0",
            "_model_name": "LayoutModel",
            "_view_count": null,
            "_view_module": "@jupyter-widgets/base",
            "_view_module_version": "1.2.0",
            "_view_name": "LayoutView",
            "align_content": null,
            "align_items": null,
            "align_self": null,
            "border": null,
            "bottom": null,
            "display": null,
            "flex": null,
            "flex_flow": null,
            "grid_area": null,
            "grid_auto_columns": null,
            "grid_auto_flow": null,
            "grid_auto_rows": null,
            "grid_column": null,
            "grid_gap": null,
            "grid_row": null,
            "grid_template_areas": null,
            "grid_template_columns": null,
            "grid_template_rows": null,
            "height": null,
            "justify_content": null,
            "justify_items": null,
            "left": null,
            "margin": null,
            "max_height": null,
            "max_width": null,
            "min_height": null,
            "min_width": null,
            "object_fit": null,
            "object_position": null,
            "order": null,
            "overflow": null,
            "overflow_x": null,
            "overflow_y": null,
            "padding": null,
            "right": null,
            "top": null,
            "visibility": null,
            "width": null
          }
        },
        "d9bf27232e934478bf74c32d015504a0": {
          "model_module": "@jupyter-widgets/controls",
          "model_name": "DescriptionStyleModel",
          "model_module_version": "1.5.0",
          "state": {
            "_model_module": "@jupyter-widgets/controls",
            "_model_module_version": "1.5.0",
            "_model_name": "DescriptionStyleModel",
            "_view_count": null,
            "_view_module": "@jupyter-widgets/base",
            "_view_module_version": "1.2.0",
            "_view_name": "StyleView",
            "description_width": ""
          }
        },
        "b4dd593120f043feb17b8d8223d18de3": {
          "model_module": "@jupyter-widgets/base",
          "model_name": "LayoutModel",
          "model_module_version": "1.2.0",
          "state": {
            "_model_module": "@jupyter-widgets/base",
            "_model_module_version": "1.2.0",
            "_model_name": "LayoutModel",
            "_view_count": null,
            "_view_module": "@jupyter-widgets/base",
            "_view_module_version": "1.2.0",
            "_view_name": "LayoutView",
            "align_content": null,
            "align_items": null,
            "align_self": null,
            "border": null,
            "bottom": null,
            "display": null,
            "flex": null,
            "flex_flow": null,
            "grid_area": null,
            "grid_auto_columns": null,
            "grid_auto_flow": null,
            "grid_auto_rows": null,
            "grid_column": null,
            "grid_gap": null,
            "grid_row": null,
            "grid_template_areas": null,
            "grid_template_columns": null,
            "grid_template_rows": null,
            "height": null,
            "justify_content": null,
            "justify_items": null,
            "left": null,
            "margin": null,
            "max_height": null,
            "max_width": null,
            "min_height": null,
            "min_width": null,
            "object_fit": null,
            "object_position": null,
            "order": null,
            "overflow": null,
            "overflow_x": null,
            "overflow_y": null,
            "padding": null,
            "right": null,
            "top": null,
            "visibility": null,
            "width": null
          }
        },
        "1557e85a6439474cab4e995a7b5cb560": {
          "model_module": "@jupyter-widgets/controls",
          "model_name": "ProgressStyleModel",
          "model_module_version": "1.5.0",
          "state": {
            "_model_module": "@jupyter-widgets/controls",
            "_model_module_version": "1.5.0",
            "_model_name": "ProgressStyleModel",
            "_view_count": null,
            "_view_module": "@jupyter-widgets/base",
            "_view_module_version": "1.2.0",
            "_view_name": "StyleView",
            "bar_color": null,
            "description_width": ""
          }
        },
        "418925667bbb4d359a497450f95f91fd": {
          "model_module": "@jupyter-widgets/base",
          "model_name": "LayoutModel",
          "model_module_version": "1.2.0",
          "state": {
            "_model_module": "@jupyter-widgets/base",
            "_model_module_version": "1.2.0",
            "_model_name": "LayoutModel",
            "_view_count": null,
            "_view_module": "@jupyter-widgets/base",
            "_view_module_version": "1.2.0",
            "_view_name": "LayoutView",
            "align_content": null,
            "align_items": null,
            "align_self": null,
            "border": null,
            "bottom": null,
            "display": null,
            "flex": null,
            "flex_flow": null,
            "grid_area": null,
            "grid_auto_columns": null,
            "grid_auto_flow": null,
            "grid_auto_rows": null,
            "grid_column": null,
            "grid_gap": null,
            "grid_row": null,
            "grid_template_areas": null,
            "grid_template_columns": null,
            "grid_template_rows": null,
            "height": null,
            "justify_content": null,
            "justify_items": null,
            "left": null,
            "margin": null,
            "max_height": null,
            "max_width": null,
            "min_height": null,
            "min_width": null,
            "object_fit": null,
            "object_position": null,
            "order": null,
            "overflow": null,
            "overflow_x": null,
            "overflow_y": null,
            "padding": null,
            "right": null,
            "top": null,
            "visibility": null,
            "width": null
          }
        },
        "13b0e7655c5b43959662e238541089ea": {
          "model_module": "@jupyter-widgets/controls",
          "model_name": "DescriptionStyleModel",
          "model_module_version": "1.5.0",
          "state": {
            "_model_module": "@jupyter-widgets/controls",
            "_model_module_version": "1.5.0",
            "_model_name": "DescriptionStyleModel",
            "_view_count": null,
            "_view_module": "@jupyter-widgets/base",
            "_view_module_version": "1.2.0",
            "_view_name": "StyleView",
            "description_width": ""
          }
        },
        "f5666eb2fbac45c19a681b6504050a1c": {
          "model_module": "@jupyter-widgets/controls",
          "model_name": "HBoxModel",
          "model_module_version": "1.5.0",
          "state": {
            "_dom_classes": [],
            "_model_module": "@jupyter-widgets/controls",
            "_model_module_version": "1.5.0",
            "_model_name": "HBoxModel",
            "_view_count": null,
            "_view_module": "@jupyter-widgets/controls",
            "_view_module_version": "1.5.0",
            "_view_name": "HBoxView",
            "box_style": "",
            "children": [
              "IPY_MODEL_c0b18af491b94412b4cb9cc6790c01a5",
              "IPY_MODEL_c1b3f2bfffed4a12801004d586e0bf29",
              "IPY_MODEL_c515c6f4d5e748c987aedd0bb5426192"
            ],
            "layout": "IPY_MODEL_5c1617405ef14f25a5f851af7af545d0"
          }
        },
        "c0b18af491b94412b4cb9cc6790c01a5": {
          "model_module": "@jupyter-widgets/controls",
          "model_name": "HTMLModel",
          "model_module_version": "1.5.0",
          "state": {
            "_dom_classes": [],
            "_model_module": "@jupyter-widgets/controls",
            "_model_module_version": "1.5.0",
            "_model_name": "HTMLModel",
            "_view_count": null,
            "_view_module": "@jupyter-widgets/controls",
            "_view_module_version": "1.5.0",
            "_view_name": "HTMLView",
            "description": "",
            "description_tooltip": null,
            "layout": "IPY_MODEL_19ef8536309a48369e2a6fa6d86456e5",
            "placeholder": "​",
            "style": "IPY_MODEL_78fef5593bee4ca1b2c8cacc6ad4c2d4",
            "value": "tokenizer_config.json: 100%"
          }
        },
        "c1b3f2bfffed4a12801004d586e0bf29": {
          "model_module": "@jupyter-widgets/controls",
          "model_name": "FloatProgressModel",
          "model_module_version": "1.5.0",
          "state": {
            "_dom_classes": [],
            "_model_module": "@jupyter-widgets/controls",
            "_model_module_version": "1.5.0",
            "_model_name": "FloatProgressModel",
            "_view_count": null,
            "_view_module": "@jupyter-widgets/controls",
            "_view_module_version": "1.5.0",
            "_view_name": "ProgressView",
            "bar_style": "success",
            "description": "",
            "description_tooltip": null,
            "layout": "IPY_MODEL_ad22436237b44c8797af8e5411a7acb0",
            "max": 48,
            "min": 0,
            "orientation": "horizontal",
            "style": "IPY_MODEL_b6fb66e6a32444218b7be23542f560d9",
            "value": 48
          }
        },
        "c515c6f4d5e748c987aedd0bb5426192": {
          "model_module": "@jupyter-widgets/controls",
          "model_name": "HTMLModel",
          "model_module_version": "1.5.0",
          "state": {
            "_dom_classes": [],
            "_model_module": "@jupyter-widgets/controls",
            "_model_module_version": "1.5.0",
            "_model_name": "HTMLModel",
            "_view_count": null,
            "_view_module": "@jupyter-widgets/controls",
            "_view_module_version": "1.5.0",
            "_view_name": "HTMLView",
            "description": "",
            "description_tooltip": null,
            "layout": "IPY_MODEL_069ce30dd26649bd8ac6987f1d7ad43e",
            "placeholder": "​",
            "style": "IPY_MODEL_0fbb4cb82e1a4176a121c2504daf297b",
            "value": " 48.0/48.0 [00:00&lt;00:00, 2.14kB/s]"
          }
        },
        "5c1617405ef14f25a5f851af7af545d0": {
          "model_module": "@jupyter-widgets/base",
          "model_name": "LayoutModel",
          "model_module_version": "1.2.0",
          "state": {
            "_model_module": "@jupyter-widgets/base",
            "_model_module_version": "1.2.0",
            "_model_name": "LayoutModel",
            "_view_count": null,
            "_view_module": "@jupyter-widgets/base",
            "_view_module_version": "1.2.0",
            "_view_name": "LayoutView",
            "align_content": null,
            "align_items": null,
            "align_self": null,
            "border": null,
            "bottom": null,
            "display": null,
            "flex": null,
            "flex_flow": null,
            "grid_area": null,
            "grid_auto_columns": null,
            "grid_auto_flow": null,
            "grid_auto_rows": null,
            "grid_column": null,
            "grid_gap": null,
            "grid_row": null,
            "grid_template_areas": null,
            "grid_template_columns": null,
            "grid_template_rows": null,
            "height": null,
            "justify_content": null,
            "justify_items": null,
            "left": null,
            "margin": null,
            "max_height": null,
            "max_width": null,
            "min_height": null,
            "min_width": null,
            "object_fit": null,
            "object_position": null,
            "order": null,
            "overflow": null,
            "overflow_x": null,
            "overflow_y": null,
            "padding": null,
            "right": null,
            "top": null,
            "visibility": null,
            "width": null
          }
        },
        "19ef8536309a48369e2a6fa6d86456e5": {
          "model_module": "@jupyter-widgets/base",
          "model_name": "LayoutModel",
          "model_module_version": "1.2.0",
          "state": {
            "_model_module": "@jupyter-widgets/base",
            "_model_module_version": "1.2.0",
            "_model_name": "LayoutModel",
            "_view_count": null,
            "_view_module": "@jupyter-widgets/base",
            "_view_module_version": "1.2.0",
            "_view_name": "LayoutView",
            "align_content": null,
            "align_items": null,
            "align_self": null,
            "border": null,
            "bottom": null,
            "display": null,
            "flex": null,
            "flex_flow": null,
            "grid_area": null,
            "grid_auto_columns": null,
            "grid_auto_flow": null,
            "grid_auto_rows": null,
            "grid_column": null,
            "grid_gap": null,
            "grid_row": null,
            "grid_template_areas": null,
            "grid_template_columns": null,
            "grid_template_rows": null,
            "height": null,
            "justify_content": null,
            "justify_items": null,
            "left": null,
            "margin": null,
            "max_height": null,
            "max_width": null,
            "min_height": null,
            "min_width": null,
            "object_fit": null,
            "object_position": null,
            "order": null,
            "overflow": null,
            "overflow_x": null,
            "overflow_y": null,
            "padding": null,
            "right": null,
            "top": null,
            "visibility": null,
            "width": null
          }
        },
        "78fef5593bee4ca1b2c8cacc6ad4c2d4": {
          "model_module": "@jupyter-widgets/controls",
          "model_name": "DescriptionStyleModel",
          "model_module_version": "1.5.0",
          "state": {
            "_model_module": "@jupyter-widgets/controls",
            "_model_module_version": "1.5.0",
            "_model_name": "DescriptionStyleModel",
            "_view_count": null,
            "_view_module": "@jupyter-widgets/base",
            "_view_module_version": "1.2.0",
            "_view_name": "StyleView",
            "description_width": ""
          }
        },
        "ad22436237b44c8797af8e5411a7acb0": {
          "model_module": "@jupyter-widgets/base",
          "model_name": "LayoutModel",
          "model_module_version": "1.2.0",
          "state": {
            "_model_module": "@jupyter-widgets/base",
            "_model_module_version": "1.2.0",
            "_model_name": "LayoutModel",
            "_view_count": null,
            "_view_module": "@jupyter-widgets/base",
            "_view_module_version": "1.2.0",
            "_view_name": "LayoutView",
            "align_content": null,
            "align_items": null,
            "align_self": null,
            "border": null,
            "bottom": null,
            "display": null,
            "flex": null,
            "flex_flow": null,
            "grid_area": null,
            "grid_auto_columns": null,
            "grid_auto_flow": null,
            "grid_auto_rows": null,
            "grid_column": null,
            "grid_gap": null,
            "grid_row": null,
            "grid_template_areas": null,
            "grid_template_columns": null,
            "grid_template_rows": null,
            "height": null,
            "justify_content": null,
            "justify_items": null,
            "left": null,
            "margin": null,
            "max_height": null,
            "max_width": null,
            "min_height": null,
            "min_width": null,
            "object_fit": null,
            "object_position": null,
            "order": null,
            "overflow": null,
            "overflow_x": null,
            "overflow_y": null,
            "padding": null,
            "right": null,
            "top": null,
            "visibility": null,
            "width": null
          }
        },
        "b6fb66e6a32444218b7be23542f560d9": {
          "model_module": "@jupyter-widgets/controls",
          "model_name": "ProgressStyleModel",
          "model_module_version": "1.5.0",
          "state": {
            "_model_module": "@jupyter-widgets/controls",
            "_model_module_version": "1.5.0",
            "_model_name": "ProgressStyleModel",
            "_view_count": null,
            "_view_module": "@jupyter-widgets/base",
            "_view_module_version": "1.2.0",
            "_view_name": "StyleView",
            "bar_color": null,
            "description_width": ""
          }
        },
        "069ce30dd26649bd8ac6987f1d7ad43e": {
          "model_module": "@jupyter-widgets/base",
          "model_name": "LayoutModel",
          "model_module_version": "1.2.0",
          "state": {
            "_model_module": "@jupyter-widgets/base",
            "_model_module_version": "1.2.0",
            "_model_name": "LayoutModel",
            "_view_count": null,
            "_view_module": "@jupyter-widgets/base",
            "_view_module_version": "1.2.0",
            "_view_name": "LayoutView",
            "align_content": null,
            "align_items": null,
            "align_self": null,
            "border": null,
            "bottom": null,
            "display": null,
            "flex": null,
            "flex_flow": null,
            "grid_area": null,
            "grid_auto_columns": null,
            "grid_auto_flow": null,
            "grid_auto_rows": null,
            "grid_column": null,
            "grid_gap": null,
            "grid_row": null,
            "grid_template_areas": null,
            "grid_template_columns": null,
            "grid_template_rows": null,
            "height": null,
            "justify_content": null,
            "justify_items": null,
            "left": null,
            "margin": null,
            "max_height": null,
            "max_width": null,
            "min_height": null,
            "min_width": null,
            "object_fit": null,
            "object_position": null,
            "order": null,
            "overflow": null,
            "overflow_x": null,
            "overflow_y": null,
            "padding": null,
            "right": null,
            "top": null,
            "visibility": null,
            "width": null
          }
        },
        "0fbb4cb82e1a4176a121c2504daf297b": {
          "model_module": "@jupyter-widgets/controls",
          "model_name": "DescriptionStyleModel",
          "model_module_version": "1.5.0",
          "state": {
            "_model_module": "@jupyter-widgets/controls",
            "_model_module_version": "1.5.0",
            "_model_name": "DescriptionStyleModel",
            "_view_count": null,
            "_view_module": "@jupyter-widgets/base",
            "_view_module_version": "1.2.0",
            "_view_name": "StyleView",
            "description_width": ""
          }
        },
        "bc238ef9230647e1b9b63cfdb10438d9": {
          "model_module": "@jupyter-widgets/controls",
          "model_name": "HBoxModel",
          "model_module_version": "1.5.0",
          "state": {
            "_dom_classes": [],
            "_model_module": "@jupyter-widgets/controls",
            "_model_module_version": "1.5.0",
            "_model_name": "HBoxModel",
            "_view_count": null,
            "_view_module": "@jupyter-widgets/controls",
            "_view_module_version": "1.5.0",
            "_view_name": "HBoxView",
            "box_style": "",
            "children": [
              "IPY_MODEL_b798229f9b244a1d9014ac74086de7ed",
              "IPY_MODEL_14a8eb91029044b6aa19ec1436198df7",
              "IPY_MODEL_047c7d20f7b64d34a0d6e357057405a7"
            ],
            "layout": "IPY_MODEL_3ea4d58c72324174814e625a67131151"
          }
        },
        "b798229f9b244a1d9014ac74086de7ed": {
          "model_module": "@jupyter-widgets/controls",
          "model_name": "HTMLModel",
          "model_module_version": "1.5.0",
          "state": {
            "_dom_classes": [],
            "_model_module": "@jupyter-widgets/controls",
            "_model_module_version": "1.5.0",
            "_model_name": "HTMLModel",
            "_view_count": null,
            "_view_module": "@jupyter-widgets/controls",
            "_view_module_version": "1.5.0",
            "_view_name": "HTMLView",
            "description": "",
            "description_tooltip": null,
            "layout": "IPY_MODEL_0c54bc9fe3054822b0a5bbdb9f84d8f2",
            "placeholder": "​",
            "style": "IPY_MODEL_9f9df91097a146439bb9cf51146709f9",
            "value": "vocab.txt: 100%"
          }
        },
        "14a8eb91029044b6aa19ec1436198df7": {
          "model_module": "@jupyter-widgets/controls",
          "model_name": "FloatProgressModel",
          "model_module_version": "1.5.0",
          "state": {
            "_dom_classes": [],
            "_model_module": "@jupyter-widgets/controls",
            "_model_module_version": "1.5.0",
            "_model_name": "FloatProgressModel",
            "_view_count": null,
            "_view_module": "@jupyter-widgets/controls",
            "_view_module_version": "1.5.0",
            "_view_name": "ProgressView",
            "bar_style": "success",
            "description": "",
            "description_tooltip": null,
            "layout": "IPY_MODEL_a9172c15176c4825a229b75442db3dee",
            "max": 231508,
            "min": 0,
            "orientation": "horizontal",
            "style": "IPY_MODEL_401f4644f8fe4052b1c98827bb53ee89",
            "value": 231508
          }
        },
        "047c7d20f7b64d34a0d6e357057405a7": {
          "model_module": "@jupyter-widgets/controls",
          "model_name": "HTMLModel",
          "model_module_version": "1.5.0",
          "state": {
            "_dom_classes": [],
            "_model_module": "@jupyter-widgets/controls",
            "_model_module_version": "1.5.0",
            "_model_name": "HTMLModel",
            "_view_count": null,
            "_view_module": "@jupyter-widgets/controls",
            "_view_module_version": "1.5.0",
            "_view_name": "HTMLView",
            "description": "",
            "description_tooltip": null,
            "layout": "IPY_MODEL_5457c60390824eaa9a00d9d92643eec0",
            "placeholder": "​",
            "style": "IPY_MODEL_c3b0e3fad31844fa9b74249b510cf2c3",
            "value": " 232k/232k [00:00&lt;00:00, 5.48MB/s]"
          }
        },
        "3ea4d58c72324174814e625a67131151": {
          "model_module": "@jupyter-widgets/base",
          "model_name": "LayoutModel",
          "model_module_version": "1.2.0",
          "state": {
            "_model_module": "@jupyter-widgets/base",
            "_model_module_version": "1.2.0",
            "_model_name": "LayoutModel",
            "_view_count": null,
            "_view_module": "@jupyter-widgets/base",
            "_view_module_version": "1.2.0",
            "_view_name": "LayoutView",
            "align_content": null,
            "align_items": null,
            "align_self": null,
            "border": null,
            "bottom": null,
            "display": null,
            "flex": null,
            "flex_flow": null,
            "grid_area": null,
            "grid_auto_columns": null,
            "grid_auto_flow": null,
            "grid_auto_rows": null,
            "grid_column": null,
            "grid_gap": null,
            "grid_row": null,
            "grid_template_areas": null,
            "grid_template_columns": null,
            "grid_template_rows": null,
            "height": null,
            "justify_content": null,
            "justify_items": null,
            "left": null,
            "margin": null,
            "max_height": null,
            "max_width": null,
            "min_height": null,
            "min_width": null,
            "object_fit": null,
            "object_position": null,
            "order": null,
            "overflow": null,
            "overflow_x": null,
            "overflow_y": null,
            "padding": null,
            "right": null,
            "top": null,
            "visibility": null,
            "width": null
          }
        },
        "0c54bc9fe3054822b0a5bbdb9f84d8f2": {
          "model_module": "@jupyter-widgets/base",
          "model_name": "LayoutModel",
          "model_module_version": "1.2.0",
          "state": {
            "_model_module": "@jupyter-widgets/base",
            "_model_module_version": "1.2.0",
            "_model_name": "LayoutModel",
            "_view_count": null,
            "_view_module": "@jupyter-widgets/base",
            "_view_module_version": "1.2.0",
            "_view_name": "LayoutView",
            "align_content": null,
            "align_items": null,
            "align_self": null,
            "border": null,
            "bottom": null,
            "display": null,
            "flex": null,
            "flex_flow": null,
            "grid_area": null,
            "grid_auto_columns": null,
            "grid_auto_flow": null,
            "grid_auto_rows": null,
            "grid_column": null,
            "grid_gap": null,
            "grid_row": null,
            "grid_template_areas": null,
            "grid_template_columns": null,
            "grid_template_rows": null,
            "height": null,
            "justify_content": null,
            "justify_items": null,
            "left": null,
            "margin": null,
            "max_height": null,
            "max_width": null,
            "min_height": null,
            "min_width": null,
            "object_fit": null,
            "object_position": null,
            "order": null,
            "overflow": null,
            "overflow_x": null,
            "overflow_y": null,
            "padding": null,
            "right": null,
            "top": null,
            "visibility": null,
            "width": null
          }
        },
        "9f9df91097a146439bb9cf51146709f9": {
          "model_module": "@jupyter-widgets/controls",
          "model_name": "DescriptionStyleModel",
          "model_module_version": "1.5.0",
          "state": {
            "_model_module": "@jupyter-widgets/controls",
            "_model_module_version": "1.5.0",
            "_model_name": "DescriptionStyleModel",
            "_view_count": null,
            "_view_module": "@jupyter-widgets/base",
            "_view_module_version": "1.2.0",
            "_view_name": "StyleView",
            "description_width": ""
          }
        },
        "a9172c15176c4825a229b75442db3dee": {
          "model_module": "@jupyter-widgets/base",
          "model_name": "LayoutModel",
          "model_module_version": "1.2.0",
          "state": {
            "_model_module": "@jupyter-widgets/base",
            "_model_module_version": "1.2.0",
            "_model_name": "LayoutModel",
            "_view_count": null,
            "_view_module": "@jupyter-widgets/base",
            "_view_module_version": "1.2.0",
            "_view_name": "LayoutView",
            "align_content": null,
            "align_items": null,
            "align_self": null,
            "border": null,
            "bottom": null,
            "display": null,
            "flex": null,
            "flex_flow": null,
            "grid_area": null,
            "grid_auto_columns": null,
            "grid_auto_flow": null,
            "grid_auto_rows": null,
            "grid_column": null,
            "grid_gap": null,
            "grid_row": null,
            "grid_template_areas": null,
            "grid_template_columns": null,
            "grid_template_rows": null,
            "height": null,
            "justify_content": null,
            "justify_items": null,
            "left": null,
            "margin": null,
            "max_height": null,
            "max_width": null,
            "min_height": null,
            "min_width": null,
            "object_fit": null,
            "object_position": null,
            "order": null,
            "overflow": null,
            "overflow_x": null,
            "overflow_y": null,
            "padding": null,
            "right": null,
            "top": null,
            "visibility": null,
            "width": null
          }
        },
        "401f4644f8fe4052b1c98827bb53ee89": {
          "model_module": "@jupyter-widgets/controls",
          "model_name": "ProgressStyleModel",
          "model_module_version": "1.5.0",
          "state": {
            "_model_module": "@jupyter-widgets/controls",
            "_model_module_version": "1.5.0",
            "_model_name": "ProgressStyleModel",
            "_view_count": null,
            "_view_module": "@jupyter-widgets/base",
            "_view_module_version": "1.2.0",
            "_view_name": "StyleView",
            "bar_color": null,
            "description_width": ""
          }
        },
        "5457c60390824eaa9a00d9d92643eec0": {
          "model_module": "@jupyter-widgets/base",
          "model_name": "LayoutModel",
          "model_module_version": "1.2.0",
          "state": {
            "_model_module": "@jupyter-widgets/base",
            "_model_module_version": "1.2.0",
            "_model_name": "LayoutModel",
            "_view_count": null,
            "_view_module": "@jupyter-widgets/base",
            "_view_module_version": "1.2.0",
            "_view_name": "LayoutView",
            "align_content": null,
            "align_items": null,
            "align_self": null,
            "border": null,
            "bottom": null,
            "display": null,
            "flex": null,
            "flex_flow": null,
            "grid_area": null,
            "grid_auto_columns": null,
            "grid_auto_flow": null,
            "grid_auto_rows": null,
            "grid_column": null,
            "grid_gap": null,
            "grid_row": null,
            "grid_template_areas": null,
            "grid_template_columns": null,
            "grid_template_rows": null,
            "height": null,
            "justify_content": null,
            "justify_items": null,
            "left": null,
            "margin": null,
            "max_height": null,
            "max_width": null,
            "min_height": null,
            "min_width": null,
            "object_fit": null,
            "object_position": null,
            "order": null,
            "overflow": null,
            "overflow_x": null,
            "overflow_y": null,
            "padding": null,
            "right": null,
            "top": null,
            "visibility": null,
            "width": null
          }
        },
        "c3b0e3fad31844fa9b74249b510cf2c3": {
          "model_module": "@jupyter-widgets/controls",
          "model_name": "DescriptionStyleModel",
          "model_module_version": "1.5.0",
          "state": {
            "_model_module": "@jupyter-widgets/controls",
            "_model_module_version": "1.5.0",
            "_model_name": "DescriptionStyleModel",
            "_view_count": null,
            "_view_module": "@jupyter-widgets/base",
            "_view_module_version": "1.2.0",
            "_view_name": "StyleView",
            "description_width": ""
          }
        },
        "437f85ed54ca405588f101f5f64d061b": {
          "model_module": "@jupyter-widgets/controls",
          "model_name": "HBoxModel",
          "model_module_version": "1.5.0",
          "state": {
            "_dom_classes": [],
            "_model_module": "@jupyter-widgets/controls",
            "_model_module_version": "1.5.0",
            "_model_name": "HBoxModel",
            "_view_count": null,
            "_view_module": "@jupyter-widgets/controls",
            "_view_module_version": "1.5.0",
            "_view_name": "HBoxView",
            "box_style": "",
            "children": [
              "IPY_MODEL_873f8cc114f34567bcb4849891f7850e",
              "IPY_MODEL_7fa85905933f405092d9be3d22201dbe",
              "IPY_MODEL_79b2a461e72844f4a3c8e39789fc3526"
            ],
            "layout": "IPY_MODEL_ef1bfce829d543f9a8493a201ed7d701"
          }
        },
        "873f8cc114f34567bcb4849891f7850e": {
          "model_module": "@jupyter-widgets/controls",
          "model_name": "HTMLModel",
          "model_module_version": "1.5.0",
          "state": {
            "_dom_classes": [],
            "_model_module": "@jupyter-widgets/controls",
            "_model_module_version": "1.5.0",
            "_model_name": "HTMLModel",
            "_view_count": null,
            "_view_module": "@jupyter-widgets/controls",
            "_view_module_version": "1.5.0",
            "_view_name": "HTMLView",
            "description": "",
            "description_tooltip": null,
            "layout": "IPY_MODEL_6b437c2a3b324f0191f8bfc670f35618",
            "placeholder": "​",
            "style": "IPY_MODEL_11fc7202fe5e4acda9537159e6784b4b",
            "value": "tokenizer.json: 100%"
          }
        },
        "7fa85905933f405092d9be3d22201dbe": {
          "model_module": "@jupyter-widgets/controls",
          "model_name": "FloatProgressModel",
          "model_module_version": "1.5.0",
          "state": {
            "_dom_classes": [],
            "_model_module": "@jupyter-widgets/controls",
            "_model_module_version": "1.5.0",
            "_model_name": "FloatProgressModel",
            "_view_count": null,
            "_view_module": "@jupyter-widgets/controls",
            "_view_module_version": "1.5.0",
            "_view_name": "ProgressView",
            "bar_style": "success",
            "description": "",
            "description_tooltip": null,
            "layout": "IPY_MODEL_6dc4043b55294a3ca5942ee78a0f7652",
            "max": 466062,
            "min": 0,
            "orientation": "horizontal",
            "style": "IPY_MODEL_0ecd4464bffc489e872a46b16e01d007",
            "value": 466062
          }
        },
        "79b2a461e72844f4a3c8e39789fc3526": {
          "model_module": "@jupyter-widgets/controls",
          "model_name": "HTMLModel",
          "model_module_version": "1.5.0",
          "state": {
            "_dom_classes": [],
            "_model_module": "@jupyter-widgets/controls",
            "_model_module_version": "1.5.0",
            "_model_name": "HTMLModel",
            "_view_count": null,
            "_view_module": "@jupyter-widgets/controls",
            "_view_module_version": "1.5.0",
            "_view_name": "HTMLView",
            "description": "",
            "description_tooltip": null,
            "layout": "IPY_MODEL_ea200daf5377404196c3bdb6e12c7bfe",
            "placeholder": "​",
            "style": "IPY_MODEL_c61afe013aa6412288c9b8c18a37adde",
            "value": " 466k/466k [00:00&lt;00:00, 15.0MB/s]"
          }
        },
        "ef1bfce829d543f9a8493a201ed7d701": {
          "model_module": "@jupyter-widgets/base",
          "model_name": "LayoutModel",
          "model_module_version": "1.2.0",
          "state": {
            "_model_module": "@jupyter-widgets/base",
            "_model_module_version": "1.2.0",
            "_model_name": "LayoutModel",
            "_view_count": null,
            "_view_module": "@jupyter-widgets/base",
            "_view_module_version": "1.2.0",
            "_view_name": "LayoutView",
            "align_content": null,
            "align_items": null,
            "align_self": null,
            "border": null,
            "bottom": null,
            "display": null,
            "flex": null,
            "flex_flow": null,
            "grid_area": null,
            "grid_auto_columns": null,
            "grid_auto_flow": null,
            "grid_auto_rows": null,
            "grid_column": null,
            "grid_gap": null,
            "grid_row": null,
            "grid_template_areas": null,
            "grid_template_columns": null,
            "grid_template_rows": null,
            "height": null,
            "justify_content": null,
            "justify_items": null,
            "left": null,
            "margin": null,
            "max_height": null,
            "max_width": null,
            "min_height": null,
            "min_width": null,
            "object_fit": null,
            "object_position": null,
            "order": null,
            "overflow": null,
            "overflow_x": null,
            "overflow_y": null,
            "padding": null,
            "right": null,
            "top": null,
            "visibility": null,
            "width": null
          }
        },
        "6b437c2a3b324f0191f8bfc670f35618": {
          "model_module": "@jupyter-widgets/base",
          "model_name": "LayoutModel",
          "model_module_version": "1.2.0",
          "state": {
            "_model_module": "@jupyter-widgets/base",
            "_model_module_version": "1.2.0",
            "_model_name": "LayoutModel",
            "_view_count": null,
            "_view_module": "@jupyter-widgets/base",
            "_view_module_version": "1.2.0",
            "_view_name": "LayoutView",
            "align_content": null,
            "align_items": null,
            "align_self": null,
            "border": null,
            "bottom": null,
            "display": null,
            "flex": null,
            "flex_flow": null,
            "grid_area": null,
            "grid_auto_columns": null,
            "grid_auto_flow": null,
            "grid_auto_rows": null,
            "grid_column": null,
            "grid_gap": null,
            "grid_row": null,
            "grid_template_areas": null,
            "grid_template_columns": null,
            "grid_template_rows": null,
            "height": null,
            "justify_content": null,
            "justify_items": null,
            "left": null,
            "margin": null,
            "max_height": null,
            "max_width": null,
            "min_height": null,
            "min_width": null,
            "object_fit": null,
            "object_position": null,
            "order": null,
            "overflow": null,
            "overflow_x": null,
            "overflow_y": null,
            "padding": null,
            "right": null,
            "top": null,
            "visibility": null,
            "width": null
          }
        },
        "11fc7202fe5e4acda9537159e6784b4b": {
          "model_module": "@jupyter-widgets/controls",
          "model_name": "DescriptionStyleModel",
          "model_module_version": "1.5.0",
          "state": {
            "_model_module": "@jupyter-widgets/controls",
            "_model_module_version": "1.5.0",
            "_model_name": "DescriptionStyleModel",
            "_view_count": null,
            "_view_module": "@jupyter-widgets/base",
            "_view_module_version": "1.2.0",
            "_view_name": "StyleView",
            "description_width": ""
          }
        },
        "6dc4043b55294a3ca5942ee78a0f7652": {
          "model_module": "@jupyter-widgets/base",
          "model_name": "LayoutModel",
          "model_module_version": "1.2.0",
          "state": {
            "_model_module": "@jupyter-widgets/base",
            "_model_module_version": "1.2.0",
            "_model_name": "LayoutModel",
            "_view_count": null,
            "_view_module": "@jupyter-widgets/base",
            "_view_module_version": "1.2.0",
            "_view_name": "LayoutView",
            "align_content": null,
            "align_items": null,
            "align_self": null,
            "border": null,
            "bottom": null,
            "display": null,
            "flex": null,
            "flex_flow": null,
            "grid_area": null,
            "grid_auto_columns": null,
            "grid_auto_flow": null,
            "grid_auto_rows": null,
            "grid_column": null,
            "grid_gap": null,
            "grid_row": null,
            "grid_template_areas": null,
            "grid_template_columns": null,
            "grid_template_rows": null,
            "height": null,
            "justify_content": null,
            "justify_items": null,
            "left": null,
            "margin": null,
            "max_height": null,
            "max_width": null,
            "min_height": null,
            "min_width": null,
            "object_fit": null,
            "object_position": null,
            "order": null,
            "overflow": null,
            "overflow_x": null,
            "overflow_y": null,
            "padding": null,
            "right": null,
            "top": null,
            "visibility": null,
            "width": null
          }
        },
        "0ecd4464bffc489e872a46b16e01d007": {
          "model_module": "@jupyter-widgets/controls",
          "model_name": "ProgressStyleModel",
          "model_module_version": "1.5.0",
          "state": {
            "_model_module": "@jupyter-widgets/controls",
            "_model_module_version": "1.5.0",
            "_model_name": "ProgressStyleModel",
            "_view_count": null,
            "_view_module": "@jupyter-widgets/base",
            "_view_module_version": "1.2.0",
            "_view_name": "StyleView",
            "bar_color": null,
            "description_width": ""
          }
        },
        "ea200daf5377404196c3bdb6e12c7bfe": {
          "model_module": "@jupyter-widgets/base",
          "model_name": "LayoutModel",
          "model_module_version": "1.2.0",
          "state": {
            "_model_module": "@jupyter-widgets/base",
            "_model_module_version": "1.2.0",
            "_model_name": "LayoutModel",
            "_view_count": null,
            "_view_module": "@jupyter-widgets/base",
            "_view_module_version": "1.2.0",
            "_view_name": "LayoutView",
            "align_content": null,
            "align_items": null,
            "align_self": null,
            "border": null,
            "bottom": null,
            "display": null,
            "flex": null,
            "flex_flow": null,
            "grid_area": null,
            "grid_auto_columns": null,
            "grid_auto_flow": null,
            "grid_auto_rows": null,
            "grid_column": null,
            "grid_gap": null,
            "grid_row": null,
            "grid_template_areas": null,
            "grid_template_columns": null,
            "grid_template_rows": null,
            "height": null,
            "justify_content": null,
            "justify_items": null,
            "left": null,
            "margin": null,
            "max_height": null,
            "max_width": null,
            "min_height": null,
            "min_width": null,
            "object_fit": null,
            "object_position": null,
            "order": null,
            "overflow": null,
            "overflow_x": null,
            "overflow_y": null,
            "padding": null,
            "right": null,
            "top": null,
            "visibility": null,
            "width": null
          }
        },
        "c61afe013aa6412288c9b8c18a37adde": {
          "model_module": "@jupyter-widgets/controls",
          "model_name": "DescriptionStyleModel",
          "model_module_version": "1.5.0",
          "state": {
            "_model_module": "@jupyter-widgets/controls",
            "_model_module_version": "1.5.0",
            "_model_name": "DescriptionStyleModel",
            "_view_count": null,
            "_view_module": "@jupyter-widgets/base",
            "_view_module_version": "1.2.0",
            "_view_name": "StyleView",
            "description_width": ""
          }
        }
      }
    }
  },
  "cells": [
    {
      "cell_type": "markdown",
      "source": [
        "![image.png](data:image/png;base64,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)"
      ],
      "metadata": {
        "id": "Q0-ORJsbOGUT"
      }
    },
    {
      "cell_type": "markdown",
      "source": [
        "![image.png](data:image/png;base64,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)"
      ],
      "metadata": {
        "id": "B4j2tuVKOb-O"
      }
    },
    {
      "cell_type": "markdown",
      "source": [
        "#Language Model VS Large Language Model"
      ],
      "metadata": {
        "id": "r_kBylaAYB9X"
      }
    },
    {
      "cell_type": "markdown",
      "source": [
        "| **Aspect**                      | **Language Model (LM)**                                                                                    | **Large Language Model (LLM)**                                                                                         |\n",
        "| ------------------------------- | ---------------------------------------------------------------------------------------------------------- | ---------------------------------------------------------------------------------------------------------------------- |\n",
        "| **Definition**                  | A model that predicts the next word in a sequence based on the probability of previous words.              | A massively scaled-up neural network trained on vast datasets to understand and generate human-like text.              |\n",
        "| **Training Type**               | Usually **trained from scratch** on small, specific datasets (like a set of sentences or a custom corpus). | **Pretrained** on huge internet-scale datasets, often with billions of words, and later fine-tuned for specific tasks. |\n",
        "| **Model Examples**              | N-gram models, RNNs, LSTMs — small models focusing on local context.                                       | GPT, BERT, T5 — transformer-based models with billions of parameters.                                                                    |\n",
        "| **Example Use Case**            | Predicting next word in “I am ___” within a small dataset.                                                 | Chatbots like ChatGPT, text summarization, translation, and code generation.                                           |\n"
      ],
      "metadata": {
        "id": "harPhXI9Qi2k"
      }
    },
    {
      "cell_type": "markdown",
      "source": [
        "#Import Libraries:"
      ],
      "metadata": {
        "id": "15I2MuYzTZX5"
      }
    },
    {
      "cell_type": "code",
      "source": [
        "import random\n",
        "import re\n",
        "from collections import Counter, defaultdict\n"
      ],
      "metadata": {
        "id": "f5ybtx9KTSeY"
      },
      "execution_count": null,
      "outputs": []
    },
    {
      "cell_type": "markdown",
      "source": [
        "\n",
        "# -----------------------------\n",
        "# Step 1: Corpus Cleaning\n",
        "# -----------------------------"
      ],
      "metadata": {
        "id": "skZIEKz6Tfr2"
      }
    },
    {
      "cell_type": "code",
      "source": [
        "\n",
        "corpus = \"\"\"I am Sam.\n",
        "Sam I am.\n",
        "I do not like green eggs and ham.\n",
        "I like to play football.\n",
        "I am going to school today.\n",
        "She loves playing the piano.\n",
        "The cat sat on the mat.\n",
        "The dog chased the cat\"\"\""
      ],
      "metadata": {
        "id": "SaLdyIsaTdp5"
      },
      "execution_count": null,
      "outputs": []
    },
    {
      "cell_type": "markdown",
      "source": [
        "# Lowercase, remove punctuation, tokenize"
      ],
      "metadata": {
        "id": "6DV-zxKHTlqE"
      }
    },
    {
      "cell_type": "code",
      "source": [
        "\n",
        "tokens = re.findall(r\"\\b\\w+\\b\", corpus.lower())\n",
        "\n",
        "print(\"Cleaned tokens:\", tokens)\n",
        "print()"
      ],
      "metadata": {
        "id": "Q2ptLQUJTjq_"
      },
      "execution_count": null,
      "outputs": []
    },
    {
      "cell_type": "markdown",
      "source": [
        "# -----------------------------\n",
        "# Step 2: Unigram Model\n",
        "# -----------------------------"
      ],
      "metadata": {
        "id": "xVeL1BLuTrON"
      }
    },
    {
      "cell_type": "code",
      "source": [
        "\n",
        "unigram_counts = Counter(tokens)\n",
        "total_tokens = len(tokens)\n",
        "\n",
        "unigram_probs = {word: count/total_tokens for word, count in unigram_counts.items()}\n",
        "\n",
        "print(\"Unigram Probabilities:\")\n",
        "for word, prob in unigram_probs.items():\n",
        "    print(f\"{word}: {prob:.4f}\")\n",
        "print()"
      ],
      "metadata": {
        "id": "9T079U4sToy2"
      },
      "execution_count": null,
      "outputs": []
    },
    {
      "cell_type": "markdown",
      "source": [
        "# Generate random text (Unigram) - uses sampling"
      ],
      "metadata": {
        "id": "8R6C8BgaTzCf"
      }
    },
    {
      "cell_type": "code",
      "source": [
        "\n",
        "def generate_unigram(n=10):\n",
        "    words = list(unigram_probs.keys())\n",
        "    probs = list(unigram_probs.values())\n",
        "    return \" \".join(random.choices(words, probs, k=n))\n",
        "\n",
        "print(\"Random text (Unigram):\")\n",
        "print(generate_unigram(10))\n",
        "print()"
      ],
      "metadata": {
        "id": "31aatsquTxc3"
      },
      "execution_count": null,
      "outputs": []
    },
    {
      "cell_type": "markdown",
      "source": [
        "# -----------------------------\n",
        "# Step 3: Bigram Model\n",
        "# -----------------------------"
      ],
      "metadata": {
        "id": "Fh6igHIRT4A2"
      }
    },
    {
      "cell_type": "code",
      "source": [
        "\n",
        "bigram_counts = defaultdict(Counter)\n",
        "for i in range(len(tokens)-1):\n",
        "    bigram_counts[tokens[i]][tokens[i+1]] += 1\n",
        "4\n",
        "bigram_probs = {w1: {w2: c/sum(next_words.values())\n",
        "                     for w2, c in next_words.items()}\n",
        "                for w1, next_words in bigram_counts.items()}\n",
        "\n",
        "print(\"Bigram Probabilities (sample):\")\n",
        "for w1, next_words in list(bigram_probs.items())[:5]:\n",
        "    print(w1, \"->\", next_words)\n",
        "print()"
      ],
      "metadata": {
        "id": "I5ffm4jLT2QB"
      },
      "execution_count": null,
      "outputs": []
    },
    {
      "cell_type": "markdown",
      "source": [
        "# Predict next word using bigram (greedy)"
      ],
      "metadata": {
        "id": "Awper83fT_ER"
      }
    },
    {
      "cell_type": "code",
      "source": [
        "\n",
        "def predict_bigram(word):\n",
        "    if word not in bigram_probs:\n",
        "        return None\n",
        "    next_words = bigram_probs[word]\n",
        "    return max(next_words, key=next_words.get)\n",
        "\n",
        "print(\"Prediction with Bigram (input='i'):\", predict_bigram(\"i\"))\n",
        "print(\"Prediction with Bigram (input='am'):\", predict_bigram(\"am\"))\n",
        "print()"
      ],
      "metadata": {
        "id": "06ztozVyT7tB"
      },
      "execution_count": null,
      "outputs": []
    },
    {
      "cell_type": "markdown",
      "source": [
        "# -----------------------------\n",
        "# Step 4: Trigram Model\n",
        "# -----------------------------"
      ],
      "metadata": {
        "id": "jr4Mqk7WUHIY"
      }
    },
    {
      "cell_type": "code",
      "source": [
        "\n",
        "trigram_counts = defaultdict(Counter)\n",
        "for i in range(len(tokens)-2):\n",
        "    trigram_counts[(tokens[i], tokens[i+1])][tokens[i+2]] += 1\n",
        "\n",
        "trigram_probs = {context: {w3: c/sum(next_words.values())\n",
        "                           for w3, c in next_words.items()}\n",
        "                 for context, next_words in trigram_counts.items()}\n",
        "\n",
        "print(\"Trigram Probabilities (sample):\")\n",
        "for context, next_words in list(trigram_probs.items())[:5]:\n",
        "    print(context, \"->\", next_words)\n",
        "print()"
      ],
      "metadata": {
        "id": "KcWAgezoUEv7"
      },
      "execution_count": null,
      "outputs": []
    },
    {
      "cell_type": "markdown",
      "source": [
        "# Predict next word using trigram (greedy)"
      ],
      "metadata": {
        "id": "ZyO6JMiXUL5x"
      }
    },
    {
      "cell_type": "code",
      "execution_count": null,
      "metadata": {
        "colab": {
          "base_uri": "https://localhost:8080/"
        },
        "id": "jrn39YuBKLTv",
        "outputId": "8842b3d6-2aef-415c-b17c-35f6f54c3562"
      },
      "outputs": [
        {
          "output_type": "stream",
          "name": "stdout",
          "text": [
            "Cleaned tokens: ['i', 'am', 'sam', 'sam', 'i', 'am', 'i', 'do', 'not', 'like', 'green', 'eggs', 'and', 'ham', 'i', 'like', 'to', 'play', 'football', 'i', 'am', 'going', 'to', 'school', 'today', 'she', 'loves', 'playing', 'the', 'piano', 'the', 'cat', 'sat', 'on', 'the', 'mat', 'the', 'dog', 'chased', 'the', 'cat']\n",
            "\n",
            "Unigram Probabilities:\n",
            "i: 0.1220\n",
            "am: 0.0732\n",
            "sam: 0.0488\n",
            "do: 0.0244\n",
            "not: 0.0244\n",
            "like: 0.0488\n",
            "green: 0.0244\n",
            "eggs: 0.0244\n",
            "and: 0.0244\n",
            "ham: 0.0244\n",
            "to: 0.0488\n",
            "play: 0.0244\n",
            "football: 0.0244\n",
            "going: 0.0244\n",
            "school: 0.0244\n",
            "today: 0.0244\n",
            "she: 0.0244\n",
            "loves: 0.0244\n",
            "playing: 0.0244\n",
            "the: 0.1220\n",
            "piano: 0.0244\n",
            "cat: 0.0488\n",
            "sat: 0.0244\n",
            "on: 0.0244\n",
            "mat: 0.0244\n",
            "dog: 0.0244\n",
            "chased: 0.0244\n",
            "\n",
            "Random text (Unigram):\n",
            "playing do ham school eggs to am dog am to\n",
            "\n",
            "Bigram Probabilities (sample):\n",
            "i -> {'am': 0.6, 'do': 0.2, 'like': 0.2}\n",
            "am -> {'sam': 0.3333333333333333, 'i': 0.3333333333333333, 'going': 0.3333333333333333}\n",
            "sam -> {'sam': 0.5, 'i': 0.5}\n",
            "do -> {'not': 1.0}\n",
            "not -> {'like': 1.0}\n",
            "\n",
            "Prediction with Bigram (input='i'): am\n",
            "Prediction with Bigram (input='am'): sam\n",
            "\n",
            "Trigram Probabilities (sample):\n",
            "('i', 'am') -> {'sam': 0.3333333333333333, 'i': 0.3333333333333333, 'going': 0.3333333333333333}\n",
            "('am', 'sam') -> {'sam': 1.0}\n",
            "('sam', 'sam') -> {'i': 1.0}\n",
            "('sam', 'i') -> {'am': 1.0}\n",
            "('am', 'i') -> {'do': 1.0}\n",
            "\n",
            "Prediction with Trigram (input='i am'): sam\n"
          ]
        }
      ],
      "source": [
        "\n",
        "def predict_trigram(w1, w2):\n",
        "    if (w1, w2) not in trigram_probs:\n",
        "        return None\n",
        "    next_words = trigram_probs[(w1, w2)]\n",
        "    return max(next_words, key=next_words.get)\n",
        "\n",
        "print(\"Prediction with Trigram (input='i am'):\", predict_trigram(\"i\", \"am\"))"
      ]
    },
    {
      "cell_type": "markdown",
      "source": [
        "#N-Gram Models"
      ],
      "metadata": {
        "id": "6dtH1nAQS79b"
      }
    },
    {
      "cell_type": "markdown",
      "source": [
        "![image.png](data:image/png;base64,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)"
      ],
      "metadata": {
        "id": "Nkt4M3ckSxGp"
      }
    },
    {
      "cell_type": "markdown",
      "source": [
        "#Unigram Model:\n",
        "Predicts each word independently based on its overall frequency in the corpus.\n",
        "\n",
        "#Bigram Model:\n",
        "Predicts the next word using the immediately preceding word as context.\n",
        "\n",
        "#Trigram Model:\n",
        "Predicts the next word using the two previous words to provide better contextual understanding."
      ],
      "metadata": {
        "id": "Q1_P_XYATIkG"
      }
    },
    {
      "cell_type": "markdown",
      "source": [
        "![image.png](data:image/png;base64,iVBORw0KGgoAAAANSUhEUgAAAp4AAAFLCAYAAAB/bYySAAAAAXNSR0IArs4c6QAAAARnQU1BAACxjwv8YQUAAAAJcEhZcwAADsMAAA7DAcdvqGQAANeqSURBVHhe7J0FvBVFF8BHkU/EFhVMVAwMxATBwESwEFuxsFGxsRUVWxAECxVBbOzCxkRsMbCxA7sxcb75n7fnOm+5sffFhQfn//vd93Zna3bmzMyZOWdmZ/EBZxiGYRiGYRj1zKzJf8MwDMMwDMOoV0zxNAzDMAzDMCqCKZ6GYRiGYRhGRTDF0zAMwzAMw6gIpngahmEYhmEYFcEUT8MwDMMwDKMimOJpGIZhGIZhVARTPA3DMAzDMIyKYIqnYRiGYRiGURFM8TQMwzAMwzAqgimehmEYhmEYRkUwxdMwDMMwDMOoCKZ4GoZhGIZhGBXBFE/DMAzDMAyjIpjiaRiGYRiGYVQEUzwNwzAMwzCMimCKp2EYhmEYhlERZvGBZLtWvPbaa+7FF190//77bxISbj7LLK5JkyauRYsWbq211nLzzjtvcmTaQfxuuOEG9+STT7ollljC9erVyy244ILJ0Sr++ecfd80117jnnnvOzTfffK5nz55uxRVXTI6Wx8iRI91ff/2V7Dm3yiqruHXWWSfZc+6rr75y9957r9NsIC7bbrutbE8vfPjhh+7RRx9N9pzr1q2bW2ihhZK9/3jjjTfcs88+m+yFXs2ss7oePXq42WefPQlx7oEHHnCfffZZsudc586d3ZJLLpnsNRx+++03d9NNN+XybaONNnKtWrWS7VJ8/PHHbsyYMW7KlClJiJMystVWWyV71UEOX3/99WSvqlytscYabvXVV09CyuPpp592b7/9drLn3HbbbecWWGCBZK8wzzzzjHvzzTdle7bZZnN77723bNcG0u/WW2+V9+H+f/75Z3KkCmSHtF188cXdCy+8IPWMpvmyyy7rNtxwQ9k2CkO6Ucd8/vnnUtbIa+rlusrDYjz++ONuzjnndGuvvXYSYhjGTE+oxOuMTz75xM8zzzy0CvILyps/5phj/P/+9z8fGhDZDo1tcnbdEpTJkvf++++//TbbbONXWmkl//333/ujjz7aL7zwwj40wskZ3k+ePNm3b98+9w78iPvo0aOTM8rj119/9TvuuGPuXnPNNZefMGFCcrSKr7/+2q+22mq+d+/ePjS8Sej0xemnn557h3HjxiWhUxMUKh8amty5++yzT3KkiqD4+6uuusoHhd4HJSYJzU6WfK4UoVORe89rr702Cc0G8rfyyiv7oJzL9ZSRSZMmJUer07Zt29xzkJ+JEycmR2oGeXDEEUfk7vnKK68kR4pDum+yySZyDWWitpAGoePhgwIv+6HD54MSnIvXpptuKmU2JihRvnHjxiIHvEd98uqrr/qg6CZ7DZPLL7/ch46Kv/TSS/0BBxwg6brxxhvXWR6WgjwNnXt//PHH13t+GYbRMKhTUzsjiPHoFSMpF1xwgTv55JNlJKN///7u3HPPTY7WHe+8847bb7/9qo225mPYsGHu7rvvdptvvrmbf/75XVBCXVD6ZERT6du3r5t77rldUJJdUAwkjLgfdNBBJe+fD3r7Z5xxRrLnXFBEXffu3d1PP/2UhDgZPdx6663dLrvs4oICkoROX2Qd8WV0Kh65u/rqq91ll12W7FWN1u21116uXbt2ZY8iZ83nStG6detkq3yQv1VXXTWXVoyKX3HFFbId88QTT1R7DmVsmWWWSfZqBnnAs8uFEewVVlgh2asdv//+uwuKpQtKtdt5550lrFGjRiIXCiO6jMrFYDnBarDrrrvKe9QXf/zxh9ttt93EItFQwXITOtcyQhw6LJLOe+yxh4x2Vgry9KKLLnJ33nmn1KmGYRh17uNJRZMm9LCTLeduvvnmZKtu+P77792OO+7oJk+enIQUJvT+5T/mc1Bz8bhx48RMjEKDqfvhhx8WhRnXgeWXX17O+eSTT9y3334r2zWBRqxZs2ay/e6777rdd989ZzKEpk2bTrdKJ5TbyPfu3TvZcu7www93Y8eOTfaqzLQo9+VQTj5XitoqPihyhx12WLJXJZ9///13slfFlVdeKZ0ehWvqgprGva6UPZSQ8ePHuyOOOCIJqSKuPwq9K2WlPqEeOOCAA9yECROSkIbJRx99JC4hwDtRD+P6s/TSS0tYpWjcuLHI+YUXXujuu+++JNQwjJmVikwuikeo4kaDUT8qI3rh6623nvgbqQ8Z4PPVp08faaQYiYRrr71WRtX4/95777n1118/5/923HHHybmxT6Xyww8/iH8YUBFC3Mg99thj0tAde+yxSYiTkQEdkWLEIPZrxE+PUUqUgrSykA8q+1GjRuVGcPC5Ou2002S7EPhWcn/Sh1FZGhJlyJAh8q78GMVlhKZfv365sOeff17OK5WGylNPPSXKYpcuXcTvklGK2owsorhvttlmsk36oDR++eWXsl8IRvf23HNPt9NOO7mTTjopp2QWymfiqO97wgknSOfh+uuvz4Xx3rwXSuvpp58u+xMnTpR74F/JSCyj3ozMc308uvXpp5/KSL3ea9KkSeJriTwcddRRyVlTc9ddd+WuOfPMMyVfirHmmmu6Dh06yPYXX3zhbrvtNtkG4kMe4N9YjLfeektGgnkP0g55SMO9yV98IhkF+/nnn5MjU1MoHwpBpwz57Nq1q6QN92dEsxDk59ChQ8Wvc9FFF01Caw7+2rw75fG8886bqlxhZSD/6eztsMMO8n6F+OWXX0RWtWwwCk1eksZAZ3H48OFyLywXV111lYQDnQTNezrY+Dtvv/32ovDdfvvtyVlVlEoz6qsTTzxR5JPnUN7jeu26667LPQtlkjKGvFKuUegp/2effXZythN/5BtvvDHZy0+xZyLHlBF9JnXNd999J9YcDTvllFPcBx98IOXw+OOPl3312eV+oCOwhmHMxIRKoE6J/dFCJS5hQeHJhV188cUShl9jUMZ8aOBkH39QjuMj+tlnn0kYhMZEwps1ayZ+SnqfUMH6oFT4oAjkwrhHaDCm8gsD/BL1vPPPP1/C3n333VxY6JFLWJrQoMvxAw88MAmp4pBDDslde+uttyah+QmNlg8NuGwHZSl33SyzzOKDoiLh55xzjvivKfiWzT///Lnn4pvaokWLnB8g//U+hx9+uIQ98sgjubDQCEoYFEtDCEqi7OM7iI8rPrDshwZRjsMtt9ySu66YjyfsvPPOkgf48LVq1Sp3XVCwcj6soUGW/wp5FxR/HxpHiQPvij9hULwK5nNQDuWdCAtKjNyH52r8F1xwwZxf2eDBg/2gQYNkG4gj55BmoVH1rVu39ossskg1/8kBAwbknjlixAgfOk2yHToscl/yS48TH2WFFVbwRx55ZF45jOnRo4cPjb28s96nY8eOyVHvg+LqQ4fIB0Utdxy/0BjigE/tBhtsID6YWo5CByo5w/ugwPqgvEo4z3r44Yf9Ukstlbtn7ONZLB9A5V79A8nPZZddVvwxeT73nmOOOQr6qwL+ftxjr732SkL+Q2WRX+hgJKHVWXfddZMt79955x3xjw0KkMSRckReKtRB+E+vssoqkh+ho+tD588/+uijyRnVoU4IHZRcHIgreat1EvUBPqb4s7/88styDv7PgD83skEYaRI6jL5bt26yTzj1AJRKM2QCGZp33nn9t99+699//32Jc+ic+6AIyjn8V9mnLIVOgmxrfJDjWH5DBzZXbtN5CFmeSTz1flo3hM6wpAdh+OcqxCntO4wscR4ybRjGzEu9Kp40YlTiNAxMiqBCjBUBzqGioyJmwo1eR6On7LvvvhLGPZh8Q4XKhJX77rtPjtM46XXFGvp77703dx6NG8QNOkpAPpZffnmJ4+eff56EVKETS2j0afyKESue0LNnz9xzUbSZ3JRWPHWCk1bSNJjsn3DCCbIPeg9VPF9//fVcWKx4lkrDBRZYQI6fd955sq+ToWiIlJoonvDGG2/4ueeeO3ctExwgVjxp6FDqaOj0OhRtzn/wwQdlv1A+n3zyyRKGEk9jCdtuu23u3CeffFLCmOCgHaE77rhDjtHw0vDDwQcfLGE8V0Hh0Pug2KHAodCp/ORTPJH5fv36yXYpVPHkfRZddNHcvV566SWJ1xZbbCHnFVM8UaoIR0kFOnTskx7cB+hUpa/V8sdPFYQs+ZBWWjQNkKHnn39ews4991yJcyHatWsn18SyrJSreOr5a665puQPoBwqKjd0fkGVRTpBhbj//vtzcUDZUjS8U6dOSYiX8ovS+OOPP8o+dQXnoKwDZVvvdfXVV0tYqTSjPHMcxVTRzhT1gKKdOuKA/D3++ON+9913z5UD6h2O8xs+fLiEQT7FM+szUUQJa9mypdTlyAkdPMIo53RWCEfpTkMecV5cFxqGMfNRr6Z2TFyhYXSjR48WM+upp56a8xHDpNuxY0cx6+DbqKYsyGfaw+SDqZSJFUwSCo1ycqTmhAoy2XJ5/StDYytmwVCpT2USxPzNMUxL6geaFUy8uqQSJk+WT8LEp2DGx6wLoUET0xn/oZiZsBSF0hATLPlEnHB/wCwL+fKhXJigRfppvmO6xCQZg9sBzwqNtpjpeF8mRkCp9w1Ktdw7yLKYHEknlosJjaocxySJCTMocuIuAZjjgfPUj1D9fpFV5DZNUGbcwgsvLKZczIr54D0vueQSMXmWQ1D0ZFkvBRMnvnDq5lEIfBBJK1A3EH0P0iN0FmRbTe/xpKR8PrY1yQeeS/rjzoC7zIABA9yRRx7pgmKSnDE1+DhDuX6+isoSNG/eXP4HJVsmKj300EPigqGoTznvwfvoUl6Ur1JuEGn0XrjgcC9+bCNf6tqiqHuEyiGoXJVKM5Z7g9i1R/MVd500+KVj+g8Kschg1mW9YrI+c//995f/1FEslUR64+IA1GFMIsKfm/dKExRk+R8v5WUYxsxHvSqe+IkxqSb0/nONvrLccstJBUWDi08hPpZKrBAq+IYyo7emsE5imvg5KBUxNBKHHnqo+KBqxZqGdQTT12WBxgifL1VmqYgHDhwo24Ayq+C/xrqLNAgoJLGCUi6F0hCfOJ5BHuDXp+TLh5rAup+x3x3p+nfkF6vv+8MPP0g8+OH7xvsy87kYSy21lPh/AoonygF+sZpnKF+sExnn4cTEzzNWClD+AAWF9Q7TlJrBTsONjzIKCI1/uTCZReNz4403uksvvVQ6N8XQ9wC9Vt8D8AkmD/FXhVKzmWuSDyhL6vNKxwalnHgXmhgE2smK46rESmUh4nNYCUJ9ZPHDJb7qd8m7oyDBq6++Ku/DPu+DckpnpBw0fUhXTR/8GLlfMUVb0ecVSzM6ot98840cyyefsZ+3UpvVFaCcZ+JLy0odMGLECOmoXXzxxbn6lY4e5Q1f2jTqWx+v6GEYxsxHRSYXFYLZzuuuu6478MADRRkpxhxzzJFs1QyWYNGKT0dxYsWKZVpiDjnkEFn8PJ51Sw+/rlhkkUXcHXfckavo44kFsZLOKA5poz9GNmpKoTRk5IaRSRoRRixKTWapCTTQNFpAYxs3+vq+5AcKYvy+TJYoBcszAQ0kCiCLVevC2ChRTLJgCS1FG85YgVGZAF19IKaU/NH46yLZjCDHi+RngQ6MLivEhAxG0dOdtTT6HqDvkn4PlBlVOEuN8NU0H1gmjY6TWg0YIYsn3aTRkc58il/8zoUUw7jcUqYfeeSRXH5zjDJLZ453p7MFjArG78MvTr8saNzIn/S9yrV6FEoz8kqV9nzyWRPZLEU5zyQNtBwzEY5rSWOtlxgBVatDGr1fKbk2DGPGZpopnqzvOHjwYBn1Y+ZnTdEKsxQoeJj3QU1e2rBR+cdfQGG06ZVXXhEFjMYA8zCNCyMcCqNN3A8TLIpUTWDNQmb3pqER0waJUYWY2KSnSitm1fh/OdBQM+OUkSDMaLVtxApBg3bNNde4Nm3aJCH/EYfF78v7vPDCC7JdLJ+Zhazx1jzmv47CYILUTgfoCGk88qLLzjAahZJSLszQ5v2IB/dlxnK50BED0oqOTynoLKlSqe+i7wHamdL1UlklQcknK1nyIQ1uGZjyUfZYlkw7LYwwFkKVtHwuDfE6ofEqAwrlLjYH82wUHWaaM9JMuSG+uoIFHU5gtQF1V4GXX365mpIeU0jWNH3o4MSuByyzFlspSlEszYh/+/btZT+ffKY7yHVBuc/EkgUc17pbFX/SVMtgGh3pxlJkGMbMS50rnvHIXbERFipcoBJmiY3YFIvJTBtJvUehRiLujTPKhEJbCEbdMB/pvbWxOPjgg3PKBg0KDQJL96CI8WNEFt+9+BOFF1xwgfiA6qL0xcC/NZ/5Fhiti0dVAR87NbMyyopCgiKMoh4rD7pYP6M7NKosGaPEpuxiaUjc1JSGyQw/XM0bGhZdwii+Nr53Pgq9LyMdKADpURtcLVQZ4QMDKP40wqz9x0LrUCyfGUFDeUZhY5QaWCpLt/W/QieCNCbNdFkhTVeWD1Ji+c2Xduk0QWliCSVgFA6ZKQajsXFDj/LasWNHWYYqHkGLy1TcyeEdGF0FNSnre+CCgJsL6Dqg+G3iC0m+xn62ambNkg/6zvofhZ4lyHgP4q/+rWwXguWFQH2JY+gU6OL2lCs+GqCQV5TV4447LgmpGn2k/gBG3RiNQw60rJLXQFqjJCHb99xzj7i65DP1QyxryDGfecVdAXcI7cBQbvGJZckklg5SFxZNFy0jaRmBUmmmMqh5SgeZ5ZeIL9cpperGeMQ4Pke347CszwTyD2UZBVLdHLCYsDQYZRy//XxQr0MWK4ZhGDMwvo5gZiwzjGdNPgHIb5dddvGh0k7OqI5+WpHzg9Igy5PorMfQ8Mgs8tBIVJvty8zvUFkmd6iCJXvWWWcdOc7nL5l5Wgw+z8eyOcywDxW9zPLWe7I8j87QzPcLDaWcB8xQJYx3YAmWQlxxxRW+TZs2MqOcZ+ab7cvzmU3KbFclNEryOUF99uyzz+7PPvvs5GgVzP4PjZgcZ6mSeKmkDTbYQN6nVBr++++/fsstt5RjpAuzX5nBHhocuTczWoOCnvtUIj9mredbLicoKfJZ1NDwy8xj/RRiGpayYeZ5DMtHLbfccrlnkJex7JTKZ87V5aEUZvkH5Ty3kkIMSzS1bNlS4hE6JJKPOvMZSDtmL2t8WPYLmVR+/fVXv+uuu+aOkz7Ix0MPPZQLa9KkiXweNA2rCjCjmzQmn0aNGpUcqZLPoHAle1WrCTC7Xe9JeeHaF198UY4HZcaHzpEsvcUMb1ZDYGUJXboHeH9WEyBfkENmwuuSRkGBkFUPgvIp5xbLB9KM9NRjyDOzmJs3b+6DoufPOuss+U95Jl6FYBUI3mOttdZKQqpDOm+99dYSX9Kwa9euMrs+KKVTLYPEp2xZGioo6/J84qKrMyisrKHLHPFj1YagzCdH88MyZpzL87mvcvPNN+dmrvOjrgrKvhyLVwpYbLHF/Pjx42UZIw0jbyhLWdLssssuk5VAmJUfOhCSD3feeWdytGr1BNKH+1JnsVJDDDK29957555N2o0dOzZvHmr5KPXMGOSHa2OGDBkis+rzQX1GfJG3YrJhGMaMzyz8CRXQNIGRHEZwGLkBzL6MvoQKT0YtyoFPXzIqoyMSxcDEx0L1mPnVzFUTmNVO3IlvbWH0DROfzvxUGMHi3RiJ0lGnGEYXGY3BFzSeGFAupDsjPcQBGF0iD2o687gUjKboiK1C/jNTm5GhlVZaKWdGjimUz4zQkA6M9MUwgzoePYzheYwCIoeYo9Np35Ag/95//33xrWPkNR+kD6OMrGCgZs98bgVZ8iEGkzh5wug45SGLKZVRWFxYkINCZZARMvKPkTlGFLlvul5g1BC5Z/SP0VHyX2e6x2AOJ32CQph5kiJlEjlL+4IiL7wro3vITbl1FWRJM1YYIB8YdYx91OuTrM9k8XisCjrzHahXqTd00mQMk/6YCMaKEjoSbxjGzMk0VTwNw5g5wdyPmRbzPhNtjBkbJpHSAcQX1zCMmZs69/E0DMMoBaOI+MEyWY7VFIwZF3zrGTkvttKBYRgzDzbiaRjGNAMXCSboMaFq6aWXTkKNGQXWBsZlg5FtwzAMMMXTMAzDMAzDqAhmajcMwzAMwzAqgimehmEYhmEYRkUwxdMwDMMwDMOoCKZ4GoZhGIZhGBXBFE/DMAzDMAyjIpjiaRiGYRiGYVQEUzwNwzAMwzCMimCKp2EYhmEYhlERTPE0DMMwDMMwKoIpnoZhGIZhGEZFMMXTMAzDMAzDqAimeBqGYRiGYRgVwRRPwzAMwzAMoyKY4mkYhmEYhmFUBFM8DcMwDMMwjIpgiqdhGIZhGIZREUzxNAzDMAzDMCqCKZ6GYRiGYRhGRTDF0zAMwzAMw6gIs/hAsj1T8+mnn7oHH3ww2SvM/PPP77bffvtkr2ast956buGFF3a33357EjL9MHHiRNevXz+32WabuR49eiSh9c+HH37oHn300WTPuW7durmFFloo2cvOL7/84u644w73119/JSFVzDLLLK5x48Zuvvnmc8stt5xbccUVkyNVjBw5sto1q6yyiltnnXWSPee++uord++99zotLgsuuKBbdtll3bPPPiv7MOuss0qazT777EmIcw888ID77LPPkj3nOnfu7JZccslkz8jH448/7i655BL3xx9/uHvuuadgWBZ++OEHN2LECHfZZZe5K664wm244YbJkRmDsWPHuvfee8/tvffeSYgxvfHPP/+4O++8U2RwjTXWcBdccEFyZMaCssk7brvttu6bb75xr732WnKkMCuttJLUzZdeeqm0AU8//XRyZMaD9Dn//PPdW2+95Z544gm36667uueee66aLvDOO+9IGt58883uyy+/lLCaMnr0aLfbbrtJGxS3ZdMDNuKZgAJx5plnSkMFFJz999/fXXPNNbJP5UHj16dPH9mvDcsss8x0q3ycfPLJ8s577bWXKHGVYumll3ZffPGFpDk/FOCaMPfcc0thoxOh9yJvF110UffTTz+5ww8/XCo7CuLHH3+cXOWkM/HQQw/lrkHxfvPNN5OjzjVv3txts802ovxQoW6xxRainLZq1codccQRcs2+++7rDj744OSKKjbffHOpWJGbdddd15TOEvz+++/uzz//lMry77//LhiWlc8//9x98sknopyVC8+tNOU8k3L6zDPPmNI5nUNbQvsxZsyYXMd1RoO6dY899nC77LKL1OXI5rXXXpuTZxRKrYth8uTJbvjw4e7KK690v/76q3vkkUdEMasPSPP6unc55ZW0oe258cYb3SmnnOIuvPBCaWPiNgFZIY1UD6kNDLLQPtEmTncw4ml4P2zYMP/qq68me96HhooawgdlIgmp4pBDDkm2ZkyGDBki77322mv7KVOmJKGVYdSoUfJsfuPGjUtCa0b//v1z9zrnnHOSUO+DQusbN24s4W3btq32jqEnmruG3/LLL+9//PHH5GgVocLwY8eOTfaq2HnnnatdF3rvyZEqgrLkO3funOwZWVh11VV9UNqTvSryhWUhdCgkXx577LEkJBuhsyB5V0myPvPRRx/1G220UbJnNAQaNWrkjz766GRvxoE6dOONNxaZVI499lgflLJkz/ugYEoZDMpoEuJ9UAZz6cH1a665pmzXNffdd59/+OGHk726JWt5feONN+T90SuUoGD6v/76K9n7j8MOO8zPPvvsyd6MiY14Jqy++uouNGzJXmH22WefZGvG5NBDD3Vff/21C4qfmI4rCSODdUWo5JOt6jDavMIKK8h26Gi4t99+W7YVRkubNWsm2++++67bfffdq41SNG3a1P3vf/9L9v6jd+/eyZaTUVVMoMpss802ffY6p2Nwi0iTLywLNblu/Pjx7uKLL072KkPWZzL627NnTxca7STEaAhQD8yIDB061P38888uKI9JSNXoXpMmTZK9/OCSRH0LNS3bpSBeRx11VLJXt5RTR3AuxG5Y7du3r9N6riHR6LRAst0gQCm6/PLL3W233SbD++ojUlsWWWSRZKuK77//3g0ZMkR8cjCxKnreY489JnFYbbXV3DnnnCPmVwQJJeWuu+4SUwN+PcS3TZs2OSXu33//FZMhP84HzAAMv2MOxG+Q9+P6eeaZx7Vs2VLOKQRD/cOGDXM33HCDmJep3FCuivHkk0+6I4880l133XXi24qZA983wilImEXwQdl0003FtHnuuee6u+++W0zRc845p3vhhRek0cMvEp/X5Zdf3oVepYQRF84hXwBTCu/GtZjSv/32W1HMeD8qppVXXlnOA8wOt9xyi2zvt99+bvHFF5dtTDGk8VVXXSXvidl7qaWWkmOFwFyhPru8B361ytVXX53zn0FhxF8TiBvpEXrr8hzyCuWTPN1oo43kHNKG9MV0r9x6663io4S/zgcffCDX3X///VKpqsI5atQot9NOO8l2MV566SUx5yNbkyZNkvSJGyzSCD8h4hN60e68886Ta9Zee+2iFVYpuSwE12ASI89xTUDpJr3wh+WdXn/9dYkj6UVeI4/kPaZF8osfLhs8S8kSF/wxUfJR/JV8YYVAXilH5Bf35XmYpFVuipWb559/XvzUqAM4n3Ru27atHHv55ZfFB4s8x1eLTgxxUmhgqDcoPypPlGllwoQJbvDgweKH/N1338l7U38Ve2Ya0oH3ocFPKzOUV8olefHiiy+KnGpHqhCUL9KCOONOtMQSS0jZJJ8KdeCyUKpeI31Ix1deeUXSgvSnTse/jXT88ccfc/nFuZQxyhOdRcyU+GovsMACNU5zwKcOn0vqP+LGsylHpAP3pXNKnT/XXHPJvamfCOf6Fi1ayD1iisUTV6527dpJ2eUcTNGYQ0lvyghpxb354VOu74DvO3UzcaG94R2QQcoiz6HOvummm6ReJK4cHzhwoJRPyupiiy0m91GKpQfyg1zxnsSfOk3bqXxQzrfbbjspkxtssEESOnV7SrnBN5tz4wEePY+2CPP7AQccIGX3oosukrKQLgPlyDftzY477ij1I3mF2w1pQfsEtEmkHelLnuMiAMiB5gNlnPShnqJN0TzIWl6nTJki8cXNgmvJa2SOvCIeaV0AiBf3x+0tplB8C0EbRz7zzsgfUNciG/h/MvcAWcgy4FbnhMqlwRAaOR8KkgxZ62/rrbf2oaFPzqg7CpnaMQ+ceuqpPlT4PgiLP/TQQ32oWHyoBPxvv/3mDzroIDEH/vnnn2K6DY2SDz0uuTb0vsQEwX3VZPjhhx/6oKBIWK9evXwowP6YY44RMzD3DIqMnJcP4hIKgT/99NNlPwi43Cc0SrKfjyD0ct8zzjhD0g0zdOvWrZOj3nfr1k3uEQ/1YxIgjB/mTkwBeh7mo6C8yW/77beXsNDQy3MAU0KoHCV8ySWXlPTBnB8aNgkLiomcB6GykzB+amoPFbK84yqrrCImjVCRS9rHZp18hMKVu1dsav/kk0+KmtpPOukk2Q4VX+76UCnn0pR7BSVMthVM7cQtVEK+VatWues6dOggcgCkTSmCgu9DRSnmfeQC+SKOoTGT4yNGjPChApV7B2XQ77nnnpKe5MH+++8v5xSimFwWIlRyufT46KOPfFCyxFwdGnbfs2dPiQflI3QkpEx06tRJwkLj7ffaay+RCZ5JWFAw5D6QJS6Y3bSMKPnC0iDTpMuBBx7oQ0PmQ8fBB4VG4qCm9lLlBnkPSqqEBaXUh0ZDwoNi4END6YNSIHm0+uqr+9AxlWMQGlfftWtXeS5yS5737ds3OerFzEg+cT3uGvPOO6/UX1DomflALtZZZ51k7z+oX7p06eJDR1JkkTyaY445fFBakjOm5ptvvvGhAcuVJ9xEiANptv7660tYTchar5EWoVH0W265pexDaDAlbbTMEH/el3vh6kIaU8eEhrlWaU6+k5/cl3pl3XXXle2gZPjNNttMtkMnVc5VKP+77LJLXvNqsXgCdWpQrCSfQ8ffhw6b1IOhQyfHgzIg51POYjM1dShpFBQoqRfJF54ROqA+dNDlfcmvoBz7p556ym+zzTaS1qEDKPlPeVWKpQfssMMO4poCyCDxK0boYEtcgvKUhOQnn6k9hnJN+T7ttNNy9QPnB+U5OaN8+aYN0naAtMLcHjo2coxnhA6+/+GHH3zoEEkdHzogciwoZLk0pp6F2267TfJLTeVZyyvtC2lEXajvzz71aVoXUHA/SJvai8U3H+QhZY37x20pdQfyQLzOO+88qbOnBQ1K8dSGLf0LPZTkjLqjkOKphN6dDz13//7770tDhu8gUJD79esn27DJJptIAxVDxRILG5Umz+JcrXBCT0TCaPwLQaXLOVQ2QKOLUkWlVgiElWso5FQ+QOWl0GBzPBZ8GhHC+OHTAho/flRy6TCUJKVly5YSFvvw7LPPPhK20EIL5SrxfIrncccdJ/vamOg7o9QVI1Y8UYKoOAYMGJBTQsg/zTMlVjxBlSt+5PXbb79dVPEEfHlU0eZHQwOlFE/eF4Va8wR4Hg1RrFRqZaWNA6Cs0iErRha5TEMlpRUvkIaqvKms4WeI/ANyTENAPlNBAhUcedyjRw/Zhyxxyadk5gtLQwOHMhE33IMGDZI007hnKTfEj3NiBYMGnbgqeo42ZsgqsqaQl2eeeaZsT5o0yS+xxBK5jgjQ+eN6FA7I98w0pDEdjT322CMJ+Q/ij4wrPIv8aNeuXRIyNXQaFl988WTP+3/++UfyC+WqtmSt12ggY8UTaOTjMkPDznXqY0/ZRe5qm+Z0mNin7oE333xT/qMYIBMnnHCC7CuUNT0nH4XiCdSptGGkC1BXcC6KhEJ9QUdMyw+QZnF+ILdcd+KJJyYhXmSbMOoK7UwzUEMYZQJKpQcDJyg01PcKClMxjj/+eLk+XZemyaJ4Nm/ePNchoQxQjuP3rol8a1rFPp50MGNlGzbeeGPJH0130opygGwiuyi8cbpAlvKqXHbZZXJu3AmAtC4AacUzS3zzQUeZZ2pbisJL+xcPtpTK3/qiwfh4hrjmZsSlif3pKkUQeFmSh1ljQQByZjpMrKHSkW3ihbk0CK7sKzrUr3CvoGC4tdZaK+cXo/djKL8QoVDI8HtQwsT0yZIMmN7Sz4thiB8wP+j1mDWyojPwYvOiugPEYfjWpFHTOeDCAMziC4qAbOcD0xdg0sH0oUsTYQIKFbpsl4K0wRSFKwCmcGa0h4o6l8aFwJzFucD7YFrBJFYMzM6hcs2ZrjCLYhYqBaY30oelNRTMuJjlMHWHSlbCMPlB6JHLf+A9iskJZJHLNCxnddhhh4npnzTcaqutxBcaeD9kFbM68g/IMSYtTIuYEAG55r3i+NUkLlkJDZO4VWg5AuQ8piblBvr37y8yAaHDKSZi0OtIr5EjR4orCSZX8hLTIYTGQ1wwgqLjQmMtv9BYi4mNc7OC/IaGQ1xc0iDjmOj0/jwL0y75UghcN1RWAdM6JjzM47WlpvVaPvQdkEHgPshdbdM8fV9dZo06jVna5LfWZUGpFVeA9FJsMYXiqZAWeo6mBeZuhTgik5hIFVwUDjrooGTvv3pWyyLovULnLOeyonW1pnWp9CCeoVMoS75higVmXxeDcgD55LFcqCfUfEx5xCwdp01N5Dsf3If31fvww2UBEzrmeKCdpO7GPE4bQH2lbh91SVoXyEeW+OYjfW/KCvVH165dxcQOpfK3vmgwiieVIwmXj3y+NtMKGjN8NvB5Cb1mKUgozTFxRa+kwyh4QCNTCCoYGll8MCkY+HFQKaWfF4PTN3EEGnyEED+8uqZYvEEVEyhUeKgkdckjKgD89djHnwtludQzFHxYUN7UZ4oODEpEKaiIUUrUnxOfJ/xjSsEapLHrNBO2Qq842csPSkw+uUCJQ+kOvW3Zz3cOskJaFSOLXKYhjWmAiT8NGz5oNEyKNnAxhKXvS1gcv5rEJQuh9y95pJ2rQtSk3AB5QSOOryj+ceobpdexlBY+bCgNpNuJJ54oDQTQwLPNM/XH+qLIIgpOVvDHhFiZAZRffLq6d+9e7Rn4KvIrBIoQ5S9ea5ZGTuuI2lKTeq0c6jPNaeBROvGrA/xgWTKtrmic+GTHdQNlgTqaskdeT548WXwZO3XqlJxRuNxBLMMapmWvVHrQ6cDnGWVvyy23FL9xrilGIXmsC0gfTZuaync+eCc6n/F91IeTgQOFgQb88qlTGGCqD/LV52myxjdN+t50SvAzHjNmjPit7rzzztLJmRY0GMUTekczhxUKUs+ePZO9aQuFngKMUFCg04uJ1zU0gvRWcdZnVE0nwBSDwsxkIhpPoFJiHUoKVyWJFZFCvT4qTu3d4ySPAhT/svQWFc69/vrrcw0fjtvFRloVnN9RMjQfs47M0ZOkQQQKd6mGlvjhDJ9WflSJihX1cqmpXKJsohAzGksDgMwMGjQoOVoz6rOM6Ai4ThwrRE3KDTDyxKoWdFpYlzU9qYGRFybLMFkJJfWcc84RJQKQOzoPTJhJU2oUPUYnCaCQxKA0gI7CxhS7/0knneQ22WQTmcyHFeTss8+WRvass85Kzpi+qc80535MTqGzyflMekHxqWvSZf6EE06QThTljtEufZ/akiU9GIhgFJOZ4EyYReHFulSIQvJYV2ja1FS+80E65LsPdXT8HkzEIYw2gE5yqcGD+iJrfLNAeWciFBOmR40aJR3MfNbJ+qZBKZ7HHHOMVIhU+GjzDDVjMquPIfCawIgcs/MYRUFY6htMoJjK1GyZBSpPKh5GADEJMzOSwp3lKxN1CSZ2IB9jk1EaFmkHzERxhYnSyEhgOWCWwTwDVCIoPVkKLtcx07MceC9mR9KzzELHjh3FnJ7uvTP6gJzXZlS/pnKJjHB+r169pLKid82KALWhPssISjomP2YA//bbb0nof2hnJ0u5SY8W0Hk48sgjZZSATlA+UKQBUyWjVMgXcouiSx6Sv/369ZNzFGa4qlkz/cx8YI6k86jmU4VyjNsDygodmBhmVheCBp2RQkZCKF877LCD1Kko5ZWCuKsrSUzcOS1EbdO8FIygMgLMyBcKuo5S1ifkI6NtuI1Q3vbcc8/kSO0olR7UhSgjlCGezccJKKN02AuhpvG0PNY1NZXvfGWKdECZZpZ9DPW1vgeyh/sGHW3yAMUvvQBQlvJaF2SJbxZwL8NiiAsXHX/cSFgBgoGoStOgFE9GwLQiYOQJYVAfvLpGTQj6Pw29jXTjphUlZkRg2QMUJPyC6Gmq2YJGLO49sc39YkVK71Wsl8U5XIfgcC0+KcQJYUSByVdxU/Hg6wj04hiVowCp8qdxiOMSb2t88oWl3ykNPpqqcDLcD/GnMfPdk5FNYARg++23l/VFKYDql1eIeGQy9gVFfviCEDDKy2ivwkhZIbM/X3KKz40pdB3+mDSCpZazAZZwYvQ+dgEgDRjJiRsKfZc4rUrJSla5TEPHRF0dyCPyShsa4HlxPCAtx0CYxi1rXNJlBPKFxVA/oCQjY8iNxgO/MKCS5fos5UZH01lOC1ml3HAN28SDUSFGwoG8Ry5RzjUM2URmaMQZrWaEAVcPGklGF1HuaDgwFas/YPqZ+UZyGOGjk4KvVhrKNddwnMaSZ+AbqKPmxJvRZlxVFEYIUdh4B5RQ0gD/r7jM5LsO32vKEc8oBGmdlod8sopMUZdTr/MsOgb4UxInPY/7QLrOrW2aF7qvgjsFZmeuVd/RYhS6H5170qFUWijUU4y4oSSkrR2kEcT30ufmC9P7l0oP4sPSUno+plmUnrjMp2GpOsgnjzGl2lOeGccdiE+cNqXkOx9xmaL8U9fQ4cTKwkgyA1nUQSxR99RTT+XmITBAwXH2sYjwHEzcLNmlZCmvig5wpEcXyct0/hNGWuhob5b45kPlRO+PTMZKOtYb2v5i+VtvhJczUjDDkVlsJA8zcAcPHiyzHCEIhCxrEBoAmQHILGidicwxXYZj0UUXlfNCBSL7zDYMlbksJRR6zT4IrQ8Nng+Vi8wU5xyW4mHmMMtrMFOcMGa9MRstH8yQY4ki4tGmTRsfCoUPhVKWKxk2bFhyVnWYvbjUUktJPIMQy0xCllUAZgAGQZbn8mO5mSC8MtNSw5hByEx+nZXOj68cMfOyZzQLnPOCEiH3bZnMau/QoYOkq65OwD7vD6Hiktmvej0zxZlZCKRPaBRzx5hZGhRLOZYmFGw/dOhQWSJGz2cmJzNHdQYgz2KWuh5nuReW2yANSTveW5fNiCF/Q0Wbm9X+6quvSj6R/izFctNNN0l4mlBR+G233TbZKwzLgpCfoRGQmdgsWRXnY6hoZeku4szyQ7xHUGx9aEwkjBm+QQlOzv6PUnIZKvjkzOogS9ybtBsxYoTfcMMNJU+DcpKbDUzaMnvyu+++EzkiLZhhzzJZzPYOlbXM1g9KteRLqbhwPC4jXJMuN4Qhl/kgnFnO3G/hhRcWGWOWaFBKJT2Z4Zml3AQlWMoG5RzZAOSC+yI7obGWtGcfWef9kYWgoMt51CFbbLGFv/fee+VaYGknnsc1/IhDULiSo/mfmQ/qDc7JlwY8m3Ti/rxfPGsV2SAv1ltvvSTEy9JBLJmjcdIfS/NQF0G+65hxznmUs3yUU689++yzkq/Eg6+FhY6CzGrnutBQ+qAYS5ngOpavitO0NmkeOrASD8J32mknHzrGEp6GcpeedZ+PoNTkjSftAzJI+DLLLCPxpD3RtGA5O5YISoNMplfQCJ1lWfKI65jZTJ3BLHute6mLWd6HOjoolxJGWuqs7mLpERQnkSvq5xtuuEFW8OjevXtuVn4+glIj9TszvPNBfUxdoPUWy+KxUkZQxJIzqladIP+DciVtLenFLHD2iQ/yrhST73xQRpBbyj95THzh7rvvrrY0I+9MvQasZMC9g3Ir+9xD07dZs2ZS/0DW8nrttdfmVlPZbrvtZImo0JGdShcAyoS2l9SLofMl4cXimw+W3qKt4lzykBUUkHeexUo9LG+HfLCqwbTAFM86hkacClYbBRpSGrr6gufwPIXKg7X5CvHjjz+K0oYSRoWvyl19ogWJhp/0oYJHUS0H3gmlgXU4pyWkGwpVucR5VAzkhfSh4iikXNeEmsglskQDQcP/2muvyTV1QSXKCA078hJ6+ZJn6fTPUm44RzsrCuWFxlRBHqcky5NwD94F2UZ5+vXXXyU8hncnLVEo9P1j8j0zDefQkBXqkKIEs0Yj6xGmoUMVN1goQddff72sFYtSghLC0jw0rijUSvo66hEUnnh5qdpA2j/33HM5JYeGkrQqRV2keSlYnolGu5Igt3WVtmkKpQfhPFfrWh04KAWdtfbt2yd79U8x+S6EDnDEIGvIHHJcU7KU17qitvGlLqesoDA/88wzedOkUszCn6AUGEa9gQ9uaOTFVItviWEYtQPTPu4ZmP5wMagJmAj5Yk/aZw5CAyU+bpi9C4GZm4k9Dezjd2URGnvxH8UFo6bpXBOYST/nnHNONxNni4EKgU/qfvvt57beeusk1DAK06B8PI2GCY0YqM+RYRi1g9morPKBr1dNQXHEPxnlBn8xllTCr5JJCKxggOJZCNZiZRKXTtabkcAPcfPNNxd/Ufw78bGrhNLJRKmNN95Y1s5lWSP8ahsCs8wyi0wYZAZ+vCyXYRTCFE+jXmEJGh1RYZYkzuyGYdQenWnNqGNNYGIhCg6T7Lp06SILdjOhhDAmUiy//PLJmVPDKCCTUio5Clgp/vrrL1n14J577pEJjaxkUAmYUMUINh0CZpczWaqhwMRIVsFgdrwpn0YpzNRuGIZhyOzXxhVYLqghoM0io3mVBKuQrllpGDMqpngahmEYhmEYFcFM7YZhGIZhGEZFMMXTMAzDMAzDqAimeBqGYRiGYRgVwRRPwzAMwzAMoyKY4mkYhmEYhmFUBFM8DcMwDMMwjIpgiud0ynrrrScLPBeCNfduvvlm16lTJ3f66acnoeXz/vvvu2OOOcY1a9YsCZlxaEjvNnbsWPlyiVEcPhXJF10oH0Z+Jk6c6AYPHiwLoccUCv/zzz/deeed5yZNmpSEGIZh1B+meE6nLLPMMm7JJZdM9qaGr1zwHWE+W1ebpVi//vpr9+KLL7rvv/8+CSnM77//nmzVP3XxrHLerSbUVXrwNSe+6sRnCo3C0Nnic4aPPPKIyP6MRm3kKb62VatWrmvXrm633XaT9FIKhc8+++zy+U0+kckXewzDMOoTUzynU0aOHOkGDRqU7E3N4osvLg1IbenYsaNbd911k73i9O3bN/fd9frk22+/dQMHDkz2ak4571YT6iI9xowZI4pnnz59khCjEHxVZ7PNNnMrrbRSEjJjURt5Oumkk5KtKpZbbjm37bbbuj333LNax7RQeNOmTd3ZZ5/tdtxxR/fDDz8koYZhGHWPKZ4NmLr6vF2W+4wfP95dfPHFyV79cthhh7nJkycne7Wjvj4BWBfpgYmzZ8+e7uijj05CjCzMiJ91rI08DR061D3//PPJ3n/svvvuYl6//vrrk5AqCoUzIsq3360TZBhGfdLotECyPdPzzjvvuOHDh8so2V133SUNwaeffupWW201N+usVTo6ygK+le+9956MEuBfyfd8l112WTn+2WefuUsvvdTdcMMNbsKECVKZzzXXXHLszjvvdM8++6w0Mq+99ppbYYUV3GyzzeZeeeUV9+CDD0p4y5YtxfT1wAMPyK99+/ZyrfLyyy+7iy66SI7NMcccEt8NN9xQfgrPxZfrjjvucN99951r06ZNtW8OY6a86qqr3LXXXivnMsKBqbeQKNCoMUqCyXqppZZyb7zxhmvbtq0c+/fff93dd98tjR/vwCgKoyqlIH2J+wsvvOA+/vhj97///c/NOeec0ugRt/nmm0/S+pdffnFPPPGEpBHvggvCTz/9JHlAev34448SJyXLu2GyZUT5yiuvFFP8oosumvMD5fobb7xR8pc8vfzyy2VEcp555pG8gULpwX1Jh1tuucW9/fbb7rnnnpsq/2KuuOIKSQeuQQ4UXASQvXnnnVf2+/fv7+655x7XunVrSRdGhG+99dZMacK5yOPcc88tcbrwwgslfxZYYIG8ebDgggvKdfDQQw9JPB599FFR9pZeeunkiHOPPfaYu+2226RsnHPOOSLPn3zyidxL5XvVVVcVuSMfRo8eLeGLLLJIrjyUIt8zSM/rrrtOOiYHHHCAyB7lgbxQmXzqqafkWp736quv5p5JWpA3hBMv0mDUqFHu9ddfdyuvvLKUWWQCszWjqow+Ikv8kEPKUQz3u+SSSyQ+7777rtyDsquUSl8lnzwBZZy48uO+v/32m9QhGv8WLVqIbPbq1Uvyhzz+5ptvpM5RvvzyS8nDQw89tFodUCic5+AXjR/t/PPPn4QahmHUIUFRMAJDhgzxoXHyzZs396Gh92uuuaYPiga2KN+5c2c/ZcoU/8EHH/jdd99dwkKj57fffnsflAO/3nrryT0eeeQRv/baa/v333/fB4XHH3jggT5U3j40LHI8KAm+Q4cOcv3YsWMlTOnWrZsPyoX/+eef/bHHHivnbL755snRKoKi4jt27Oi/+OILH5QLv+WWW8p5ffv2Tc7wPihcfv/99/dfffWVPIP4bb311slR70Pj5kMD7UODKO903333+dAgyn0KEZRlv/fee8s5Qbn0Y8aMkfCgaPltttnGn3feeT4oif7JJ5/0Cy+8sKRRUEjlnHyEBs+fdNJJsv3RRx/5oID7oCj4oHD5hx9+2Acl3/fo0UO2Oc67BCVB3lcJDae8G3mgZHk30rdLly6SV5zfs2dPHxR4ifuHH37od9ttNzk/NObyHqERlntyH/IfCqXHDjvs4IOyJtuENWnSRLYLEZQov8466yR7VQQl27dr107uff755/uddtrJH3300X6hhRbyQfGU94IsacI7cX/udcopp/iuXbtK2p588skF80A56KCDfFCqRI6D8u2DcuIvuOACHxRzf+qpp/qgKEv8g+LigyIr6RMUJh+UeHmeppVCmvPMLBR7RlC+pFxQPkNnQuLJPs8MSqRcH5REv9lmm0nY1VdfLWFKUGD9Lrvs4kOHUvKec/bdd19/+OGHyzM7deokYUGJ93vttZfv3bt37v5B2U/u4n1Qgv0WW2zh33rrLUm/1VdfXeqLoIzK8VLpG5NPnv766y8py+RXUPgl3ylTyCL1E+WN8kcZ4dmrrLKKbIfOSHLXKoKiKvflGTGFwqlXCD/33HOTEMMwjLrFFM8IFI2mTZv62267Tfap3DfaaCOpiG+66SYJ++eff6QRXmONNeQ4ytI333zjf/rpJ1Fa48aJhoHGaMUVV5TrAMWC+40cOVL2gUZm2223TfaqoKGKFc8333xTGt7x48cnIV62uZcqnpMmTfJLLLGExEs544wz5JzRo0fLPgpd9+7dZVvh2ZxTjH79+sk5vJNC40SDF4NyzHnXX399EjI1KBMohwrpHTfKjRo1yjXaCg1urGTByiuvXE3xzPJuRx55pB8wYECyV5XHKJ4oezB58mQ5f5NNNvG///67hE2YMEHCYsUpnR4oRMgFyquC0lIInsN77rHHHknIf5BX3PvEE09MQrwogYSh3ClZ0gQlhusOOeQQ2Z84caIodsXy4K677qrWWYGNN97Yzz777KKIwgYbbODnmWce6WRxP+4LN9xwgzwPBUohjeiQaRnISqFnUC4oa6rccv9FFllEFEoFZa9x48b+hBNOSEKq2HHHHaUsAYoc51DGuT+QL8gDiq2+K0ofij/ypVD+X3rppWSvSsnnvek0QikZT5OvfAHKMOG33HKL5MtRRx2VHPkPZHXddddN9qqDgsz1p59+ehJSRaFwoENDmhiGYdQH5uMZgZkJc5UuYxQUPXfmmWfKNmZkCMqChDPJgf+hQRLzGaZPZpqvtdZach5gPt1vv/3cW2+9JeZiCI2pmCAxfyqYz9JLJ2F2jsF0juk1KBtJiKu2DZj2MH2Hxsodf/zx8sOXKzSCYhb84osvxIy86aabJldUkb5PVjAzxu8Le+21l7gAYKIuBGmGHyfXs7TLVltt5VZfffXkaM3I+m6hAyGmTU0f0ioonRJn4D9uFbxXkyZNJAxTNmAKLQSyQ/507txZzMpwyimnyP98BKXJBYUmrzlTTdHrr7++/IcscciHvhdpDNyHuBbLA9IIedE04ke5wOT9+eefyzncN3SoxKzL/TR+O++8s5jyQ6dE9gFzeFCQpeyUQ6FnAJPr1PRPOQsdLnE7UHCLwFx82WWXuZ9//lnCKJ+4JHBPwMRMHmNW5/7AMzFh8w64NQDywPM07TGr4/JCOmn64BJAOdOliupKxpEhZJF7DRs2TJY9Kgc17YcOkfxXCoUDx/KFG4Zh1AWmeJaASp+GB9+pYuBvB7G/FNCAAY2Vcsghh4iv50svvST7KK077bSTbCvp++Cn2Lx582QvPyiZKAg0+vpjbUieRSOMzyGKaan7ZIFGHv/XdDxRxmn04/dNg08e5+BfhjKBwojSVhuyvBu+e/i2de/evVoaPf744/JT0u+k/pcoioVAqcJHkHRByVp77bUlPwqhy9mowhOTfj5kiUM5FMsD4o3CHqeR+ifjx1gMyspxxx0nPpbILKAw0QGrT/Bx/Pvvv5O9KlAIUTovvrhq0g7x2HfffWVbIb5pCAud8mSvCsKQL9B8ZVKYpg8rUJA+uhpDXck4+Y4fJ2tsogirHGQFP3SIlXIoFA4cyxduGIZRF5jiWQIUKZS5UouQ6wiljggpqgjp6Akwq5R9GkQUNBqmfApIzB9//CFKUzFolBipYHJJGiZHcA8odZ8s0DihIKXfF3jn+H3T8L4o6oz6oiywfmWxpaOykOXddMRNOwkxpE9tYY1EFq0/6qijZCIMi/ujEOeDiS1QV7P3y6VYHiBH+dIIpTdLfFmqhxFIrAUoaYwiLrbYYsnR+iOtLNLpY3kglEHyl5FXOh21RZW/YnJUlzJ+++23y0gyE+LYLoc///xT/qcndBUKB47lCzcMw6gLTPFMoaMaCiNTmOc22mijJCQ/HTt2lP/MRI1h5ICGKjYBo7T17NlTTHXM1mV2bikwD3IvzMRpNM6YQmk0+vXrJ/sKs/Ux/6qJUU3BadLvHpMehUOZ4Hl8cSdejBqIJ0pYIYYPHy5pwmxcZvAyinb11VcnR/OP+NEB0MYyRuOc5d24B2ZVlAFM8zHM9i6HdBxRyEaNGiWm8wEDBshoH++YXrJGwXTLKF25pvOYUmlSjGJ5QL6iMDOTPoaRtyzx5b2YGX3//ffL6P6BBx6YHKk8J554orgNYFFgqSDiVltwlWEElJUS4nU36fxg2odSMp4mn8wDI/GM1DOaTh1EXZHuXBW6Fqi7QC0vSqFw4Fi+cMMwjLrAFM8UNKw0VAomMiphRhwUGnaWNonZeuutxVeQpVfiEUcab74Ikl5GhQYZpYGlc+JlahT8wmLTIecDDZma/VUJxeTNudtss40sAYQShWmT5XBQFg4++GDxMUOhQEFGIcDsCFzH8izAfeKGNEZHdBmhHTNmjIzsoOCSDrG/Kr6LLCmF4lGIa6+9VpaXAXzhunXrVi0NeBbPIX1Ukec4I0jkDWmD7xw+e4y48g5Z3w3zKHHnXBQB0uiggw7KjUxzDSN7cTqoIscxJZ0eXHPBBRfkzllzzTUlTvnyFlDciQPplUZHb0vFoVSagJrm0/JaLA+QNUbgd9llF3fWWWfJckrnn3++LFOEwgzcN33PmP3331/uy4hn2u82K4Wewbul5ZT0idNGQUnE9YF8ztfBy3evdP4DYXp/ZKVHjx6inKPMsmwZo6mUvy5dusg5pWScDidppPmar3yRj3RidMk25BUlFD9qvQ64lmdRXvDzjmFZMGD0PaZQOOmNYhuHp+NqGIZRK2SKkSGwrErTpk39dttt56+77jpZPobZqe+8844cZxmjPn36yGxQZn6yBFNMULhkdikzvQcOHCj3O+yww6aaqaqwvM29996b7FURGg+5L7NtQ4Mis8SVwYMHy8xi4sis2zPPPFPiwgxbZhNDaLh8mzZtJJzfkksuWW2JldCYyQxjjgWFWmYrs4QQzwoKqv/kk0+SM6vDbO3Q4MqMX5b5UYKyIzOPmcHNskosYxMa5ORofoLC5YOCLMv0jBgxwm+44Ya5Gcugy0m1bdtW0hRY9oU4skTR8ssvL0tUMYO7VatWPijaMvM467sxk5f05bzQoOdmn7NCgeYv92UmcmjQZUklwlhpICi2cm46PYKiINssx0NesGwPM+yDEinn54O85ZqgNCYhXmath06CPA/5GDdunLwrS/cQxmzzV199Vc4tlSYvvvhi7l7ISCxrpfIgKFI+dJbkWn68V+iUycx08px4k3asPsDSTvlgVj5lqFyKPWPQoEHyzpQDygPhl112mexzflxeFJa4Ss/+5110xjgrQYQOpix3hgzzTN49dCJltYpzzz1Xlnaae+65/dChQ+X6X3/9VeoJTR/iFJRNOQal0pc6gvgiN5CWJ/J4xRVXlPqEpZ/g6aefluXKeB6yFZRHCWe2O/LMMZYJi2FVC+oA0jSmUDiz82edddZcnQfpuBqGYdQGUzwjUBSp/FH+WKqIyj/08pOj2aFBQCmgISsGDQoKUznQYD7zzDO5hliVkBjizHIpL7zwQjWlJobjL7/8sjyfpWdoYEvBvXSJmRgaYZRNlqnJkl40YCxbg2JEPNKNH3z77bdTpQ3LVvEcVeZQ0vI9L8u7kTesc6qKbU2I04N4/PbbbxJHlMVYySgE1y+zzDI5ZbYmZE2TNFnygHtqvtYElF7iN62hg8YaufUBCiPlMS1jpdKXTg7XxhQqX1lgfVpd/iuGjjMKdJpC4ccdd5wsKxeTL66GYRg1ZRb+hB60EcA8fe+998oMUsOoBEFJdccee6wst5VvhnVDha8B4fKBr+O0BLcFlrjCV3JGSt8s4BrBBC/cVWaJ/EALhePbyVfbSKu0a5BhGEZdYT6eEfn8vQyjPunQoYPr3bu3+FA2dFgejE+3soQQy3cVW8e0PmGy2+abby6+kPh34rM6symd+P2yli4T3mLlslD4v//+K8tgMYnJlE7DMOoTG/EMoHAyIeWMM84Qx3r+M+tcJ1IYRn2j3/PeYYcdkpCGB6O2rGZAuWGS3QYbbJAc+Q9ml5eaGc/KA3wwoaZwf9YhZaIMI3tMrpuZ4Jv5WG5YszRepq1Q+F9//eWGDh0qH7GoxLJXhmHM3JjiaRhGnTFlypSiXyhi2SlG14rB9XPMUfXFpZqi1Vo8qmcYhmFMe0zxNAzDMAzDMCqC+XgahmEYhmEYFcEUT8MwDMMwDKMimOJpGIZhGIZhVARTPA3DMAzDMIyKYIqnYRiGYRiGURFM8TQMwzAMwzAqgimehmEYhmEYRkUwxdMwDMMwDMOoCKZ4GoZhGIZhGBXBFE/DMAzDMAyjIpjiaRiGYRiGYVQEUzwNwzAMwzCMimCKp2EYhmEYhlERTPE0DMMwDMMwKoIpnoZhGIZhGEZFMMXTMAzDMAzDqAiz+ECyPVPz6aefugcffDDZK8z888/vtt9++2SvfJ5//nl3ySWXuHfffdeNGzcuCa0ZzzzzjHvrrbecZuEss8zi5phjDrfIIou4tdde280111wSXtc89dRT7rLLLnPfffddtTRbb7313MILL+xuv/32JKR++Oeff9ydd94pcVhjjTXcBRdckByZOUGOLr30Uvfhhx+6p59+Ogk1ZgQKlTXDMIyGio14Jjz77LPuzDPPdD/88IPsf/PNN27//fd311xzjeyj7Dz++OOuT58+sl8T/v33X/frr7+6xx57zP3+++9JaM3p2LGja9eunTvggAPc8ccfL/f8+eef3YknnugWXXRRd/HFFydn1h1//PGHPIdG8M8//0xCq1hmmWXckksumexlJ0taoFzzbCBvyI8xY8bklO6GTG1k4e+//xaZeuSRR3LpM70S56FRmmJlzTAMo6FiI54JV199tVtrrbXcqquuKvvvv/++W2655dy+++7rrrrqKgmDQw89tNYKXZcuXdykSZPc+PHjk5DaMe+888oo59tvvy37KGXt27d3L7/8srvrrrvcNttsI+F1ybrrrusaN24synht+Pbbb90VV1whynIxRo8e7f73v/+5TTfdNAlxbrbZZnNHHHGE69+/fxLSMDnqqKPchRdemOzVjE022cT99NNP7sUXX0xCpj/y5aFRmroqa4ZhGNMDNuKZsPrqq+eUzmLss88+yVbNQWGqS2iUYrj/3nvvLdvXXXed/K9r0s+sKYcddpibPHlyspcfRnFRztLUdTpOC4YOHSruF7WlrvKjviiUh0Zppve8NQzDKIdGpwWS7ZkaRgxjvv/+ezdkyBDxIYxHDDmPQWJGEjHD42v49ddfuzZt2rhZZ/1Pj2c0k+ufeOIJGdXDh3TZZZeVYzfccIM0xAcddJDs33333eKnxzWMhHLejz/+KKOACy200FRxS3P++ee7pk2bymis8uabb0ocV1llFbfjjjuKqe7mm2927733npx7+umni0+oxmnChAlu8ODB7o477hB/Mt6H48oXX3whx/Hf5H1eeuklOa4KLm4EDzzwgPwYbVUI57n4qeGvtsACC8j7YELEbYHR5Pnmm0/i16hRI9e8efPkyip4LvHneS1atHCff/65W2yxxdycc84prhG4Gmy00Ubi43jttdfKvZZYYonk6iqIL361KOH41q688spu9tlnT45ODWlHmnLfN954w5133nnyfPxmYyUAM/fIkSPdlVdeKSONuDc0a9bMffXVV+7WW2+V/OSH+wbvfP3118s+x0l35KdXr15yz7nnnltcCFq1apXcfWrw3yQP7rvvPkmv1q1bJ0eqOhgo8LhdIE8XXXSRyHDbtm2TM6pgFJy8IH74B6+wwgoiD1BMRsivYcOGiexi+kXpx7UiBpm+/PLL3YgRI+Q9sRjwXsXyEB566CGxIjz66KOSFksvvbSEA24pt912m1tttdXcOeec41577bVq8pWGZ5DXXENZIq/jDso777wjPsEbbrihpD/vi8tKWrnjejoEvMdvv/0m/tKjRo3K5SnvxPvxLpQJwpA9fsg8eUCngrSivuDcmGLvVaqsGYZhNGgwtRtTExpfXBD8vvvum4T8R1AY/eabb+5DQ+1D4+1DI+2POuqo5Kj3oXH3Xbt29UER8L/88ovffvvtfd++fZOj3m+55ZY+KATJnvdBIZH9oHz6f/75R8KCAijP51mlCMqODwpEslfFTjvtJNcHpch/8MEHfvfdd5f9oJhIfOadd16/3nrryblBYfP777+/DwqRHzt2rBzbeuut5RgEpcqHhtM/99xzPihb8i6hIfSdOnWS40Hh8Mcee6zcn3RReP+gvEkcSIcLL7zQB+XcB4XYB2XdP/zww7Lfo0cP2f7oo4+SK/8jKAp+4MCBcu+gDMp5P/30kxwLyqO8T2iQ/ZFHHumDkuGbNGniP/74YzkOoUH3W2yxheQT91999dV9y5YtfWjQkzOqE5QmH5Qjed7w4cP9nnvuKXkQlGJJI4V37tKli3/kkUd8UPB8z549/RxzzOGffPJJOU5a6X0+/PBDCevdu7ffeeed5XzSkXchPqFzINuvvPKKnJeP4447Tt41dAp8UIgk/Y8++ujkqJd0X3PNNX3oR+bkk2cHZSk5w/sbb7zRBwVY8jl0bOTZoWMlx4rJyB9//OGDguSDIirnBmVbziMflaDQy71CR8v/+uuvfocddhC55N2L5SFxDYqiD8q5D0qrvFdQDOWZp556qg9Kow8KmQ+dKpHB//3vfz4ognJtmnPPPdcHBVfejedyHeVK85p48/7EA1lcd911ZZs8TIMMBeXYh46f/+uvvySM/OH5HTp0kLKvkDeHH3645Cm/0FH1obMi5yAPCy+8sKRtUEhLvlepsmYYhtHQMcWzAMUUTxrkfv36JXveb7LJJtKIKzREe+21V7LnpaE/88wzk73qiicNdffu3UWRiUEBvemmm+TaUtDA00g+88wz0jgec8wx0lihkNHYAfcjDOWABhHF75tvvvGTJk3ySyyxRLWG9IwzzpB3Hz16tIQvs8wy/qKLLkqOVt2LZ6YbQ5TfWPFEGd92222TPS/PRFncb7/9khAvCt1JJ52U7OXnqaeekvigsMRwL+KAggtvvPGGnIcCo/C+L730UrLnRRHgHBTlQqgS/dBDDyUhXhSaBRdcMNnzougOGDAg2fOSTiie7dq1S0K8KDSk+SGHHOI/+eSTXGclBtlBASrG3XffLUrs77//noRUvdeyyy6b7FUpns2bNxcFElBaULJ22WUX2QcUIp6nIMO8pyqBhWSEjhTnkQ+ATDVu3FjSQEHpHTRoULJXFWeuue6662Q/Xx6iuMYdHNh4440lX1FEYYMNNvDzzDOPf//990VpmzhxooSnodOGMheXl7fffls6NnGHAaWPeNxyyy2y/+abb8r/fKAkkx6ffvppEuL9brvt5hdddNFcBxFQsulYAcovHYmYK664Qp5JB1PJ917llDXDMIyGivl41oD777/fBWVCtseOHSsmvXhmMuZxTLCHH364mMpYYggTaBpM4ZiIb7zxRjFJxmB23nnnneXaLGBODI2umLMxr7/66qtu+PDhOXM592Nix2abbSb/iWNQpCQOmAZDgywz4/mFRlDMfsQd03tQZqpNCOFePCONmk6Be2JyXX/99ZOQqnQJCpi8c13BhDCWkAI1/eIqAJjVMS0HBT73bpg3ebe//vpLzsmHLkMVx517Y7pWuCemWL0v6YfZX+MCTPjBhxXT9u677y4medK+XDBxY+Zv0qRJEuLEhSM9kWjxxRfPmamRB1wONC2ASVjEBZg8Fzopsq2yW0hGMNdjDu/QoYOkGyZg7q/XYWbGHBynV1Ao3WeffeZ69OiRhEwNaYiMaRryoxxgfsaEDaTniiuuKC4IuEekzfsKMsX7x+UFNwLcJSgHQamTMM2frbbaSv5z70LsueeekiaUZYWJfJjC7733XtlnmzRSmcHMj0zGhE6oPBc3BCXfe5VT1gzDMBoqpnjWABpgfBlRJj766CNp7IMSnxx17uCDD3bbbbed+Gm1bNlSfDXTiiX+ePvtt580zrFvaE1BKdl2221d7969paHDRzMLKJnE7dxzz839UBhZXmqPPfaQtUIh7XuZD1VyAYUHRY2GMwbFIO1PV1foff/++2/5z7vB0UcfnXu3QYMGybsNHDhQjuUjfg8FRQtlGlC4vvzyS9e9e/dq6cas4/TMY8JRAOkUoKDUBHwu0+mIooMSVAzSQ9MC8DMkT/AVRMnRyXSx7OYD+WSNVt6FDhd+uviA6nXED9JxxI+zGOQPSm2chvhMkz/4ZpYDSnS+fOOd//nnH1njtFyQ+S222CK3pBpKMvfC55VOBKCUqu8lMo8vdzoeKPHUA3SEilFOWTMMw2iomOJZJjS2KGQ0kChojOgwYhHDaAaTN5hYQMPH5IFddtklOVoFDTfX09iwJNC0AoWKRpnJTGl++eWX3LqLKFrloCN7r7/+uvyPYRJNfaIKEe8GOrIXw7vVFFWwstwXJYqOCiNZxx13XBJaHqRlvnRk0gsdmGLESiUjbqzKwMgnE7uaNWuWHCkOyiqjxPPMM48oXIwixtQ0r8mffGk4ZcqUku+VhtF2Rh/TSrQqcUz6qQmkl37sgQlQTOBjiTU6niiZjDqTNkCZRunU0doY4lEqDjUta4ZhGA0JUzzLhJnFzCBm5EcVmzQolNC5c2dpmFBOMWnHplrYcsst3SmnnCJmQsyB0wLMmpgh+/Xrl4RUwexf1l1UUyTbaXQEMB+MxjESjDmVWf8KigFrpir5RqnSZDknH4zoMVrHwg2MVCk08GpyrgkoWiuttJLkG8pOTLweJ++N6ZXZ9ieddJIoLpisY7K8G0t9MTqYzgNmTadHGQuBifzII48U941yR155B2b6q3tJGuIHvF+s+DFCiNxDvvdE9p577jl3zz33JCFVMMKYLiulYGY6cpwecWYUkucwm74mUEZRGslr3BOQKUY4eZ8DDzxQ1thU6HDyLNxvWNQ/hnh07do12ctPTcuaYRhGQ8IUzwJow5FuQLQBYMQDWAIGP0IW72bkEAWBJXgwZQLKKaZvPrWpIx4oAaoI9e3b122++eayrI6a2gBfSMx8aUUlDQ09o0NZRvCIO6NkMSwVhekQhQnTP8+j4cddAD+43XbbTeKNGVR9CjEbEz+ULt5FlQ22Y9Muig7Po8Fl9Be/xJ122kmWqFIYqWJECaVB0zSN+o5yHqNMpDfPJA1jhVLzRuOAwoDSj3KDvyV5wjI3vDOL+BdCR56K3RvzPWmOwoMiTboddNBBuRE2rsWvd8CAASIDKJ64P6C0xIo47/bxxx/L+6uSlgb3Ce7BtXR6eJ+TTz5Zli/S0XbiFccXiLPGF0WJkUS+9kQ+oUSpjDJCx4ge5JMRwriWryPxDBb85xyUQxQ9fCtxLSFepDf34l0Y5Vdfynx5iCJL/DnvrLPOkrLEMlb4KXNP4Lnp+OTj2GOPFZeR+GMCvDtyF3equB9kuSeQ7rjUkO49e/aUMJRYFFLii/Ujhmdx79iPmdFuXGqOOeaYJCT/e2Uta9yPdKU8GYZhNDhCRWakYMYrS+WQPMxgHzx4cG6pn9Dw+s0220yOMbuVpWBOPPFE2Wf2bGikZVY5y7Cw/Az3Yjmfe++9V2avXnbZZX6uueaSWcHMXmVGMbO6uZ5Zrizz8t1338n5hHGvQjBDOzTech6/E044wT/77LPJ0f8IjZbv06ePnLPAAgv4IUOGJEeqCMqAD0pR7j5LLrlktaV9mHnPDOlGjRr5VVddVZaGWWuttWQmfVAY5L24J+8UFAyZxQukBc9lZjH35djQoUPlmKIzyJnlHxrnJLQ6ocGVZX24D8tEMXOZpYS4jlnApDH5Q1oR1rp169wSOSztE5QiCdc4sHxUIYICKcvZcC6z8kMjL7OvmUFOGCsWfPnll3Iu+cs7Ex4UO1kuCYJC5oNiIDPRWWkAmNXOMjycu9pqq+Xix725B0vu5FvWR2GFA2RRn3XggQfmZlYzm5z3CkqcyCrpg5yxP8ccc+Tyg/hyPXIWOhbybPaZiU/aF5IRZnUjEzwXOUEegsItSwANGzZMzmEJI13CiR9LVrE0l5LOw6AUSjiz3xdccMHcdczeJv14N8oW8ee5lBHeqxiUB+JJ2pMm3bp1y8UP7rnnHll5gecQh/HjxydHijNhwoRqq1YA92Klg3wQb9IYeWBZJeoLlkeCUu+Vpazdeuut8g6h85FcZRiG0XCwT2bWAJKMUZvQQMgEDkYv8MvSURpGSTG7Ya5mVAOzrI74lAMz0zG/qQ9dfcI7MVLLyBsTPnivGEZbmL3MxBJGSDG9Lr/88gXdDWJ01IYFz9OTrAAzJCPCmMWLgb8gM61rApPAyCMmreCrWFcw6senSpk8UmoyTSEYOSW941nr+UCWyKOllloqN7JaLuQFvoiaD8gx8S6V9owekn76LX5knJHhtNmeiUaMwCPzaRmCfHmIzCHrxKnYLPMsUBZJI/4Th1JpmhVGLLV8A/dnNYtCeU5e8VEG3gm5D0pmcqQ0Wcoax5HlfGlsGIYxPWOKp2EYhmEYhlERzMfTMAzDMAzDqAimeBqGYRiGYRgVwRRPwzAMwzAMoyKY4mkYhmEYhmFUBFM8DcMwDMMwjIpgiqdhGIZhGIZREUzxNAzDMAzDMCqCKZ6GYRiGYRhGRTDF0zAMwzAMw6gIpngahmEYhmEYFcEUT8MwDMMwDKMimOJpGIZhGIZhVARTPA3DMAzDMIyKYIqnYRiGYRiGURFM8TQMwzAMwzAqgimehmEYhmEYRkUwxdMwDMMwDMOoCKZ4GoZhGIZhGBXBFE/DMAzDMAyjIpjiaRiGYRiGYVQEUzwNwzAMwzCMimCKp2EYhmEYhlERTPE0DMMwDMMwKoIpnoZhGIZhGEZFMMXTMAzDMAzDqAimeBqGYRiGYRgVwRRPwzAMwzAMoyKY4mkYhmEYhmFUBFM8DcMwDMMwjIpgiqdhGIZhGIZREWbxgWR7pubTTz91Dz74YLJXmPnnn99tv/32yV7N+PLLL93qq6/ujjvuOHfkkUcmodMPv/zyi7vzzjvdn3/+mYRUMdtss7mOHTu65ZdfPgmZmh9//NFdddVVbvz48W6eeeZxm2yyidtmm23cU0895TbeeGM55/bbb3fff/+9bJdis802c1999ZV7/fXXXSyqpN+aa66Z7FWHuH/77bfJXlW8uc9iiy2WhEwb/vnnH4nbZZdd5tZYYw13wQUXJEcM5IN0+e677zKVQ8MwDKOBguJpeD9q1CjfsmVLf/755/srr7zSn3322Wg5fr311pP90Cj6Hj16+KWXXjq5ouYEpct36NDBX3fddUnI9EdQOuV9SQN+7du390EhTY7m54MPPvBLLLGEP/DAA/2kSZP8hx9+6E899VTfokULH5TE5CzvV155Zb/sssv6iy66yAclVPb1Oeedd57kxe677y77d9xxh1zzxhtv+CZNmuTOa9u2rYSn+fzzz/0cc8yRO69du3Yl412f/Pvvv/7333+X7S+++MLfeOONEq+jjz5awgwv6ROUTb/AAgv4Tp06JaHZmTx5crJVOabFMw3DMGYETPFMGDZsmH/11VeTPe/fe+89URD23XffJKSKQw45JNma8bnkkktyCtzBBx+chBZmyy239LPOOqsorTGkbevWrZM979dZZx3/0UcfJXtelA19zrhx45JQLwqsKp7QuXNnUfz13CeffDI58h+nnXaa33nnnXPn9OrVKzkybbjvvvv8ww8/nOxV0ahRI1M889CxY8eyFc9vvvnGn3XWWcleZZgWzzQMw5hRMB/PBEy3q666arJXmH322SfZmvEJSmSy5dwss8ySbBXmkUcecf/++6977LHHkpAqSLNVVlkl2XNiem/ZsmWyV5gjjjhCzORK48aNXVCAkz3nBg8enGxVMWXKFPf000+7TTfdNAmp/g6V5ueff3ZHHXVUsvcf8TsZ/0H+lsthhx3mJk+enOxVhmnxTMMwjBmFRqcFku0Gwddff+0uv/xyd9ttt7mffvrJrbTSSpmUolIsssgiyVYV+CAOGTJEfPFQlBQ9D//Hm2++2b333nuuadOm7vTTT5d4LLvssu733393w4YNczfccIP4q6FoLLPMMnId0GiNHDnSTZo0yS233HISxntdfPHFbt5555X9/v37u3vuuce1bt3azTfffBJWiJdffln842699Vb31ltvuRVWWEHiBH/88Ye78cYbJZ7EjbS75pprxP+ylPL34osvuvvuu0+227Vr57bYYgvZLsSFF14ozyMevDM+mKpMtGrVyi266KKyvf7668t/ZcSIEe7jjz+W7f32288tvvjisr3gggtW8yclPc8880xJp7///tu9++67otTyLoD/JH6cPJu0gyzx/u233yQOV199tRs3bpw8t3nz5snRmqXhF1984XbccUf30ksvuRYtWrjPP/9c4jbnnHPKOxCvjTbayF166aXu2muvlTxeYoklkqurwE/1kksucdddd52868orr+xmn3325OjUIEMDBw50o0ePdp999pmbMGFCtc5UMTn566+/3KhRo8SXlueQ1ldeeaXIMmUM/1R8d/nhA9ymTRu5Tik3rkAa0XnA55frSSvK0N57752cUTjOxKtPnz4SH9KO8tioUSPJt1LlD9kZOnSou+WWW9zbb7/tnnvuOde+ffvkaNVxyifvTxlAbps1a1b0mYZhGEZGkpHPBkFoFH1QCnJmVH5bb721+NHVNYVM7YAvo/ogHnDAAX777bf3QWEUf9CgpPjVVlvNB0VUzg0NmJx31113yX5oPH337t0l7JxzzpGwJ554QnwRCcPHdKeddhJT7EILLSQm6ilTpsh5+cBnMCjD/quvvvI//vijX3311X1QluUYPpa77bab3BeTM3E+5phjxD/yf//7n7xHMfBr5Vp+WVwMOEfP54dvZ1AsfFBqkjPyU8jUngZTPmCC1/NPPPFECQPS9eeffxafXD1eKt6ffvqp5NdDDz0keXfFFVdI2gTlUo7XNA3feecdH5RAuY48xdweOkpyLChkIjdBwfJHHnmk+LjivxqUbzkOr732mg8Ks8gLbgnkKz7IQUFLzqgOfqz44fI+yAu+srHZupiccE3Pnj0lrsj74YcfLr65mi+hg+X32msv37t3b7/55ptLWFAE5VooN64QFDofOl0+KH0+KHq+b9++PiidmeMclGxJU1w78EVmm2eXKn+www47SH7DmDFjJO0V5KdLly7+kUceEV9s0gWfYdw6Cj3TMAzDyE6DUjxjBSX+XXPNNckZdUcxxRP++ecfaShpCPFppFHC9+vll1+W65566ik5D6W4cePGomAoX375pZyjiieMHj1awmJFSn0smVhTiG222cZvsskmyZ73/fr1k2tUyWESBPuc83syyWXChAkSdvHFF8t+IcpVPH/99Ve/4YYb5q7RX5s2bUQpKUS5iqfGnx/KOcrGu+++6w899FA5Xo7iiZKh1ykomrFSWdM0RAY4BwUlBsWTd+a+QP5yniq7gFy99NJLyZ4XxYdzjj322CSkOvfff79fZpllqnVSUBSVUnKicrrRRhtJegLxQ+liYtgPP/wgYdyfNEfxUsqNK+WFuDK5TKE8NWvWrJriWSrOgL/sSSedlOz5kuXvt99+k3JLh0KJ04nzBgwYkOxVxZU0oGOopJ9pGIZhZKfB+HiGuLpnn3022avO2LFjk63KgYktKCeyTA//Q2MsJtq2bdu6hx56yHXo0EHMl5gRMfVhplMwt6aZa6655H9shlbzYLGlhzDJY4qE999/373yyiuyrc8Ljab4Oa611lquSZMmEpblvjWB98LPMygUkhYK5tugkLqgvCQhtQPTb1BIZDso++6mm24S02ns/5mFoFi6Bx54QNImplevXpJ3w4cPl/36SEPuxX1B78VSQoCpGhMz73X88cfLD9cSzMHEKx/IH+/TtWtXMbHDKaecIv+hlJxg4ubdSFs1kRM/3ARwB1F3D9IBVwh975rE9Y477pC4xr64lKfYDxhKxTkfpcof74Y7S+fOncUlAeJ04j2ef/753Luceuqp4haheWUYhmHUjgajeNIw0rjmg8ZxeoGGeb311nPnnnuuO+SQQ9wCCywgPmkozgrvkiZfGA0mMGmmECgFKAH4xdGgq09fsedluW9W8FdlXVLuhQ8kCgSTL1AscB9WH0LW4kQ5rCt69+6dbDnxa/zkk0/ciiuumIRkQxWZdPqo3y1KlVKfaah+sPgWwsSJE+X/0UcfLXLEb9CgQdLx4l3zgT8tvqNjxowR/8udd965muKXRU6Q3TSExecAYUwig5rE9ZlnnpH/pXwjs8Q5Tanyh3zi+4mSv+WWW7q111479w4op8hy9+7dc+/C7/HHH5efYRiGUXsajOIJsbKhzD333K5nz57J3rSHhpLRHiaeMDmBCST1CRNdmGDD6BATH5gEUUmY0PPRRx+J0nT++ecnoVX50rdvX1HuVMF455135H9dsPXWW7ull15atl999VW36667ynY56MgzE39iFl54YflfalJXXaPKkSq1qhjHMLGnECeddJJ74403ZDIcE4UY9WNmPdSXnNQkrn/88Yf8R8krRk3inKX8MSrMCCorDrz22muuU6dOMsEIpRTKTXfDMAwjOw1K8TzmmGPcWWedJQ0QI1CrrbaamNWWWmqp5IxpDzN733zzTRltqW8Y0eLLR4xuxabtSoGihFldvwiEiZWZ+jHMSteOgZqU6wJGtjSNl1xyyWorD2RljTXWENMr5vYYlBdAQakN+Uaxs8DIHu/HiDGzyRUUNjU9p2EJK1YGYNa3fh2Jr3Hh+lCfclKTuOrItJq6Y3QkNWuc02lcqvwxQo9SzhfIBgwYIKOvKM/XX3+9uMzgasBKA8y4j2HFBqWm+WoYhmE0MMWTBu7EE0+UpVcwizEysc466yRH65Zff/212v980EiyFE8MYZhfafBpiK+44go5B2UGcx3H1QSqplXQUaC48dZGOD4vhgaQZ2Fe5Z6M4mCSBEbxWBqIazmnnPsqLBejpP0zuQef/HzhhRdyS0xxDiOPNO4xmN0Z9TzooIOSkOrEPnuaNmmIP0sExey7774yasl9dbQKstwPGNlkFJ3PNTLipbAUEyZYRlWhpmmoI6qY7FEC8YVEWec+xe5FWvXo0UPihC8reXr33XeLct2lSxc5Jw0yFitHjBQiH4wKZ5ET4PlxvCD93kBYbeK62267yWgyZmyWKwJcMXCXQOEjjlnjTBqTvsgqHQjSkusKlT/C+FSpxh8XBTqwOnqOywCjm3waluW16NgiX7FbQPqZcM4557j9998/l5eGYRhGAUJDaKS45ZZbZLYzycMySSwJFC+bwqcP+/TpI8f5zN+QIUOSI1VL0yy55JIyc5bZ3CyVxBdZmCXNF3w4fthhh8m1K620kizrwqzmrbbaSsK6du0qM7uff/55WaKGMJaMir+qFMOyMZwzzzzzyNeFWDaGfWbh8tlKjWerVq38bbfdJkv2sBwQYSussILMhk7DkjLMsOY45/ELSr/fdNNNfbdu3SSOiy22mIQH5U2uCcqeX3zxxWXZHb5MxIz90HD7oIjKrOg333xTzothGZ7TTjvNzzbbbLnnbLzxxlOtUsAMZf0aEasMPPPMM8kR74844ghZUQBYUmjo0KGyBJXeb8EFF/SDBg2SdM9HUGrknszUZtY0qwrwjqQdcO+apCFwb5bYIu1YIotlgYJiI9cts8wyImfIld6LeLOMD7BCwHbbbSfh/IKy46+99lo5lo+gLMs5vAtLHe23337+jDPOSI4WlxOWPWL5JPb55CnLGH333XeyJBNyTBpeddVVMps8KIuSX3PPPbekNZQbV6BcsFRS6DD4VVddVZapWmuttUSu+CoQM+uLxZn4ATPnCWN5q9AxKVn+kJE55phDZs/fcMMNIqcsw8XzFJ7LTHjuy33iWe+Qfiasssoqcl/ubxiGYRRmFv6EStSoQxhNwX8NEzAwasqIZn2ZwxktYgIFfpXA6Brmb0aIKwUjPYxI8s6MKo0fP15GmdhnEfzpHdLwww8/lHRLL+ReW5h5X2hiXCnwn0WWWJAdv8VCMMqLqZi853wWuk8/s77lJGtcFUYykRMmABFfTOS4ZqjfKGSJMxOFMJ1rWLHyR3VHWjEqzygqo975XECQXRaX5wMBPC9N+pnkMSOr05Pbj2EYxvSIKZ6GYRiGYRhGRajckJhhGIZhGIYxU2OKp2EYhmEYhlERTPE0DMMwDMMwKoIpnoZhGIZhGEZFMMXTMAzDMAzDqAimeBqGYRiGYRgVwRRPwzAMwzAMoyLYOp4F4LvXN998s3vvvfdkn29S893on376SRakXn311SXcqBx88pBvcbMYOJ+1nNawSDlywKdD+a54PpCXa665Rr5bzqcat9pqq+RI+bAwv36Hne/Mc7+6gm+Wv/XWW7LAOvDJShZy59OWfL98ueWWk3Dluuuuy33mlTTg05NpHnzwQVnwHVhovX379u7ZZ5+VZ3Dv3Xffvdpi8cAnM/X78sDi8Xxi0zAMw5gxsBHPFHz15PDDD3ebbrqpfLXkvPPOc4MGDXJt27aVb1LzbXi+02xUFr42o9/G1u9sx8TfZ68UTZo0ka/e8PWbGBQrVcr4rjjKFF/BqQnxvfg6Dson3y+v6/4i3yZHMTzwwAPdiSee6Bo3buxmn312d99998mXp1CYUaKVXXbZRb6Pf+ihh0pZ0Q5azOabby5fCzrhhBPcFltsIV802mijjdxNN93kevbsKeUszaKLLup22mknd9VVV0nnj2//G4ZhGDMQoQEzIvguevPmzeV77GlCoy/fKb/sssuSEKPS8F3voNAke1UEhUy+7z29EJQ1//DDDyd73j/55JNoifI99XJJ3wv4vjnffK8P+PY+35+P4ZvvxH/PPfdMQv6jV69ecozvzPMt9zTkzbrrrpvsVcE367mG3xVXXJGEVueQQw6Z6r0NwzCMho+NeEYMHTpUTLh9+/Z1iyyySBL6H4zwDB48uNrIj1FZGIlLc9hhh8m3t6cHfv75Z3fUUUcle1Xki3MW8t0L0ubpuiRfXNXUfe+998r/GL4P36lTJxnR5Ty+2R9DXNPx5RpGUUMHzwUF0z399NPJkf/Id51hGIbR8DHFM2LgwIHi27b99tsnIVOz7LLLigkx5qWXXnInnXSSO/jgg92wYcPEJByDaf74448X39APPvhAzsWc+dVXX8nxN9980/Xp00d8BTHNKt9++63EifNeffVVd8QRR7izzz5bTK4xmJkvv/xyUVL4Pfroo8mRKt555x25Nybqq6++WuKiihphw4cPl7iffvrpJd0IiFP//v3d66+/7p544glR+t5//305VupeX3/9tTvzzDPl+SNGjHDXX3+93G/kyJGyr/FWv0jC8OssBO9Nmtx4443utddek/OJF4wfP17S+dRTT3W33HKLmOjzMXHiRLmOH8/87bffxJStYfwwlQNmZ/bxswTSkPwePXq07HNet27dJL0feughOTedV6QBHZtjjjkm5/+Yjyz3Ir2HDBki5m58NNOQtviB9urVy1144YWiyNYE5BaaNWsm/9PwPttss42kD2meBZTO22+/PVfeiqWFYRiGMQORjHw2GL788kt/9913+1deeSUJqRtCAy+mvyWXXDIJyca5557rd9xxR//jjz/6Dz/80Ldv3963bdvWh0ZfjgelyC+xxBJy76BoiWkyKIG+adOmfo011hDza/fu3cV0Ov/884sp+d9///X333+/mDy57sorr/QrrbSSX3311WWf+5EO8Mcff/jVVlvNB0VP9oMSJ+fcdddduf1FFllEwoLyIWZPth955BEfFBHfpUsX2f7+++99z549/RxzzCGm4XwQvs4668j1p5xyirgdzDrrrP7kk08uea9ffvlF0iYoGH7KlCn+vPPO8506dZJjmF4XWGABv+WWW8o+8H7zzjuvD0pJElLFmmuumTO1ByVOzLHEoUePHrL90Ucf+ZdfflniFhRDeS73CMqRXJOGuJx22mnyTkHJl7C//vpL7kcYsqZwL0zRb7/9tn/rrbck3zjnnHPOkePIEPcg7Pzzz5f4YH4eN26chPHOyEpQln1Q4vzKK68seZ2PQveC2Wef3R9wwAF+77339kceeaTcp0mTJv7jjz+W4xAUcb/FFltIPEkTZKdly5Y5uSzEYostVs3UTvqQfsTjqquuSkL/4/DDD/ePPfaY5D8yynnIvPLDDz/k8lmJw4LiLtcQP/JL0fsahmEYMxYNSvFEmZpzzjmloeJHw1tXPPTQQ3JPlMGsoFDMNttsojgpKCUoQvvvv38S4n2/fv3k3jxDQREi7Nprr01CvB8yZIiEvffee7JPQ8/+iSeeKAoAsE3YQQcdJPsoWew/9dRTso8i07hxY1FIlFNPPVXOueWWW2T/zTfflP+cM2DAANmGP//8U5TFdu3aJSFTM2bMGLkXPngwceJEUX5L3QtFeplllsm9B/Tu3TvZ8qKsx4onoFAVUzwVfB5POumkZM+LYr/XXnsle1WK7ZlnnpnsTQ3xR/Hdb7/9kpD/OiKXXnppElKV36rgA8ox56jiCeQDYbF/oiqexx57bBLi/cUXXyxhyEsh8t0LUDxR3FRRe+ONN+S8yy+/XPYBOX7ppZeSvf/8TOM45APFk44KCiEyuuKKK/oOHTr4W2+9NTmjOrGC+P7770s6ku/67FKKJxx22GESt1122SUJMcXTMAxjRqXBmNqZzctMWEyhSmz2rC1qHg9pIv+zEJQSt/jii1eb1bzCCivIzF1MznpPloQBlp1RmA0Na6+9tvyHJZdcUv5///338p9ZxbDHHnvIcjSAiX7++eeXpWqA2faYYoNyIEvQYL7ENy6e5R0UAfmvS/kEZUL+M7v4+eefF9M3P8zSQVHMnZ+P9L14D+JZ6l4LLbSQuBl07drVTZgwQcJOOeUU+V/X8CzM98yaxtxM/hxwwAHJ0akh/vgnYpLXdAsdHPF3vPLKK2UfQidBZFDhnHJYf/31k63/8v+7776T/+Wy1lpr5dI2fS9cHEKHRPJE8+O2226TWeu6TFEx8MFkBjp+myyxhBtI6AAkRwvTqlUrN2rUKHEB2HbbbcWtIAu4ATAznvgGJT4JNQzDMGZEGozi+dlnn+UUshh8H+sCGk1Qf74svPLKK+KjloY1D1GUP/zwQ9lXpTFGw2JFV8PSEzRiUHZYV1H9/bhmvfXWc+eee65M1FhggQVE0S2lQKNgsQ5l9+7d5Vr94VNZzK8yH1nuxTqP+HfiP9mmTRtZEzWLElQT8DHdbrvtZCIYS2KhrM8999zJ0fzss88+4luqHRmuRWEjj1988UVZ0gj5W2KJJeQ45Mv7rOgkHpS02pK+F36rcPTRR+fygiXBWEMTn+FSsEwUSuoVV1whSu1+++0n5S8Lm2yyiRswYID4bJIHWfKYSXusmYv/9Mknn5x3EpNhGIYxY9BgFE9GFvNNblhttdWSrdrBLFuUTybyvPHGG0loflQxRAlEUU0reUycABbfrg9YG1HTAmUIJWGeeeaR0TlGW7NAYw8oVml++eWXZCsbWe/FxBPSlokojIwxSlvTCS/FYCTw1ltvlVFhOgGMorHuZDEYjUaWGEVHAWW0jvUnyUPS9Y477sg06lcu5Yywl0LvpbPBa5u3yNQNN9wgecRi78U6RDFMONt3333d2LFjXe/evZPQ4tBhuuuuu6RMsV4uo62GYRjGjEeDUTxpTJmRPddccyUhTsyezPytCxi9UtPvWWedJf/zgVLCTGZg0W3M6ekRQkyeKDEtWrRIQmpHusFn9EkVTL7kw6x4RjvLAXMqI6e4C6RHeTF9lkOWez322GOyIDiuCPr1HUbF+EoNcA91TYjJouykRx5RHqFz584yWokig1KTb8Q8BnkiPsgBpnkUWK5l1jyKMgpzKWozCpqmpvfiK1uMhJ922mky8q4waku6lwOdmn79+skKBoxYZwVZWHfddSXdsoIMoegyi15dSQzDMIwZiwajeAINP2ZElm1h+RwU0bpkr732ki+3qG9c2gw6adIkUUr33HNP2T/22GPFhMvyQgrX0GjSWCtqboyVgClTpsj/fGHp58bLErG8jvrdAYoZ16EwcS/Mo/jBomShEOtxiP1jAVMsI2Ao0KQlvqIHHXRQbsQ2HzW9F+fHCi2mbRSrpZdeWvb5zwgdPpmkFwo1o88sLxWnB8fS6cMoGWmE4sqySYyqMkIJdFjIV/xiS41AM6qH2Zp4MBoL+++/v7wXJmeU4xjN1zg+6vdJfFCs8bXU43Feq0KdfpeYfPdiVJP7FLsXaY7C/Nxzz4npm7S4++67pfx06dJFzikE75oehUbOuQ9LZOFDHEO+6nJLMaQV58auCUqhawDf4XwKLmmNrzPLRxmGYRgNmNCQGRGhEZcvE7FkEbN7mR19zDHHyAx6ZpQzAzqG2cIswRQaTD9o0CDfrVs3mRGsMDO3TZs22EBlJjizpZkZzkxhwoKyI0vfPPHEE36DDTaQMJbpmTBhgsx4Z3/DDTf0QRHzQaGT5Yx0qSRgeSKeH5Q4eQ73CcqfDw2/xIPlmnRZpp122smPHz8+ubIKZmkzC57j3COeaZ6GGfS8J+cya/ree+9NjlRR7F7EIyhSft9995UZ0swg54s4yrPPPivHWRZo+eWX988//7zMam/VqpUsAxUUXpn1z/05b+jQobLsETBTm2cyM/6zzz6T/FpooYUkPszkZ1mhdFwLwXJHd955Z7JXxVprrSX5EUO662xslhHSFQuI03rrrScrG5DeL7zwgnwNi/OYjf/MM8/4oBDKDH7CgjI41b2V9L2Ync+yW1wXFGF5N5ZK4n0J4+tBLGcFQbHz2223nYTzI82Qp0Igx8inns/KAOSJ8sUXX/gFF1xQVhAICqAfMWKE5AfLQhFHlu3KB7PbSX+FLzHxLtzn7LPP9q+//npypDrMcI9ntbOCACtI8CzDMAyj4TILf0JDY6QgWRhdZJSTkbKgDOVmp6dhFJBRNv5jLmRyRl1w3XXXySgPpnRG7n744Qcxo6bvz0gXk3t0VjyjSZhV8QXNAqOj+NQxEWexxRZLQmtGoXsxAYlRMEbuiCsTSZh9HsNoJzPfmanPTHNmv5OeWUzOuDcwqomJmffHTE7+MbrGPXT0sBS4CvDVqviZn3zySS5ts8Lkr/T71ZTa3CsoppLezFLHZ3NaUJP4I7/IdTwpjA8V4NtMPhuGYRgNE1M8p2NU8cS0zuQnwzAMwzCMhkyD8vGc2cjnG2gYhmEYhtFQMcVzOoXJILp4Od9nZ2KJYRiGYRhGQ8ZM7YZhGIZhGEZFsBFPwzAMwzAMoyKY4mkYhmEYhmFUBFM8DcMwDMMwjIpgiqdhGIZhGIZREUzxNAzDMAzDMCqCKZ6GYRiGYRhGRTDF0zAMwzAMw6gIpngahmEYhmEYFcEUT8MwDMMwDKMimOJpGIZhGIZhVARTPA3DMAzDMIyKYIqnYRiGYRiGURFM8TQMwzAMwzAqgimehmEYhmEYRkUwxdMwDMMwDMOoCKZ4GoZhGIZhGBXBFE/DMAzDMAyjIpjiaRiGYRiGYVQEUzwNwzAMwzCMimCKp2EYhmEYhlERTPE0DMMwDMMwKoIpnoZhGIZhGEZFmMUHku1a8fDDD7uPP/442XOuWbNmrnv37smeczzmmmuucf/884/szzrrrG733Xd3//vf/2R/euL33393t956q/vzzz+TkCpmmWUWN9tss7kFFljAtW3b1i255JLJkfL44osv3LBhw9xXX30l73/ooYe6ZZZZJjk643LRRRe5CRMmuDPPPNMtvPDCSWg2Jk6c6Pr16+c222wz16NHjyR0xoZ3fuyxx5I95zp06OBWXnnlZK8wzzzzjHvzzTdlG3nde++9Zbsu+fDDD92jjz6a7DnXrVs3t9BCCyV7xvTC008/7d5++23Znnfeed2OO+4o2/VNbcr69Mott9zifvrpJ9meffbZ3R577CHbhlEXzFRtHIpnXTBlyhTfv39/lNjcb+TIkcnRKoIi53v27OnXWWcd/8MPPySh5XHDDTfIs+qboCD7vfbaK/cuO++8sx8xYoTfddddZT8oof6ggw4qOy4vvfSSn3POOf1OO+0k78K92rVrlxydPrj22muTrbojNH65tOzTp08Smp1ddtlFrm3UqJH/+eefk9AZn9tvvz2XbgMHDkxCi4NMbrLJJnJNaCCT0Lrn9NNPz8Vt3LhxSahRX9Sk7qPOXXHFFSWPWrVqlYTWL7Ut69Mrf/zxh9TVvFdQ4pNQY0ajPtq/fKSfMzO1cXVmamcE8+ijj3bNmzdPQpw78MAD3csvv5zsORndY5Rz6623dvPNN18Smp133nnH7bfffu7ff/9NQuqPkPkywqS0bt3aBUXUhcrfBeVZRnAvv/xyd/HFFydnZOPEE090v/32m5trrrnk/vvss4876qijkqPTntBZkPeqaxZbbDG39NJLS7p27NgxCc3OuuuuK//XWGMNFxR32Z4ZWG211ZKt7FAWV1hhhWSv/ggKTbJl1Dc1rfuocyl3laS2ZX16hVFO2gFjxqW+2r80+Z4zM7Vxde7jGXqEOYUNk/V2223nvv32W9mHpk2b1si8/v3334uZaPLkyUlI/UPFmY/OnTsnW87df//9yVY23njjDflPA7LUUkuJyX3nnXeWsGnNSy+9JGb/+gBFG5Pf119/7bbddtskNDvEi2vHjRsnitXMAu4dNaGm15VDJZ5h1L7uq3Q+1basT8+YzM+41Gf7F1PoOTNTG1dnPp7KDjvs4IYMGeLWWmst8WWEjTfe2D300EOiyD377LPid3TMMcfIMZgyZYq74oorRInDJ43RmiOOOCI3evree+9JBaZ+a4wQUgGcffbZosTib3beeefJSCLX9+3bV5Q65ZFHHpFzucdhhx2WhJbmqquucvvvv79sc8/TTjtNtgcOHJgbpezdu7cbPHiwbMMTTzwhyuQff/zhlltuOXfSSSeJsv3dd9+5c845x1122WXSgOCrt8suu7iTTz5Zrvvhhx/cBRdcIIop6USaMWKsSjp+e3fccYeMtNIbOv300921117rrr76ahk1VX+jQs8vxX333Sd+JfgwMWJB3JZYYgnpOAwdOlTuB+Qbvrz4oiy//PLuwgsvlPCnnnrKjRo1SvIKpXrLLbeUtKEA0QEhzWhAgWMbbbSRGzNmjBs9erSE4TfLiDLvRaOFck/cyecnn3zS3XPPPfLujRs3lnTEH4b8+fvvv+V6RtuRIfwOkZ/zzz/fzT///HIMJk2a5Pr37+8+++wzN8ccc4h/7txzzy3HGJUpNTJDD/W1116T7VVXXVV+5557rsg4I/iky1tvvSVxI3023XRTydu4AuH4gAEDJB2QU0b/t9lmm+RoFfgVk6b4TC+++OKSJ126dJFjpCHlQikm91Ril1xyiYzSaN6RD+TbK6+84lq0aOFWWmkleW/taZcLftDqM0hluc4668h2MVkmLuSx5ht+hwcffLDE9eeff5Yw8gerAuXkuuuukzwnLXmXX3/9VdIQOeNeyFinTp3kOs4dP368bJM/u+66qzxr7NixknY6eky5oa6hksdX+4QTTnALLrigHKMuQo6RzXfffVdk6IADDnBbbLGFHIdPPvlE0hqZYtQXGcWXkXhDsTiWS6m6r1S9AVtttZWU71atWrn3339f3vvSSy+VeCKfvNuGG24o5xaSKfKC8qN5RP1AOR0xYoQomshVmzZtCpZ16oe77rpLwtIgh9RhUNu0K1YPwZVXXimjx7D22mu7li1bSvqRjpQZ6ruYF154Qcojgyfci7JDXYDc/vjjj8lZhfn0008z1Z+F0h1Z43qdb3D44Ye7G2+8UfIT39kzzjhD7kP5oX3Akkg7hVzHPPDAA9IuUIdyDmmi59AmUZ8qpDd1Gml59913i1wde+yxUkdzPXlOPUtcSRNG4ktBvuL3SzoD9R4yi98svuHHH3+8jPQBbQLlD2iLjjzySIk79SesueaaUrazymQMugftBvMrSD/yg3MKtX/4WzI3hXoBKOfoMPfee6/sk5bahgPXE1fkhDxddtllJe2QcSj0nNVXX32qNk4p1W6UI9Ol6q6KEV60Ttl+++3l/3PPPeebNGmS8/UJFaaE4wsWEkW2FfwnOScoiOJH07p1a7/IIov4UBjkeCgAPlSeuXsFQRD/iNB4+aAM+NA4+FDZyrkhQ3xoVH1IWNmHoOTJdSGR/TfffJOEliZkaO6ZIbMk7MUXX5S4ERYqVB8qJAkH4hUqOB8qBh8KhcQDX7tQAfpffvlFwvEN4toNNtjAh4pYrgsC4oOyJMe4X2gcfBAwv9566/m//vpLzoFQGci1zZo186HhyMWNeECx55ciKBHiA8b9QkUm6RsqADkWhD73LPxcgyIr26FCknuTn+yTXzw3FDLZ1zyHUBBz9wiFKgn14u9LWCjAPjSwPihWufOCIpmc5X23bt0kLPZZDJVV7lze89RTT82l72677Zac5f2ECRPk/lwbFEUfOgHyDqQVchOUkOTMwpAPQVGVe5NOQeHyodLKPT90UHzodPnjjjsuF4b8KKEBE99e8h0/PfKKc0KllJzhJS0333xzCScdSDP11eQXGvTkTF9S7g855BC5Jk6vPffcU9IH/6FQKUo+33TTTcnR8gmNRi5u6uOZRZaDUp27TmXko48+8qHClbBQUUoYUJ+QDkAZCsqjX2WVVaTsh0Zb7h0aQTnO/Skb3IPr8KPW5+CPCr169ZJreF5oCOUY9wTSn3qG/OVeyDMyTr2hZRWfydCY+NCxkHzkXUKlnUv3UnEsl2J1X9Z6IygHcm3s40kdERo8HxT1JKS0TAXlJRePoLSI/POe7IeOnPjFQ76yjuwG5VLqX+Ie581DDz0k59Q27bLUQ0EBkjwlnHwMHfZc3UJ4aOSTM71/7LHHpPyETom0Z5dffrkPCo2cS5pnpVT9WSrdQwc3d/3666/vg0KVa9OWXnppeYegPPjQ2ZIw8jWu87WtCAqS7DPPInRM/J133in7QaGR53EO76v5CKFD4oOylOx5H5RMKadBgfEvv/yyXKNlqxTUEZzPjzb+/PPPz9X31I2vvvpqcqaX44QjZ0B+av0QFDcJg6wyCdR1lOXrr79ensU588wzjw8dgaLtH3M59BmUOaCMsR+UR9mH0KGT/KCeBa3jecZnn30mYcWek6+Ny9JuZJXpUnVXJak3xRM0kfSHc3xa8Qy9NDlGYpMYcPDBB0sYBVCJG3QqJaV9+/YSRiUBVFbsn3DCCbIP++67r4ThZB9fW4pY8USgEBS2UVho2FFgFCp+KhQqSn0G8ef8Bx98UPahefPmEsbEJSX0YiUMgVC00uR9FH0PKo3QY5UKlsqciiHr84uhabnuuusmIVVQOAjnRwEIvUURfM3H0BOWY6HHLvsoZezTKCpffvll7h6x4qkFBMVQHaq1EtQCDFTKhMWFksZM70kDDaEHKftUOop2bLQSA50kcNZZZyUhpQk9SbmGdNKKPfTWJYz7qfxq2N577y37QINKGA0EUEmxT0XIhDOIJxJxHGiUNCxWPEvJfT7FkwqMsNDjl33Kom7XhHyKZ1ZZ1oqbNCUtkVkaeMJQ8GloCKcSVbQO0E6gNnwdOnSQfdBKncoeuX388cf97rvvLkoZnUaOkXYQK0iU5TitUTRA81KVAhoC9pH5559/XsJQDN577z3ZzhLHcilU92VN67Ti+eOPP0onCeU7ppRMxemF8gMoYxr2wQcfSFi+sk5dynMBRVKPU1cotU27LPUQaOeUTh28HU2GuvrqqyUMVJGjLCl0iggrR/EsVX+WSvfhw4fnrlcl8JJLLsmF3XvvvVOFad6SFzoA9PTTT0vYqFGjZB/ZZqAHVGnn9+STT0oYsobsKHTQOd6pU6ckxEs5Q3nRvC0GnV19xtFHH52E/ldmu3fvnoR4eQZhcZ2tncpY8cwqk9QnCy+8sIT9/vvvUlej7LNPvQuaD+n2D3nU+6niiZ7Dfqx4Dh48WMKQDZQ8Bjz0Ojp6SqHn5GvjsrQbkEWmS9VdlaReHQmC4iDD5EroLbnQ00j2qgi9D/nPML6aQxi+BobcGaIvBCaL0EDINmYPzGxq/sDkrDAUzbHQ8MhQdU3gXRjODo2TmAQwbWCuDZWKHGfoPQi3mGAwIfA8XToqjks+mLAEmBwUTQPMRmn++usv16dPH1mCiWF9TGW1eX45kIeYKDALYaYAzDahgIipFROCulgQn6wQbzV9h4In/4vlfRrM0pDv2lD5yv+gmMt/UNMC+VkuPCsUfNnWe2IuUfnVMDUBsawM+QGax5q/oQyKuQkwawHpoOdpmsRklfs06rpCHuLWgIkJk1VdklWW1YWFdwnKobjiYN6DX375xd15551iIg8KqoTBzTffLP+Ra94ZtwkgLdSUqWA6xySF2ZAyGho3FxpwOcZSb4DMhgZB0p/6B9eU0KC49ddfX8xVodHKmThVlnkv8h6zF3HDBEYdx/lQThxrS7n1BiAnmA/Jf40zlCtT6fIGxcorMkcZD8qMC4qchGEODUqWbENt067ceqjYO5AeWjfES93lK4/lkK4/y0132hyI6zLNxzhM657bbrstl3bpuuebb76RsgeUR/IDcJUDzMKYghXNn6DISjz5sY17RVBk5FhWNO0BMzNQB1Af1pRi+cm74GJCGhFn6mraTN4Vd4G6AJeojh07ihkcVxd1DYBy2kIla7sRUywNStVdlaReFU8IPSnxdwMSP1ZEYWLiWxInlCqHVECff/65bOeDhkHBDxD/DRIXYerVq1dypMohPPScqhXMmkJjrcoyPi777ruvVJAal9Ajknjw69q1q8RF3z8fVBBUAJAvDULPVf7H8B4oOjE1fX655JvViU8Rzws9drfTTjsloVUTqGpD6JUmW+UTXxt6gfJf0xl0m4qivtA4qIyD5nHcAdI81v9UjMXIKvdpqGgaNaqaMIefGhMBiykL5VKOLON3hK8y4JNFJ5MVIlq0aCFh+GviQ4rPOCBLNNJA55V3Zp93xncsLSv55BSfTVD/Q6Bh1WeQ7jyTZx933HHiZ6VxV1mmksbPEugAojzgX01DVm4ca0NN6g3qX+oC/BbxqVOlGmoqUzFZ3g9FEz88OPXUU3MNZV2kXV3UQ/qcOP1KlcdySMtlXaR7PvQ9stY9dArojMDtt98uvoD4jMbpqHHlGuLJ75RTTpG41kZ5UWWK9lSV7rpC00HLPmVAFXHqfnwgY3/o2kDHlc4y+cYcBeRQKUcGlax5VwpNg2J1V6Wp9yfS0NFTYsQB6B3FaOOjI0igI3WgoxP50B4aoFgiRPpjtKO+WH755WWEBOjB0yvRuCBgjNzEccG5vhDa+4J8aZDv/fM5Atf0+eWS79m8P5OlUB4YqYp7s9MDNLKMNFBx3nTTTTIaRG+UMB19qU9UxkHzOJ+Ma8eo1OhOTeWeSSqMKqhyx4QVJivUFeXIMu+gTu+MynAt76/xJ540QlrOuK+mD6OZ8Tvzi9MY8smpjqag2BRKY5ROnO4Z2cJSgqN/GiY0MIFGGyzkiQkL5caxNtSk3qDu1ZFmRlNY2k2pRF3KRBsmfABpHE+Uq4u0q8t6SOMCWUZbs5KWy/pO96x1DzDxlnNQVLCoMbkpVso0rnRY4njyo02sKbFSpvGNZbouiEdSdYQ5K+XEhfqUyZoHHnigpEttKCfvslKo7qo0FVF1aTyY0RgXMgWzFmAaUej5ABo6lRBoJRuDsGsCMmoSEw/9M4N1gw02qGbWKZdY+DAF8lNQquPZc3FcEHhGGApB/Nu3by/b+dKA1QGyUNPnx+RL41JQafCFKkYnaNTyNfjTGtJ4t912E1McI3z8UDxRLHQEsD4hD3XURPNY8xc0j1dKZj4iW98mS5DFFaaSVe7TMHuVWc+YEHWmsLq+0IGissQMm1Ve0pQry7ivAMcxcYN+ZYkKVmfzK6ussor8py6JR0ZYKziukAvBCC+ggOGiopDGjITgSsPsarYLKeSYb3GJQGkaN25cTrnRdCwVR0aSmGWOiwOmvyzkK5c1qTdoqMjjnj17yv6gQYNklA1qKlPlQJpp/HBVUqVe86I2+VvX9RCjVxo/Zicr+cpjbajvdNf2FdJ1D3KlZm4gLlrmGPXUToqibQwjbbEbAHVVPHJbLjpyT/5rWugIX5zetUl7LfuQXntbrT6F2r/YoqBxyBcXVphhhZtFF100V5/lI2s7m7XdyEqpuquSlK9pFIGeEP6F+aAniq9VuvdAr4Bhfioa9UvRgs5yOkqs3WPaJpO5jqFiwFeFxuKVV16RzI8rC8z7LA3BkjvaoGchHp3VipAKjhE0GmrgmfTeGVqn4ALL7LBcCRlKL3L+aFkfHfaOK1J9TzU1cQ4NFMPqLMWgaM87XyWc9fnF0DRmqQmUH/Uhi3v86WfjP6lD/hRozGcINVBIXn/9ddmOr9O0Aw3PGhbfJ989813LummkD75fjHKiXKxQgwXWi8UrDtNt/Y+covSC5rHKJ6MKKMVARR+bwqncMDMqWkFnkXuNV5xGlBnOw5THEi2gS5hQIbEcFUuPZfX7jO+t75pVlgElmMqPJUd07V/qCZZLoZOKr1SMjiDgTkLFjpzdc8890kiqCapYGcEEpp1fRnRQxHlflkuiXsAHXN+D49Qb2sFkOTTMdSgjvAcNAWmnS6loOpaKI65H+Jsx8h6POBYjX90HWdM6LaMonKQ7dRlKKO9YjkyB3itr2IMPPihpAMiXWmHIA41/lvwtRNZ6CNLpkS++mH91fWVMzqQRSzSRd0DnhF8WitWfdZnu+h90m46kdlDSdQ9uJmqJVHQUGmsEy/3EUE5UGccsj48kSwvRHqZdv0rBckm8A22s5hN1s6K+rLjaUe/hE4tcQPyeWdMGdytVsnGnoWyjPCMn6udaqP3TuAByxFJSyDPEcdH3QMFD19DlF2HSpEm5dC/0HI23/s/aboBeUywNStVdFSU0bnUCM95YDodbhsosN8s4TciMarPagXNbtmwp159yyiky+1ZnNios+aBL7zA7TZfACYnog1Ih4fxC78SfffbZckxhBjnHmPEZMiEJLUyoUGQWJrMh9b6h5yHPYTkCZqYz248Z+THMig095dw1xJPlHiD0qmS2ZVC85VjoFVVbyiZUwLJUBzM7WQqIa3W5CwhCLdfovZktGoQrOVpFsedngVly+ozQu5WZkZ9++mluhiE/ZpqHyiC5omoJGp01yzJTzMBktnNoKGT5C2Zokp6h0c/dg5l648ePl1mcoRBKGOnCdcz+0zRacMEFZVYy8hEaytz1LN/BjP611147FxYaLZnhqEtd8WOWJ8QzNueYYw5ZFaBp06aSl8gb71AK3kvjRZxDpSWzBeMwZuuyBJQ+izCdqYrcBcVSZlISH2Y2tm3bttryLTBs2DCRNe4bKpfcUixc17Vr19zyN8XknvRiVr8eI714R5ZGYWUHlqFiVjPlgfyFoFTJzEjyjGuYlVmMDz74oNpST6wcoMtylJLlGOKSXo5lyJAhMhM9H3yCkSVC9LnMXA6NlxxjFY1YdtLlE1hCRFdN4IcMhMZTjhF/Vq8gPFTGUuaCIpC7H7KILFP+QyMmKyLwn9m4cb1SLI7I96yzzirp3LFjRwkrRaG6D0qlNTKps3d5bmjkJG9Zgk3jRz6Ghq2oTPHe5IkeQ5aQXV2dgB/1bKGyHtdLQamUmcnUMewHRVGeAcXSrhhZ6iEICl3u3sxIJm7xcjmUS2QbWCmEGfWEUza22GILKTekI+WItqwUpepPKJbuoSMhM+H1WFBSpe5jRnQc9uabb+biqmHkBQRFSJZhYpmh/v37Sx3P7Pyg9MjxGNKRd3symdme5uabb87NoObHzP+gDCVHi8N5eh35ynsRJ8psUDqrtWe8T+ggy7mkBzKibQXxp2yWI5OAjIdObe5Y6FxUW9UjX/sHXK+roOg9dTUW4j5ixAg5LyjTorsgH9QJ5J0+j3TSfM/3nHxtHGRpN7LKNO9Rqu6qFLPwJ0SuYvA4eu3pHlIQeBktpQfECOI888yTHKkO5ilG8NDeY+gJcIxRP47HcG96KphPYt+d+oBn4T8VMlNMpzpUnoUgGHItvXvMDul3zEJtng+MmjC6w6hYKFRJaGnolYaKIWdGYPSa62s7C7QuoLeIaVl7jWnw62NR30pAOrGIN+4nhUZd6dlj9kVeGaGjB80nCPNRTO7T0MMOiom4GWCdwKdM8wsYGeJeLCZeKK2yklWWkTVGeXWCAWD6Qn5C5ZyEVIfRSdKQEZlyR1qAsoG7AWY9RljjNED+mXyE/CvkGaMPagYkHUlr6hTCGbFNUyyOWE8YOcOPNSjLSWhpCtV9dVFvxJQjU/VBbfK3Puoh0pYRJD5KgJ8q7l/10Y7Ud7pjDmfkjdGyQmULOC+eyZ+GNhrZp26irc7aTjAirfUYfoZBOZJyGDoKefOZ0UD80KkH1de7LqD+o66jfUznY6H2j3C1FhWbSEXaMHGHegFoj5FJ6t30/cppZ7O0G1nIUndVgoornoZRaTDVYVbA/EEFh8hTQWBiwZSNawKzmI2qme/4x/E1IaP+wJTZt29fUf4NY2YgrXjGk8uMmYs69fE0jOkR/BkZ5cKXqnPnzm7zzTeXGd70uJk5WMwRfGaBnvnll18u26Z01h+MZtMJwl/OlE5jZiL2O2TEz5h5sRFPY4YHEwUTOZiAQI979tlnzzlcM/lqmjhXT2fQKGCWrEuTljE1KJ6YKGtrDjeMhgTuM6whyUoiwIxsJgwxwdCY+TDF05ipQNzpbeMPZxiGYRhGZTHF0zAMwzAMw6gI5uNpGIZhGIZhVARTPA3DMAzDMIyKYIqnYRiGYRiGURFM8TQMwzAMwzAqgimehmEYhmEYRkUwxdMwDMMwDMOoCPWynNILL7zg7r33Xvf555/Ld2H5NBaLJjdEbr31Vvm2MvAN3Q022EC2K8HTTz/t3n777WSv6jN7M9sC38gS35XlyzrF4Hu/W265ZbJXWaaljNQFfL/3kksukU+K6jeGY5544gl5R75V3rNnT/keeBq+q8yXj959911ZHHqfffap00XSqUuIZ30s9s+3zk866ST5nvdpp51W7dvt9cm0em4+vvjiCzds2DBJY/L50EMPLfq97krz4IMPuuuuu04++LD22msnocaM1Nbmg+/233333dXq/80226za99JfffVVSQelTZs2rn379sle/TJu3Dj5lj/wYRK+jtdQmKayg+JZl4TGx88yyyz+0ksv9QcccABKrT/22GOTo9M/QYj9a6+9lux5/9lnn8n78B577bVXEloZQmHzQRjk2fxeeeWV5Eh53HDDDX7KlCnJXmWpi2cHZcY3adIklw7Dhw/3t99+u7/mmmt8r169fCjwvlOnTsnZlWdaykhteOedd6SMkn7E/csvv0yO/Md5553ngwLp33jjDR8aAN+oUSM/atSo5GgVXNeqVSt596CA+g4dOviOHTv6X3/9NTmj9lCH7LTTTsle7UjLJHWWytZ9992XhNY90+q5pXjppZf8nHPOKelLHIlPu3btkqOVBxm64447kr0qWrRoIfEKSmcSYhRra9PtWEPm448/9q1bt86VlVVXXdX/9ttvydEqxo8f75s2bepvuukmaTcrBc/q3LmzxCt02pPQ6Z9prafVqeL5999/SwXGS4wcOdI/+uijPvQA/Msvv5ycMX3z+++/+5VXXtk//PDDSUgV88wzj7zTtFAqrr76ank2v5oonm+//bYUSPKm0tTls5dccslcOqQVJBrtDTfcMNmbNkxLGakJoafrTz75ZN+sWbOC6frmm29K5bT66qvLPvmIEjr33HP7b7/9VsJgl112kevvuusu2T/99NNl/4QTTpD92oIiMt9884nSSyNUG/LJ5PPPP+/nmGMOv8ACC/iPPvooCa1bptVzs7D55ptLfu2zzz7+ww8/lP804NOKnj17+pNOOinZq2KHHXaQOB599NFJyMwNclSorS3UjjVkLrvsMnlX/e28887Jkf/YZJNNkq3KcuCBB0qcGoriWUx2KkWd2nZC5elCT0S2GRrnO6zhxVxouCRseob4Bs0/N2weExrfZKvy1ObZ33//vdtxxx3FpFdp6vrZ+dIBEzzytsUWW7jVVlstCZ02TEsZqQm4JfTr10/yqBBXXHGFfGI0KH2yz2dG559/fjGr33jjjRJGPt9yyy2yrecttNBC8p/vMnN9bcEEjCsDnzq9+OKLk9DyKSSTmG4nTZrkPv3002omvLpiWj03K2+88Yb8pw7E5EZ6h4ZdwioNMjN8+PBk7z9GjRoladW/f/8kZOamUFvbtm3bgu1YQwf3D61nb775ZnfBBRfItqL1j1Gc6UFPqzMfz9B7Fx8vrTS6dOni9txzTxd6qlJZfPfddxLevXt38R064YQTpELGb2eeeeZxP/zwgwgSlWCjRo0kMUJPQvyNYOzYse7OO++Uhixo6yKEZ5xxhnvllVfcqquu6s4991xpmM4880yJS+vWrd15552XySeShnTvvfd2t99+u+zTSCy55JJu3333dSuuuKII9E8//eT22msvd9BBB7nzzz/f/fzzz+7II4+cyq8Qfzgq7j/++MMtt9xy4sPVtGnT5Ghp8LU655xzRKlac801pUE6/PDD5RjvqgoW8eE5hH344Ydu2WWXdccee6xbaaWV5Ph7773ntt12W/fmm2/K/lFHHSWF9uyzz5Y0feqpp6Qy5zyEj/fo3bt3NT8zGoE77rhD/D46deokPntUakqhdy317JpAg/jxxx/L9pdffulatGgh9yM+Cy64oITh5/nrr7+6iy66SOQJttlmG5EplCMUouOPP34qP8EHHnhA3kOVLNKBCjwGpeHCCy8UfyLyHvlGBtWPMauMPPnkk27QoEEu9Drdeuut537//Xfx7ysFcqHpWYzFFltMZDYr+PWQXqDpqlARjR8/3nXu3Fl87GDRRReV8/A3vu2229xdd90leQ3PPPOM69ChgyislF147bXXxOeqplCmSafnnnsulz+fffaZ1AH5wC/6qquuEl/FhRde2B1zzDHy/EIyifxQ6SLDgA8heUNdplUjPpjkNbJNWuF3ts4660jdRvwoR2PGjBH/VhRz7klnCMp5LnUOcE/S8P777xdlf4UVVpB8at68uRznWaNHj5Zt6jdk7vTTTxd/cPKKcqgNdDGok6lrLrvsMpHvlVde2e2yyy7yrgMHDsw1Tvj18u7EibQB6u9mzZqVHZdC5Yj3pDyfcsopku6k77rrrus23HBD98033+QUKer1/fbbT7ahWNnlWbQ9PAd4N+I1YsQIqdPoeGWVTeRK86oY66+/vvj6laJU3VrsvQq1tVtttVXBdgx/Psoi0F5qm0m9svXWW0s5eeutt0QeqGc33XRTd/LJJ1drD4q1GSgzQ4cOzckHabDrrrtKHUH7SjvGuTWF96WNo47p27evhKEnkE7EFSiP+KID5e2aa66RsgToBc8++6z4NAJpyvsRX+pqbS/QT+jgUIdwLeWSdL3vvvskDshUr1695FkK9T3vjn889TtpSB25cdBhaJObNGmSnOmkfRowYICkIfJEmpD/gC5EfQvkD+lHWUL3oTxmGVwpVXcUkh2eVVGCYNcJEydO9CFBZfiWX8gMP27cODmGD5GGn3XWWT4oKbn9oLz4kOk+JJAMVWPCe//9931INB8aHP/XX3/JPSAkklyDySooFD5UVGL2IyxU9D4UIB+EKGf27NGjR3JlcfAh7NOnTy5OQTnx1157rfjuAfEiHD82/KC6desm+5j+uFbB5zAUQn/jjTf6IKDil8TwfyikyRnFCY2lX3zxxeXe3ANTSVC4cvFSU/vXX3/tl156aR8ERvZ5Lsd5b41zqCR8KDC5azmHdwoFzQcFX8LIM+IZlFXZD42iXAtq4g8FSUydoUBKnirF3rXYs2tKqLhy9wuF2odOi6RBaJSSM/4DudNz8Q1CJtRXFhMD/k8KPi6EY3YGzHxBOfahkyP7EBpgv9Zaa0k6IY+kBdeEDkFyRjYZwaeSe4cOk6RTqKAkflkg/TCLl/rxnuXAOxBPfqRrjPp+UraUoHhKGH5WwDvo9ZiOIVR8uTB8cWtD6DD4oKhIHPSeF198cXK0OpiHg5Ljr7/+esljzqVMYJ4vJpOhUs+Fa50Vv1dotCQMHn/8cR+UIv/PP/9IHnJP8hy5oDyR38RB3Q7KfS5gRiTskUce8aFxEhkJnSq5v0IcOCc0oD4otjn55kf6Z4FyTflV2d1ggw1y8SYt9X7qb0kZ0bDQcEoYZI1LsXIUOm3V3IooP6QTbQdpjTsC4bgFKFnKblBMcvcMipsPCpZfZZVVZB/3He6dhaCg5i1v6V9Q5JIrClOqbi31XoXa2mLtGOmtbSXyGpRSSQs9d//99xd3huOOOy4XFpRjeR5kaTMw2dImEB6UQQlDxjknKESyX1MwtdMeUua23377XBxJc9xDgPAY0kXPQ8cAdAr2Qwdd9iEopLnzqNeCslmt/g7Kofz0ubwjdbmipnZ0ltApEl94ZI2wrl27JmdVlbegPIr8Uf6p17iGdAPyiPfhOp5FO8I2P9yXslCq7igkO5WmzhRPCD2m3AsxAUT59NNPc+EkQuiN+NBDkJcmcbTxU2EFFWwyR8F/jjD8olThoABpGApZHIbSlpXQQ5Br+KV9Y7RiDj0Y2aeA67lUIoDCjEKMIKmChXLMOQ8++KDslwKB53z8c5TBgwfnnqWKp4YRrz///NNPmDAhdw4NiRJXIrHSp5U4E0dA0wvlXwm9WQnD34sC8fPPP+eUmizvWujZNSVWPCnMOtkgn+JJRaTnxj5hVLiEUdEDipZOWnr66aclLPToZX+hhRYS2YT+/ftLGO8EqjCo8gVZZEQr7zXXXFM6GUBFNS0ppHgyMUjDkQWFCpswrbjjxuuFF16QMBosDYsbr5qA4z5KCXKl96Tjmu7M0RguvPDCchwfNxq6+eefX/ZV+S0kk5QZDddKmPshA4RpnsKgQYNyE4GYvKHXPffccxKm19AYKeU8FyWPfZR+bawPPvhgCaOMKdowouxRNkHLhHZIs9K8eXO5jvpVeeyxxySMnyqeQ4YMyYXFimfWuJQqR+Qb+/zSPp7UTYSr4pm17FJn6j379esnYZdHk7o++OADCaskxerWrO9VqK0t1o5pHdq+fftc+VF5ZTKZypuG7b333rIPWdoMoD4jnN9DDz0kvoO1VTpBFU+gbqIjoM9BmaO8phXPvn375s5RxVOVx1jxjNsLFHeI21TquHTYiBEjJAxU8aSTq9CB03M13loPEC/Ap5J9JmMq2kZxLzoNdHR33313GYwrRda6o5DsVJKKr98RlAYxBWJWwMTDkPwNN9wgx4LAy39gKBwY2k+D2Qfzqm7rf71ew9TEUlcsscQS8j8oufIfMK8CQ/hB+GW4HdMuQ+ahNy3HMElngWUjIF7GBDNfGobHO3bsKGZkTNeYSBTiUAqG9xm2x5xF/DG3QHytDs0HpUlMXpi7zjrrLAmri3etDbhkYCbC1FKKxRdfPNmqMh1DqBDFhIUZKFTkEqayo3LH+4ZCL9tqlgi9UfmPGRmTK+aYNMVkRNP0pZdeErMZ8VAzdykwL2NWKvWrb9+u0GDJf+SuEHoOFDuvFJjVMP+GSliWUFEXAsxUmL5i2A8dTyn7mLYw/yGnQVmayh0mC+SfugtgTtZ0JU7UYYB7SWjIxLyKKTEoMS50BOVYlnKYj+uvv17+Y7bmHUBlEpM2proYyqDWEdSlkD6nUpSKSznlqBRZy26M1gUaN8iaVtwvX3lL/zT/i1Gsbq3Je5UL6aDuD9pWUm+pvOVrP7O0GYD7m7rB0D7hOqH3rSu4Py4+Kke0P/vvv79s1xZ1d9E0AMo2xGH5dIvYpWSlxOUNQidO/uOXCrSVxJk6HXAj0jxX0G+Cwilm+KCAuqCQJkcKU27dMS2puOKJj04MGUiBgrhCmG222eQ/viM1JWj9yVb9oQoXjQ7gK4I/ED8aKBo+9UEpBo01kwwg9gnJBw0efh/4muBHpYINcaNfCHwKiR/X7bTTTklo9WvxzcJHDvAPwi8Sf1Ko7bvWFiocfMnKXTNNCyG+a0xWmThxouyDyp7KHSB7KKihtyn7+CQDSgm+P1nXE1QZwccMH0jAj4g0y9ro0uBQEZX61aQRzweVe7413VRGVDZaRD6hSixHel5NwBeKDtaLL74oyjqyrgwcODDZquLdd9+V/zSEWolzLf6DNVV+Dz744JwPLwoSDQT31AaGcopPGb5Zxx13nPh2qfxkKYf5UJnMVxciR6y5V4pK1HtZ0bjURTmKyVJ2s5A1rYhnvvKW/um7FaNY3VpX71UXxGmTpc0A/OzxYwbKIXMV6oOll15aBqU0bVC68K+sFKXkJvZBp60hnXSOAv7NpCX7tJnULen7pfWkLNRF3VEpKq54xiNBoKMTEPcYtLHWXs30jjbSCBjO2jR4+ttoo43kWDFIA1U4072ffBx++OHSW2bUgGeUA70tRpLoBTFhKx4VVBh1paFt166d7NPLZaYr71fbd60reLbKDnEpNeOZcxQqhrhyUNlTuQNkj3C9Duf02oAS88gjj8gEAOC+RxxxRLWPBBSCRo1JLaV+aYWsNugkrDhNNC1YJB7iiVp6XpzOTJCrCXRu6NigrJBm/FBytT5gFFInSwCKjYLc1gU0ojvuWDXrH+WSRkLzTiGckVhG+pgwoopqTVGZzFcXQqXqw/j5dUFdliPIUnbrEmQtX3lL/5CZUhSrWyv9XlnJ0mYoTGZSmMCTVbkvFybvxKscpEdf61qGy+HvZJIVMCGTdkpHTBnNjNtMfnG+Q1pPysL0UndkoeKKZxpGI/QrA2qSBJ1RqQ1cfaMKTE2JZ0cya1KhQaRXmwU1JTJLXYkbVAUTzeDBg0WgMfUVIt87Ubl1795deluYJwoJODPfmElOzwwlF+gxUblmeddC6Yn5E9Mk8a8t8ZeccNeIC1k+dGSdL+8gd8RDUdlTuSP+aprXERncCOIePBVdvvwpBK4U9H4xOWI+IQ5cHytQlaZY/Lt16yb/YxONNiKbb765/KfzoxWanqfnoJRiLqQSpoOEuTxrWaBBYQSRVQjin5q/gdUBFG3EId0B0XjVpIyr7LP6ACZ/zMnKO++8I19oQg70vHyU81yVyXx1ISY/dTGqb+JRE5WRcmQ9H6XKUU3SCYqV3emRYnVrbd+rJjJeiqxthsJqMszmBtzARo4cKdtQk7qgGKQfqy7koz5kuBhxhzse+dYVLvSLb7gJ6Jfu4OWXXy7ZdmVheqk7slCnUhr3bOKEjEfw8iUwpgfQoWju88knn8gwsQow6LVxbyJfmG7HYaWIewNUAvjrqOlbn1HsWZgB+Vwi4H946aWXypA6JhqWWMnCQQcdJP/xm8S0iNAwiqKo4jRu3Dj5j58NnzmMl+PBhKuKa/xO+JOgsH755Zc5cw0N9Kmnnpq7H8/TBoH/VJCM4NDA05PHDwjhzfKu+Z4NjPBR4fK/HB9cGn6FkTCFwn7jjTeKz3A+PxhGxsg3rtf31OVYqPy006Oyp2mHWVzv16dPH/lPpcXSOCyDQuVBpacyn0VG8P8iv4ARTBRneqfTspFkqRNFKymFRoaRDZUXKkvSnlFMrUxRnhnVAE07dcXAvwtQuFnig1HLLMt2YDIiffN99i5WPBltVPPSJptskktHzN8sY4WCg3yrX1whmdQ8g3SdgUKr7hGMTMTgAqDnIyM8U9OTpYrU/F/Oc3kGyi1preVD01XrScgnZ/nCspCWYVBfZaA+Qgb4rKpS6rn5wkqVI2RJfUSpgymTDz/8sOyn75e17MbvpNfmC6skxerWrO9VqK3N0o6Vyifd1v9Z2wygvaKDwVJV6i/J+dr5K7cuUIgD75MP5orge5pGnw/E8dFHH80tC5cvDUDD84XF18TbCmmh5V9H9bGYaL2k9Qd1KANGpOE999wjy1+pSVx1pfj5WcladxSSnYoSKoE6ITQAMguOW/IL2rcfO3aszNoLjUUunNlzLJGRhllrc801l8z82m233WSGarwsxjPPPJNbyoVfqARlGQSdPcmPGac8k2s1bMiQIckdSqPxbNKkiSz7BPGscp7PLElmI2pYKGS5GWfMco2XiiIeoeDLsSwEJUo+XxWUEVk+g9l6LInBvYIC4Pfdd1+ZxR2UKVkWKPRuZYZ2UNI9M6U5jxmioYDK/VhySJc6IS7MeOQZOqsyVHgyq40la4Lgy1dpdBUB8iEol5KnfEqLWY2hspBjUOpd8z0bWOKKMJabIC6lCIXThwY99xx+LKPETFq+VsQ7aDirJUAobLkwZl+yTAxLWJCuzLoMhU3OA5Y/QVY5zqxb8jgohLL0RQzHQg86d19WYAhKvhzLKiOjR4+WlRZC4yLyxWxinSVaaZ577jmZVUyZ03iy7A8zaGPI52WXXVZWoGC5FT5NigymYeYnS3ewDBFpMHLkyORI1Qz/UCGKfPEcVmIoBDKGXJFXyB1pqbCESbzMET/knTIPoaHOlQN+8803n7/qqqvkGOSTyaAk+4022ih3DcuR6IoDCksLxTPbFfIfWeS6NdZYQ2Q1KFGyH5QImZEK5T6XJZiYgczSREF5l7KuM2GBGedBwZDrSCfKLzPk2U4/uxhBGRD50+vIt/iLRaEhy8UPGT7xxBNz+9SV1O3lxqVYOYKglMsKJRxD3kJD7IcNGybL2hCGHAVlVc4tVXYnT54sM4L1WdQXzOjVJXX4MZOf8ypJqbq11HsVamuVfO0Y9bzmCfkVOmWS1nEYy/rES6ERRv5maTNog5gRThhyEjorUjb1XqxOQfkspy4AVqphOTzSKCjn0u4HpSo5+h+kGWkaQ76ib2gcyGtdgYH3ZmY6Mkybq+dwPnV1uv5mRjvLWsXnkQ9AelM/cJxl37QOZEZ/UEblHIU0UlnmR/vEag7AUmtxudHVJMqhVN1RSnYqxSz8CRGYLsDkwuxRtH+GpekRVhp6Czw37XORFUbgeAd6RMxsU7/NcqCHymgmswi1B0VvOIYRvFBocqY/nsuIaGjYqvl4ALN9GYmM05NzQ8WSM83QQ+I6HXFgAW5mXzJCQ0+T/EinSZZ3TT+ba+h9MmJaEz+WLNA7x/kc8HlkJBlzto4s5INROkaLMYGFSiMJrQ4mDExHpIvevxy4HvMPvVrMtDxLZ7hOz9BDJv0YkcLPqxDIDD1sHON1IpfCaACywILgOpJTX5BHPA+ZjGeiKvnKQzEYFaA8xiMoCmmDWU1nIANli3JJesWU81zKCSONlHNccDDzTwvwP6Z8Z11oPQulyhHvzE/daEqRpexOT2SpW6E271XbdiwfpdqMrNRXXYCVNF1GKZ9M3KJ86uz0uoZ30HuTRtSB5BltcT5wqcB3nY99FGqPasP0UncUY7pSPA2jLkgrnpj1jWkPs9TpbDBb3DCMmRerC2Zu6t4T2TCmMbHfSuzPYkwb6IHj0wbW0BjGzIvVBQbYiKcxQ4ETO+vI6aQsVkVgliVLbxjTBjoCmOWymk4Nw5gxsbrAAFM8DcMwDMMwjIpgpnbDMAzDMAyjIpjiaRiGYRiGYVQEUzwNwzAMwzCMimCKp2EYhmEYhlERTPE0DMMwDMMwKoIpnoZhGIZhGEZFsOWUZiBYI+2aa65xzz33nHyysGfPnvLJrDR8/vD5559P9v5j0003lU99pWHdtdGjR8tnuDp27Oi22GKL5Eg2HnzwQXfddde5ww47zK299tpJ6LSBNLrpppvcY4895hB91vncbbfd5BN+fKJUP+M5reJ82223uR9++EG2+Zza5ptvLtvF4LOqd9xxh3xCNYbP2fHZPGRhueWWm0oWRo4cWe0aPt23zjrrJHtVn/a79957JZ2Az7Yuu+yy7tlnn5V94PN5PXr0kE+BKg888IB8DlDp3LnzVJ+y4/N2zzzzjNtll11k/7vvvpO1V999912J6wEHHCCf50uDfPMJxxjWBNxuu+2Sverw+Vlkl09ecg5py2cE6ypPya+XX35ZPn24/vrru3333Tc5Ur/wWb5HH3002XOuW7du1T7bOT0xPZV/Y9pQk3rNmIFB8TQaPpMnT/bt27dHQ8j9gjLgQ6ObnPEfXbt2rXYev//973/+m2++Sc6oIihp/tRTT/VBcfEnnXSSDxVHcqQ8WrRoIc8IjU4SMm34448//CabbOLXXXddHxRN//XXX/ugyPigFPl5553XB+UnOXPaxfmnn36S9ObZoXJOQksTlDG/ww475PIzKECS94MHD/ahMyFhyMdHH32UXOH9r7/+6nfcccfcNXPNNZefMGFCcrQK0igo5L53797+zz//lLAxY8b4oLzlrttnn30kXPn333/9VVddJe/x5ptvJqH/EZQQkUGVp3feeccHpTZ3P36LLbaYD8qpHFdCh6raOfo78sgjkzP+49tvv/U777yzX2SRRSQupA8g07169fLHH3+8xLM2hA6LPJ93XH755WU7X3mrL04//fRcGowbNy4Jnf6YXsq/Me2oab3WEAgdfx86/sleda699tpky4gxxXMGoU+fPn7TTTf1xxxzjF955ZVzDRJK1ZQpU5KzqhQJFNL0b9ddd03OqAIlbIMNNhCFFEWjNqhCdPTRRych04YLLrhA4vHwww8nIVW89tprvmnTpv7LL79MQqZtnFdaaSV5drkVdP/+/eU6fuecc04S6v3EiRN948aNJbxt27bV5AEFXK/hhwL1448/JkerOOWUU/zYsWOTvSpQ6uLrLr300uRIFSh6nTt3Tvb+48Ybb/TzzDNPtbSmI9CjRw9/2GGH+WbNmuXuSVgMx9Ny26RJk6mU5ZdfftkvscQSfumll/affvppEvoff/31l2/durU/6qijkpDyQdHTeKIg8/77779/tc5LfTNq1KhcHKZnxXN6Kf/GtKWm9dr0Ts+ePWVgJg2DGtRtxtSY4jkDgCJx3nnnJXve//7777kRGH5fffVVcsTLCNjll1+e7OWHkaAtt9xSro0VmJrC/SZNmpTsTTtQhHgnRrvSoIR8/PHHyd60jbN2HMqtoAcOHJjL83S+rbLKKrljsaKG4snIXazwbbXVVtVGA7nXCy+8kOxVgeLJKKheg2L79NNPJ0er2H777ZOtKhhtRcE/6KCDkpCq0c7bbrst2auKD50d7rniiismoVUjlWussYb8LwYjnSidXF9MGUNR5Jx77703CSmPK6+8Mvfu8ShyJbnllltycZieFc/ppfwb05aa1mvTM1dccYW8U1rxfPHFF/3cc89timcB6szHc+LEie6qq67K+V+F3q0LmSJ+SCussII7//zz3fzzzy/HgMeOGDFCjv/2228uKDpuv/32k2P4ZI0ZM0a2F1tsMXfkkUe6YcOGiR8erLnmmm7XXXeVZ/Xv31/8w6B79+5umWWWcSeccIL7/vvvxa9onnnmEd+SCy64QHwUGzVqJN/tPvDAA11o4OQ6fMtCAyjb+CC1bNlSzue6Qw89tJr/2JNPPukGDRokz15vvfVcUPLcaaedlhwtDeePHTs22StMaKDFn7KmkP4XXnihm2uuucRHE38/wIcPP0d89XjXHXfccSr/u+HDh7t99tlH4vD111+LT1xN4V5B0ZHt1q1b5/I4H8VkAv744w93yCGHSJwuvvhiyadyQD7uvPNO2cb/9cwzz3SLLrqo7L///vviIzfvvPPmjTM+iUOHDnV//vmnhB9++OHuxhtvdPfdd59beOGF3RlnnOGCsu8uueQS8bfErxK5aNu2rXw//qKLLsr5OG2zzTYii0FxkGcGRdgFpUqOAb6WPD9U0OIvqeDXx3fnSZvZZpvN9e3bt5pPLnJJWYGgLMp9FXxZX3rpJdmmHPFe8Pbbb0s5oUzwPGQDTj31VHf66afL9rnnniv+v9xDwTcTf8utt97aPfzwwxK2yCKLyDP4DzvssIO79dZbZRv23HNPd+2114rfKHlbCMo3fpOcw7lAOuBL2r59e0nnTTbZRHyNKc8xe+21l/iubrDBBu6JJ55IQqcmKEIST+om0kPLRxbI96uvvto98sgjsr///vuLjLRr1072iSv1FfKMHAQFXeQAstZZWSBtKb8QFM+cf26pchQ6qm7UqFFSx+JTS72MT636bmeJ480335ypzsxXlsptK5AFylVQYOWHrzLyD6EDJD6DWaDepfyTPtRpxJNy+8orr7hVV11V5Jy0oV7AB574Ut7i74pznLjef//9Egfie8QRR7jmzZvLcfyWKf/6DMoQMo+8UKfusccech6yiYxQp+HTHBQXqW/LZfLkyVLPv/rqq1LPd+nSRd4L324oFd/puV4LHTqJm8rJ7LPPLu0+/qL4tSNzlK2sIO+kA3mDLz91Be+HH/hmm23m+vTpk0s3+OCDD0ROqSORe+ScMoA8cI+zzz7bnXLKKbJN2QtKpttwww2lLqGu+umnn0R/oa5ERklbKPS+WcpdUGhFPwLiwTsgY8QRX3rkSOsy8pZ7U9dRZghHtnUewzQlJFqdwUgSt+SHLx3+gfjOsc+oSkyogGSUBDMVpjHOwWdJCYVewjANAj6Mai6MTXChoZMwfmeddZYPhTi3Hwq3+JGFwibxYDQkKBg+ZLYPSqOY3ABft9CAyTVBIfOhcvDdunWTfcIZhQFGZxiNCcIqvXhGgohnOQRhltGlUr/a+kORvsQ/KNhJiPfvvfdeLm30x/uFApFLCwgNvxzDN5DeKWkSKjTJp3JhhCoUELlfqZ5uKZnATKvxJs7lEo8Q8cNMGyphkYuYQnEODVPu2vXXX9/369cv14vHrIvchILtQyMmYYy86chhbJpFZkLjKs9mH3/J0HDIeZBvZAB3gNAY5/IzVPLiOxePJBUa8SQ9tezkM7Vrbz00IrnrQyXl77rrLgkvNOIZKkofKkTfqlWr3HUdOnTI+YLGI56Y70lvzgkVbxKaH+SN88hvhTKvz9AfZT0e6SMfMb9zjHiExkDuhSkMF5M06nv42GOPJSHZ4Jn40Go8sCLgzgA6knryySfLPs+mzggKj+xDqTorK4VGPIuVI+SREW3yjDJPvKkD4vyGUnHMWmcWKktZ2wp85GaddVYZ7UbegsIi5wTFRuoA6rRyoB7jekbeKUNBeZCRKcKC4u1DR0rKJu4ghKXdPdTFJHQ6xGecsowfseY/cA/OoR5XeeC30UYbyXFMsLwT8k27hhySBlpXZCUoLj50BsWETV4GRUWeE9eNWeI7PddroTMiacV1uJIB9RwWqrgeywrP5l7URaRN6KD5oNxJ2O67756c5UXGkZHQYZB3xY+dc0hv9vFZ5Rhh/JB9ZJVyEzqEuToRyyPh6vtd6n2z1A3Ua+zjM7vtttvm0psfI7BAHUy5JM1IJ9zLgsI53Vge6lTxjBu+p556SsKCti/7+BoqodchYZ06dUpCvBR0Ekb9yzjGOap4AgWZsLgywIeLMH4UKBz9Qy9JzHkUNAohx1RoQX1NQk8xCfG5So8KAEIPIndfBAzURxDFTM3XVPLTIwg87/T5558nIV5M7BQyrWjjX+g5yTlffPFFLoy8o4JSHy3yiOPlguLP9XGFkyaLTITesuzTSN50000SVi74wOr76Q+5ihtdyBfn4cOH56657777JOySSy7JhanZNg5TMyzKlobFvm5aQdFoKPkqaJ04pkoSsst+6A3LPsTlj/zEhD1gwIBcxYrPbtzgQKx4AoqS3oP0pxwUUzzhjTfeqCZTBxxwgITHiicVrx5XxTQflGcaGt5XGxYa1dVXX90vuuiikvd6H340bq+//rqcd8MNN+TCSQvipfnYrl27qRp27WClzWRZuOyyy3LPUkUav1VVrtXtYFTih4miRH0EpeqsrORTPEuVIxo+vYbJWkDc2I87qVnimKXOhHxlKWtb0bx5cwlTZQpFTa9L+x1ngXLBtaSHTqbUCXaEaQdFw+h8K0wgIYzOjcrmwQcfLGEoEIp2Suhw4I5CmUNxoc6gc4RCw+CHlh+u5fwHH3xQ9rOiPt3HHXec7GuaoiBC1vhO7/UabSxh/B566CFRhGuidILmP3mjAw4jR47M3V8V5e222072mQQJ8burfzoubRqWrkP0vdKm9lLvm6XcaQcPxfPnn3+WMO1E77nnnrJPfc0+nb7nn39ewuhglNtRqy/qbR3PxRdfXP4zPA4MyyuYaSBU0m78+PHyYxszdL5lfrIShESGlDEbhYZBnh0aIznG0L+CuQAwN6VJxxs07mqeCL0SMTWEQiCmhnLANIKZodQvVMbJFeXD8iVBwMTEo6ZkCA2LmLkwyTA0f+KJJ+bM6JhNg5CLeUEJFYUM9WO2Ba7DnFsfZJGJ0GEQMwXvFhQfCSsXzIGYW3g3BdMGpsFy0lzdE2LzmJr+4zDSLI3KGASFSv4jS6E8ynaajz/+WJbIgqA8SNrwH0IvWP6nCcqaLBuFGZM8xRTEElLkZzEoN2qyJe6hRy1mrWKQlsgaphzAtIf7SgwmXcC9hV8hQgUvZlbizlJN0Lhx49ySRbp0VIcOHeQY5irMZRDLLm4BxCt0NGQfGaJcxQSFTP5TFuoCTIChcZBtrW+0rglKjnv88cdlOyZfnVUbSpWj5ZZbzoUOgSz9hLySZqEjINdQN+WjVByL1ZlZKNRW4PYRlAPZ1jLFu6icBSVa/tcE7sfyYLqt/zXfNCwuv9dff738x8Spsqn5i/kz/c6UQcy3lDnM6rgy4DpCOgelXczS5I+6txQqy4XAjQFCx1n+U7/THmEehnLjC9NjvUb51nYqKMxi3tb3qSmhk5FLt9gdQOsITNi08UFJFncFrb+gUDkpRbn1eKlyhwyFDr9sp8sOckw5wUSPS+CAAQPEDUvzclpTb4pnGjJP0QYCH46nn35afgjTkCFDapUwrRO/NYXCQYUPcabhVwE8Pwsad3w1tMHDbwLB0EKeFdZG3H333Uv+UBhqAoKHjw9+P/jfFWKFFVZwZ511lgs9o1xlS0GgIVf0vZdddtlcI63+WnVNVplA+Q+96WSvPFTBwA+KRmvkyJG5ipZ3JT3qmlju86ENAemulVCaWKHCx5i0Ic9Im169eiVHqoPPGg0TeQesvYn/UCkoJ7fffnuuw0KaDRw4ULaLwTqSsa8zMojPkqLKq5a9fJAnl19+ubv77rvzricLNEAow6SB+ncht5BPdvEXVdKyi0IL+GLVBXTqFK1v4vfNV9+k66zaUqocobjhG4q/2HHHHSedSo3jv//+K//T1CSOpeS+GHot8cJXF7QeRxFFkaFR1bq4PonfQ/M3X1uC8kjHKAZFLe1/qvmDX6TmD+0I+YMfdVZIA/zSAeUCUKYOi9ZKLTe+5VDJem2RRRZxRx11lGzTsXv99ddlu67QuIKmCQouvr8op506dZJ5BUqhclKKcuvx2pQ7yrqmGR0gOuB77LFHrRX2umKaxIIJL0BPmwYq/uHIDNqrLQcKXgyVrCZ0fD/tYWqPJys0VEwo2HvvvWUfAcRRu5wRk6WXXloqz1K/mo78MvkGx2bipeQbaVHoUTGRBEgPVcQAJVnRtKovwc0iE7UlVix5Dwoiow7auOlkiUoSV2Laq0+jaQP0wuO0oZNSCO7HqIc2NieffLKMHJaCip5RRW2wGC3LAgqOTiqhsosbJ+2ZF2qwaKAoV0xs6JhMquO5OkKQhvyjc9WiRYucbOaT3biMp2VX64E4fWtDnH9a3+gzIF99k66zakuWcoTSSbknTxiZVgW8EHUdx3JgJJ0Rm7vuuktkgUkZxIcRIMpCJdH8zdeWQDp/86Wb5g/lnoGBOH822mgjOZYF4qB1R/xBh5hy41uX1HW9Fn+YgXqslOJbDvniSseACZd0brEGahtRG8qtx2tb7hhoYNBALUxYeMsdKKsvponi2aZNG/lPrzweYkbh0l6BNnrxMH2hIftCkODt27eX7XhUQ0dG4lm6WWAkht4bI0lUiNyfONXG5FOXXHrppdJLw+SBgGHyRKjpWQEFjBm86UKLCZueFz07elk6ShZ/faZRMntY07O2MCOQwoz5F7LIBF+fYWSNmbxslwsmetwQYmh8cTmAUmbo+kBHcpjxWcgEjcKgx5itHFOqg8JMa+1YMAJJpySLqYjrmFFaDjRwVNKalzGq9KAQxSOhCjN+GclG5pBdFAtmdaLAwpdffplLKwWFGtMxs+eB2duqXKrsqtxCWnZ1FFblvbZgvla0vtG6hnip+bE+KVWO6FyR1sjA4cks2+kZZgXzZbGDDz5YZm5jFsVkiVm50mj+5mtLGGFS030x4rIRl2XaEaxP5aAjm+RzPApI3nK/uohvTanreo0Ox7HHHivbtGFYq+qKuF5RCwllgwEb6pRCFrZ0RzYm37Ha1OPlQvuIvsIA1Lhx43JuEJQhYMb7VlttJasExKO5laJOFc+4N6WNi4bFjQ0+C9rLxpcCvxd6bSy/oKYJHb1g6BvBQPB02Yb4XupTBfHzFZYXACorQOki0Wm0VJAhHc9870KjqSZweiiM7tDYVqJBKQWVD0JGBcTyLvyonPGZ0/ixTAlKJr5vulwV4JtGQ88IMahPJwor74zCyggSFRX3LZd02qIUkC/4VOIDBVlkgt4bhQlToZoRyoV74ycaQ4OMgkJPWsknt/lkIl9YfE28rZD2XMeIHpUC7Bctd5N+Nr48jM4ClSGVIh2MwYMHV3uXeGQyLhco1iz1AYzOx6PhKHSFTG6kVXxuTKHr6NUzOpUeTWEUUzuTXBtDJ4TeOPmqsouigX8YnzFF+aRDhPmf+Kh/GflGOaZzBcgJ1wFL84B2UOhU6UiqgrsMlDPSpMSdN80vlmRR5VbrG80f3HS0AStVZ2Uln+yVKkcsx6LnUvbw+1IFHF9n9WXLEse0nOaLD6TPg3zn5jsPn0Xyl/fihxKqrkE1oVhc4jDdjsOIB2WRwQeVQc1fbWdA0y5+R4Ulb7QTxvJNDBagDGAij5eQyoLWnSiZuJ9gpaDsUT8gn1njWywvIF9axNtKfdVrjMqjZPfr1y+nF9CZzuejmhWu1ThqW0j9okuK6TF8PlmuKFYUKSOUFZRIteRQF1LmdWk5rf9oNylfzDXJ8r41KXeQDqMOQL+h00FnTds29WdlrgNLZuFLrwMvFSUIbZ3AzD2WAOKW/ILQ+5CoMjNLw5gZptx88825WZH8mIkXEj856mU2V6hg5FhosPzFF1/sQ2bKPrNbg2DIbFdmYuo9mLnKcgRpglIlnwNk9h9LdSy88MLVljdhORS9B5/qGz9+vMwi0zBmooVGTmbmMssxNDCy1AEzLoNCnNxl2sFMuPQnB+OfzkQPDVBucW1+LDnDDExmCqZhgWxmxAUF2x9yyCGyEkBNllMaNmxYbtkV8pvZ46Fw5WY9MutTKSUTzNLkXqFQybFy2XDDDf3ee+8ty1EwAzNUJvLFJ2Z9x/KQL84sTbPBBhvk4hYqEJF5Zi3GYcgt6RqHTZ48udrsT2bMci8WdQ8dF5m1GSqO3LODMiXn8WyNV6hAcgvg86NMsBQMhEZFZj6y9IkeJ59ZxYDlxAD5ZXazHuezkSx90qZNG5nhyXI7+WY8Ei9WhNBZ7cz6ZGUA4s27F1pdgGVQWOojBlni2TpLFphFy700XvEvNNDJWVUzhWdNllVB1llpIVSYuVmdSqh4RaZ4J5aFYcY1yweFzmtyRhWkJ89dfPHFc7OLs8Jsal3ShF9QlHOrBVDWWJKGvGXWMXUVM2RD4yPHs9ZZpSA/eTe9D6sM6FIpxcoR56icsEQR9WhoAGWfdA0NYqY4Zq0z85WlctqKLZMPWZD3TZs2lbKPHIfOdNkrWzzzzDOSH/EzqBN1RjC/QYMGSf7SRmjYkCFDkjt4mYHfsmVLke1TTjlFVlXo27dvcrRqeaH4GawIoWVbYWWBeJkcnhUUnORoeSBj1AV6L8pqvGROqfhOz/UacaN+5jrKOqtUIMt6LtcFZU/OzUrojMm1QWGUcktb3qRJE5Fh8k6hXecdkDniwPvrsmCsvqB1Bqs3zDHHHBJOnUTbBpQXlQPq2I+SVQCKvW+WcsdseNWDiB8rW7Asl9ahWobJG/QTygm6Cv9ZYUDjzTWUKcpT6JBLWCWpM8WzJpA4zz33nCyT82+eNcxoVKgYQu8iCak5v/32mywrgPJEBteE0HOUJRRozIlXXMAbClQEpDeFDIW1GOQPgk+hy5c/tYGGGCUmfd9SMkEeUNhozMslVmJZRojlS5CJchWPmhBX0Cx7ghzxnlSu5UBjjuyxfmalQN6pMMsl3SgQdyppGqSawFI3pBlyg5wUgzqDcwvJOEoLeXH99dcnIXULjTcKzOfRcmaVpFg5og5Ir2vK/p9FlrmaVtAxofHXshP/UGjLVTzqgilTpogMUg5rUi6Ae6CAUr9SF9QG6kTqc8pXPuoivoVoaPWaKp4ov8Bz+cqQKowx1Htx3nBOugMLlLV8Ogrl7KuvvsrbjlXifdFPKNO8X75BBd7vuuuuyy3BVElm4U/ICMNoMGC2xExRiVmtdQU+d0wsA1wGCpmwZ3TwAcVhH19DJjFNK3A9wOSpS9IY0yeYVHG5wKzMyhqhERez8bBhw8RfOzTedeZ3bpRPQ6vXmMBIHRQUz4Kz7WcmcBfk60aVnqg3TSYXGUZNoMGhkOAQ3ZCUTgi932Sr9FIkMzL4HbKmHP56k2u4Hl5tYfY9vs7TywxPIz8omczMpYPA2qP40LKuIpML8WkkD+PlsozK09DqNY3vzFwHww8//CB+n9TDlVY6wUY8jQbDTz/9JEtM6MzAhgKO7EyG0kXVWU2ByXIs1zGzwsxURqt69uyZhFQGVlH4+++/ZZKHMf3DaCeTcJj4yLfDmUz2119/ydqLTJDRj3oYlaeh1WuUfSYF64RDJjUykZFJszMbKJ5MBNWJiJXGFE/DMAxjuofRqkaNGslKIoZhNFxM8TQMwzAMwzAqgvl4GoZhGIZhGBXBFE/DMAzDMAyjIpjiaRiGYRiGYVQEUzwNwzAMwzCMimCKp2EYhmEYhlERTPE0DMMwDMMwKkKDWU5p3LhxbsKECbI9++yzuz322EO264KJEyfK4rIKX8VZeeWVk73q3HLLLbKQOaTjcdFFF0kczzzzTFnseFowvcevJpA//fr1ky+X9OjRIwltOLz++uvu7rvvlgWv07A2IZ9we+6552RRbBZUX3HFFZOj//HEE0+4J5980n333XduySWXlM+GLrrooslRwzAMw2ggoHg2BPjQfufOnVGScx/4r0tuv/12uTe/gQMHJqFT88cff/h27dpNFY+33347d32fPn2S0MozvcevJgQlS+LdqFEj//PPPyeh0z9jxozxXbp0kbivsMIKSeh/TJ482bdv3z6XL/xCZ8GPHj06OcP7v//+2++8887y7g8//LBc061bN9+0aVP/yCOPJGcZhmEYRsOgwZja+VrF0ksvnezVPauttlqyVRxGEVu3bp3s/cdiiy0m8ePLGh07dkxCK8/0Hr+asO6668r/NdZYw80555yyPb1z6aWXujvuuMM9+OCDScjU8N35ueee2x1zzDG5EfY///zTHXTQQfKdahg+fLi7+eab3TLLLOM23XRT+WQon6njO+eHH364nGMYhmEYDQXz8Uwo5zNs+c7lu6dvv/22+/rrr922226bhE4bpvf4lcuhhx4q8cbdYtZZG4bIHnzwwW7w4MFuhRVWSEKqg2LJN4Iffvhhd8EFF7gXX3zRLb/88nLsk08+cd9++61sEw4fffSR+/TTT2UbkzxwnmEYhmE0JOrcx/PDDz905513nvvtt9/cbLPNJqM6Sy21lPv777/d+eefLx+nh+7du7tJkya5q666yk2ZMsUddthhbquttnL33Xefu/zyy2VEp1evXm6HHXaQ84GRoKFDh7p5551X/N3OOecc9+WXX7qNN97YHXvssa5JkybJmc79+uuvbsCAAe69995zf/zxh+vdu7fr1KlTcrRqZOnCCy+Uhn/xxRcX38EuXbrIsYEDB7ojjjhCtuGFF16Qc1EGttxyS/fKK6+4kSNHSjx+/PFH9/vvv8s133//vZzPORtttJEbM2aMGz16tIQtsMACbq+99nKnn366KICdO3cWn79YSbz11lvlh2JBesW+foyKFaKm8Rs7dqy78847cbeQkUQUvDPOOEOuX3XVVd25554reYNP6PPPPy8jqeQt76IUSmfyr3///u7nn3+W8/BJ5L1HjBghSjA+m23atJFjQH4OGjRI3nu99daTOJ922mkSfs8990gcGzduLHmuvPXWW/Js3gtZ23333d0222yTHHXuyiuvdO+8845sr7322q5ly5ai5CGDvOt2220nx9LwbNKmFE2bNi05esxI+quvvioKKO9fjKOPPlrykfQh3ZAN0vv444+X42uttZa7//773UMPPSTyuvfee8uIqGEYhmE0GFA864rXXnvNzz///P7AAw+U/aAE+BYtWvigYMr+s88+m/NlC4qND8qm+Kuxjw9bUFrkt/3220vYrLPO6oPiINcC9yU8KBl+v/3283fffbdv27athHXt2jU5y/tffvnFhwbfr7LK/9s7d9AqtigMJ4UREdNEiagRiyj4aIKNgogoIgYCogZRMGJARVJYipWKDxARhGATiPgCC1+kS6EoREULQwqFW8SI+CLGRuyCsu/+lrPmTs49J0fNydzk8n8wmdnr7DmzZ8+E+c/ea61ZZT5y8WFu+zx48MA+x190y5Yttl8UmCEKrbBp0yYrs2R9PB8+fGh+d3Pnzg3Pnz8PURSHKAysXtaHku/w/aM4SqwhrFmzxmxRTIZt27bZ8bxeV1dXUiuEgwcPmo0+gSg2rNzU1BSOHDlitmJMtH3ug4jPINfr7NmzYc6cOWZrbm4OLS0tIf5gCLW1tWaLgifZs3w/9/b2psfkOkXxbHUpL168OHz//t3qcY1rampCFL12bWhfFLn2Gfg9wnk6UWyHKJbD+vXrQxTH4erVq1Yn/gBJaoQQRbHdV9gbGxvD3r17x9xvUbgmNccyNDQU6urqyi5RzCZ7lMbvz2I+noVwT1PX/39gZGQkNDQ0mJ1l4cKF1jft7e0hCuSklhBCCDE9qKjw9EAJxBAgRCgfO3bMym/evEkfoB7g8urVq9SGMCm0XblyxWzgwhMR5PT09KR1Cb6Ao0ePWvn48eNW7u/vt/LatWutnA0k+vz5s9kQzW7LCk8EMraOjo7EEsL27dvNlhV2nz59SvfPCjsXOghPD4xBjGNra2uzMgLI9713757ZCDChjAgkYKgUE23fvn37zDZr1iwTOdDa2pravH/ctmTJEitDuX7Oit1Tp06ZDWHsNgQenD9/3sqrV68Ow8PDZkOEOX7ds8ITwYvt9OnTVqadlKurq8OLFy/MBvQBdn5YwF+ZIKvLly+bbTL5HeG5bNkya++HDx8Sy0/4v1m5cmXabs7xzJkzyadCCCHE9KFiDnNv3761lDDA9O7AwICtgVQwhZASBpiudJgKhazNp2qzZKenV6xYkWxVpSmRCMYAUtXQjvfv31uZ9jEdTGobILBj3rx56XYhnFMUpLZNcIdTrG45oqBI9yMACJimBtwFHD93gkjg27dv5r5QjEq2j+Pic+jbvvb+cVv2epTr5yy4M4CfO/j519fX2zoKxqoo1GwqmdRPpSAlFMcDb5/7PcZ72lJKFTLe8QvBTaC3t7fs0tfXl+wxcQhCwl3h+vXr/0qThEsBriG4ogDniJsG0/JCCCHEdKJiwnNoaCjZ+umv9/jxYxMFnZ2d5qv5p+BjOB7ZKGeELkEbCDLAt452UKYdiBm+j0ANyPqEFsPrQbm6f4KfG9HaLpxGRkbGrOfPn18ymn+y21cMb/Ov9HM5vA7+n+ROBfx+t27dar6/pSCvp+NCEh9PJ9sv41GqjcPDw+YvWm7BJ7MSIIDxOUVItrS0JNaf4POM4ORHGb6uRMs7+AvjjyqEEEJMFyomPAmIcBi14kHqCw/pyYJgFIeRIqKefXSOEbxsO1gQqv554ahcIV4PytWdCIyG9vT0mLggeOrly5cmMEiBdOfOnTGjdFnyal8xfqWffxWChu7fv2/BMoCoJbirVDBO9rt99JtRV6euri7Z+jMQ+gRqlVsIuKoEHR0dFiyUDWh79OiRrRGj9Af/U8CPuD179tg2o8+lRsOFEEKIqUjFhCepYGpqamybyOUslXpAOzyIHY/UhubmZluvWrXK1og5n+6H/v5+Eyg+Pc80NgICmL4sZOnSpSaKIPuAL1Z3ohCxzMgfkdaMHjKaNjg4OG7UdJ7tK0a5fv5VcH1gfyK0mWrmPuIc3I2gEPrKR3j9LU1kUXD4fKpQ7lrwA4MsArgCMMrb1dVlwp17AJhih6zYbm1ttTWiG9HPqGdbW5tlK/CUS0IIIcRUpGLCk1E7fz0jozUkt+aBSi5DF0VZMeIjlcVs2VHM7LaDyEA0wrNnz2zNw7ipqcm2eXADaXN27Nhh+R+Zprx7965NyR44cMASqcO1a9dMHGR9Cn2am+nvXbt22TbJwDkmfnhMfwK+gCxQ7DzA7eVsjHjxvbSdtFFMr5abPs+zfb6dtZXr52LHLGZDXPm0NaPjiG9ElV9P38fX3GukbQKf7vd7jNRdPiIIhedS7PiTid+nWWHs4PvMKCev1OSeZDl06FDVpUuX0nMn7Rjg/+rw2kzYvXu3vfqUUXEEO6m7xvONFUIIIf5zouiqGF+/fk1fa8kyc+ZMS88Do6OjacogFl7rODg4aGlh3EZ6GiLa9+/fP6be69ev7TuIbt64caN9TqoforMXLFhgaXLig93qOETNeyodFqKys+lnuru7QxR2FiFMpPaFCxesHumgSM00MDBg9b58+WJR2nxGxDHH3blzp6V6Wr58eThx4oS9xvDw4cPpsYi4Zn+i+0m7g43j3Lp1K9y8edO2sZECKYp0O87s2bPNNmPGDGsX6YXYl2hsosNLMZH2PX361PrP7VHwWMorj7pnuXjxYnjy5EmIAie1dXZ2Jkcv3c8cM4rI1L5hwwaL3l+3bl1qI6KeekTwcw02b95s0dr19fXh3Llz9v19fX1h0aJF6T4nT540exSNIQo1u15ExZNRgQjybIqk+KMn3Y80RJxzFPWpjX08sr7SkOoriun0WCyUOR949+6dXf/s59nl48ePVu/Hjx/Wx9wTpOLiGnEuRP3Td0BGBr+Xb9++bTYhhBBiKlLNn/igqyiMPvGmGabfozBIrBOH0S2PfGdUkuMwwsWoTzGYRme6Gl/JhoaGxPoPjNSRYJwpa3xU48O+ZCAPkdSMlpFYnelMpjizPpYThWTpBIsUo7Gx0UYyx2Oy2zce5fq5HEyX48eKnyrXg2vqke7l4D7g2CS1J0n7/xVGTDlP+ohE/oz6ZiEoKwrRMdkNhBBCiKnGpAhP8XsgKvDRI2CHtxshwpgGJrqatwfxakRFLwshhBBiuiPhOQXAN5Igou7u7qr29vbE+hP8+Gpray3aXQghhBBiOiPhOUUgCOvGjRvmSuAJ4JlW5X3mvKfdo9eFEEIIIaYrEp5TkNHR0TQ1lRBCCCHE/wUJTyGEEEIIkQsVy+MphBBCCCHEeEh4CiGEEEKIXJDwFEIIIYQQuSDhKYQQQgghckHCUwghhBBC5IKEpxBCCCGEyAUJTyGEEEIIkQsSnkIIIYQQIhckPIUQQgghRC5IeAohhBBCiFyQ8BRCCCGEELkg4SmEEEIIIXJBwlMIIYQQQuSChKcQQgghhMgFCU8hhBBCCJELEp5CCCGEECIHqqr+BsHcVNEvd4HsAAAAAElFTkSuQmCC)"
      ],
      "metadata": {
        "id": "XNnwG7V4OlPS"
      }
    },
    {
      "cell_type": "markdown",
      "source": [
        "# Create a dummy file with some nursery rhymes content"
      ],
      "metadata": {
        "id": "KqC9on1_URQd"
      }
    },
    {
      "cell_type": "code",
      "source": [
        "\n",
        "with open(\"nursery_rhymes.txt\", \"w\", encoding=\"utf-8\") as f:\n",
        "    f.write(\"\"\"Twinkle, twinkle, little star,\n",
        "How I wonder what you are.\n",
        "Up above the world so high,\n",
        "Like a diamond in the sky.\n",
        "Twinkle, twinkle, little star,\n",
        "How I wonder what you are.\n",
        "\n",
        "Mary had a little lamb,\n",
        "Its fleece was white as snow.\n",
        "And everywhere that Mary went,\n",
        "The lamb was sure to go.\n",
        "\n",
        "Humpty Dumpty sat on a wall,\n",
        "Humpty Dumpty had a great fall.\n",
        "All the king's horses and all the king's men,\n",
        "Couldn't put Humpty together again.\"\"\")"
      ],
      "metadata": {
        "id": "oMXm_JL4LyIi"
      },
      "execution_count": null,
      "outputs": []
    },
    {
      "cell_type": "markdown",
      "source": [
        "#Import Libraries:"
      ],
      "metadata": {
        "id": "lAmeTmBpWC41"
      }
    },
    {
      "cell_type": "code",
      "source": [
        "\n",
        "import tensorflow as tf\n",
        "from tensorflow.keras.preprocessing.text import Tokenizer\n",
        "from tensorflow.keras.preprocessing.sequence import pad_sequences\n",
        "from tensorflow.keras.utils import to_categorical\n",
        "from tensorflow.keras.models import Sequential\n",
        "from tensorflow.keras.layers import Embedding, SimpleRNN, LSTM, Dense\n",
        "import numpy as np\n",
        "import re"
      ],
      "metadata": {
        "id": "8CAHEmBtWHlG"
      },
      "execution_count": null,
      "outputs": []
    },
    {
      "cell_type": "markdown",
      "source": [
        "# ---------------------------------------------------------\n",
        "# Load and preprocess dataset\n",
        "# ---------------------------------------------------------\n",
        "# Load nursery rhymes text"
      ],
      "metadata": {
        "id": "D2tXFsclWLej"
      }
    },
    {
      "cell_type": "code",
      "source": [
        "\n",
        "with open(\"nursery_rhymes.txt\", \"r\", encoding=\"utf-8\") as f:\n",
        "    text = f.read().lower()"
      ],
      "metadata": {
        "id": "F8DYSKsEWVDA"
      },
      "execution_count": null,
      "outputs": []
    },
    {
      "cell_type": "markdown",
      "source": [
        "# Remove punctuations and special characters"
      ],
      "metadata": {
        "id": "ioBdy32wWXTc"
      }
    },
    {
      "cell_type": "code",
      "source": [
        "\n",
        "text = re.sub(r'[^a-z\\s]', '', text)"
      ],
      "metadata": {
        "id": "4h5JLpxgWZyh"
      },
      "execution_count": null,
      "outputs": []
    },
    {
      "cell_type": "markdown",
      "source": [
        "# Tokenize words"
      ],
      "metadata": {
        "id": "ZdOZtsTSWc4A"
      }
    },
    {
      "cell_type": "code",
      "source": [
        "tokenizer = Tokenizer()\n",
        "tokenizer.fit_on_texts([text])\n",
        "total_words = len(tokenizer.word_index) + 1"
      ],
      "metadata": {
        "id": "At4dvpbrWfBN"
      },
      "execution_count": null,
      "outputs": []
    },
    {
      "cell_type": "markdown",
      "source": [
        "# Convert text to sequence of integers"
      ],
      "metadata": {
        "id": "xFNUmLJZWkkA"
      }
    },
    {
      "cell_type": "code",
      "source": [
        "input_sequences = []\n",
        "words = text.split()\n",
        "\n",
        "for i in range(2, len(words)):\n",
        "    seq = words[:i]\n",
        "    encoded = tokenizer.texts_to_sequences([' '.join(seq)])[0]\n",
        "    input_sequences.append(encoded)"
      ],
      "metadata": {
        "id": "52L7fof-Wn97"
      },
      "execution_count": null,
      "outputs": []
    },
    {
      "cell_type": "markdown",
      "source": [
        "# Pad sequences to same length"
      ],
      "metadata": {
        "id": "kYDNaDkKWqEu"
      }
    },
    {
      "cell_type": "code",
      "source": [
        "max_len = max(len(x) for x in input_sequences)\n",
        "input_sequences = np.array(pad_sequences(input_sequences, maxlen=max_len, padding='pre'))"
      ],
      "metadata": {
        "id": "1WrXon-yWteD"
      },
      "execution_count": null,
      "outputs": []
    },
    {
      "cell_type": "markdown",
      "source": [
        "# Split features and labels"
      ],
      "metadata": {
        "id": "Eio4bjsXWvpv"
      }
    },
    {
      "cell_type": "code",
      "source": [
        "X = input_sequences[:, :-1]\n",
        "y = input_sequences[:, -1]\n",
        "y = to_categorical(y, num_classes=total_words)"
      ],
      "metadata": {
        "id": "1w1apJ_9WzaE"
      },
      "execution_count": null,
      "outputs": []
    },
    {
      "cell_type": "code",
      "source": [
        "\n",
        "print(f\"✅ Data prepared! Vocabulary Size = {total_words}, Sequence Length = {max_len}\")"
      ],
      "metadata": {
        "id": "-hFB7kCjW3hw"
      },
      "execution_count": null,
      "outputs": []
    },
    {
      "cell_type": "markdown",
      "source": [
        "\n",
        "# ---------------------------------------------------------\n",
        "# Define Simple RNN Model\n",
        "# ---------------------------------------------------------"
      ],
      "metadata": {
        "id": "fXFQca23W7B8"
      }
    },
    {
      "cell_type": "code",
      "source": [
        "\n",
        "rnn_model = Sequential([\n",
        "    Embedding(total_words, 128, input_length=X.shape[1]),\n",
        "    SimpleRNN(256, activation='tanh'),\n",
        "    Dense(total_words, activation='softmax')\n",
        "])\n",
        "\n",
        "rnn_model.compile(loss='categorical_crossentropy', optimizer='adam', metrics=['accuracy'])\n",
        "print(\"\\n🚀 Training Simple RNN model (100 epochs)...\")\n",
        "history_rnn = rnn_model.fit(X, y, epochs=100, verbose=1)\n",
        "print(\"✅ Simple RNN training complete!\")"
      ],
      "metadata": {
        "id": "g9W1gExRXDEu"
      },
      "execution_count": null,
      "outputs": []
    },
    {
      "cell_type": "markdown",
      "source": [
        "# ---------------------------------------------------------\n",
        "#  Define LSTM Model\n",
        "# ---------------------------------------------------------"
      ],
      "metadata": {
        "id": "4KF_eZ6FXHkr"
      }
    },
    {
      "cell_type": "code",
      "source": [
        "lstm_model = Sequential([\n",
        "    Embedding(total_words, 128, input_length=X.shape[1]),\n",
        "    LSTM(256, activation='tanh'),\n",
        "    Dense(total_words, activation='softmax')\n",
        "])\n",
        "\n",
        "lstm_model.compile(loss='categorical_crossentropy', optimizer='adam', metrics=['accuracy'])\n",
        "print(\"\\n🚀 Training LSTM model (100 epochs)...\")\n",
        "history_lstm = lstm_model.fit(X, y, epochs=100, verbose=1)\n",
        "print(\"✅ LSTM training complete!\")\n"
      ],
      "metadata": {
        "id": "kx185BzdXQZY"
      },
      "execution_count": null,
      "outputs": []
    },
    {
      "cell_type": "markdown",
      "source": [
        "# ---------------------------------------------------------\n",
        "# Compare Model Performance\n",
        "# ---------------------------------------------------------"
      ],
      "metadata": {
        "id": "VpXaSYeTXUlf"
      }
    },
    {
      "cell_type": "code",
      "source": [
        "rnn_loss, rnn_acc = rnn_model.evaluate(X, y, verbose=0)\n",
        "lstm_loss, lstm_acc = lstm_model.evaluate(X, y, verbose=0)\n",
        "\n",
        "print(\"\\n📊 MODEL COMPARISON:\")\n",
        "print(f\"Simple RNN → Accuracy: {rnn_acc:.4f}, Loss: {rnn_loss:.4f}\")\n",
        "print(f\"LSTM       → Accuracy: {lstm_acc:.4f}, Loss: {lstm_loss:.4f}\")"
      ],
      "metadata": {
        "id": "gMjTck_pXZrx"
      },
      "execution_count": null,
      "outputs": []
    },
    {
      "cell_type": "markdown",
      "source": [
        "# ---------------------------------------------------------\n",
        "# Generate Next Word Prediction Function\n",
        "# ---------------------------------------------------------"
      ],
      "metadata": {
        "id": "krZiNdtRXdwb"
      }
    },
    {
      "cell_type": "code",
      "source": [
        "def predict_next_word(model, tokenizer, seed_text, max_sequence_len):\n",
        "    text = seed_text.lower()\n",
        "    for _ in range(5):  # predict next 5 words\n",
        "        encoded = tokenizer.texts_to_sequences([text])[0]\n",
        "        encoded = pad_sequences([encoded], maxlen=max_sequence_len - 1, padding='pre')\n",
        "        predicted = np.argmax(model.predict(encoded, verbose=0))\n",
        "        for word, index in tokenizer.word_index.items():\n",
        "            if index == predicted:\n",
        "                text += ' ' + word\n",
        "                break\n",
        "    return text"
      ],
      "metadata": {
        "id": "7DHpvKRFXiP9"
      },
      "execution_count": null,
      "outputs": []
    },
    {
      "cell_type": "markdown",
      "source": [
        "# Example predictions"
      ],
      "metadata": {
        "id": "-K2whFYgXl1X"
      }
    },
    {
      "cell_type": "code",
      "source": [
        "\n",
        "seed = \"twinkle twinkle\"\n",
        "print(\"\\n✨ RNN prediction:\", predict_next_word(rnn_model, tokenizer, seed, max_len))\n",
        "print(\"✨ LSTM prediction:\", predict_next_word(lstm_model, tokenizer, seed, max_len))\n"
      ],
      "metadata": {
        "colab": {
          "base_uri": "https://localhost:8080/"
        },
        "id": "8HCHimAqKRJW",
        "outputId": "adff5ffe-27a8-4af8-ad1e-024bfa0ce03f"
      },
      "execution_count": null,
      "outputs": [
        {
          "output_type": "stream",
          "name": "stdout",
          "text": [
            "✅ Data prepared! Vocabulary Size = 52, Sequence Length = 79\n",
            "\n",
            "🚀 Training Simple RNN model (100 epochs)...\n",
            "Epoch 1/100\n",
            "\u001b[1m3/3\u001b[0m \u001b[32m━━━━━━━━━━━━━━━━━━━━\u001b[0m\u001b[37m\u001b[0m \u001b[1m4s\u001b[0m 94ms/step - accuracy: 0.0103 - loss: 3.9518\n",
            "Epoch 2/100\n",
            "\u001b[1m3/3\u001b[0m \u001b[32m━━━━━━━━━━━━━━━━━━━━\u001b[0m\u001b[37m\u001b[0m \u001b[1m0s\u001b[0m 104ms/step - accuracy: 0.2284 - loss: 3.6642\n",
            "Epoch 3/100\n",
            "\u001b[1m3/3\u001b[0m \u001b[32m━━━━━━━━━━━━━━━━━━━━\u001b[0m\u001b[37m\u001b[0m \u001b[1m0s\u001b[0m 98ms/step - accuracy: 0.5700 - loss: 3.3163\n",
            "Epoch 4/100\n",
            "\u001b[1m3/3\u001b[0m \u001b[32m━━━━━━━━━━━━━━━━━━━━\u001b[0m\u001b[37m\u001b[0m \u001b[1m0s\u001b[0m 87ms/step - accuracy: 0.5552 - loss: 3.0950\n",
            "Epoch 5/100\n",
            "\u001b[1m3/3\u001b[0m \u001b[32m━━━━━━━━━━━━━━━━━━━━\u001b[0m\u001b[37m\u001b[0m \u001b[1m0s\u001b[0m 92ms/step - accuracy: 0.7108 - loss: 2.8553\n",
            "Epoch 6/100\n",
            "\u001b[1m3/3\u001b[0m \u001b[32m━━━━━━━━━━━━━━━━━━━━\u001b[0m\u001b[37m\u001b[0m \u001b[1m0s\u001b[0m 94ms/step - accuracy: 0.7510 - loss: 2.5392\n",
            "Epoch 7/100\n",
            "\u001b[1m3/3\u001b[0m \u001b[32m━━━━━━━━━━━━━━━━━━━━\u001b[0m\u001b[37m\u001b[0m \u001b[1m0s\u001b[0m 89ms/step - accuracy: 0.8126 - loss: 2.3719\n",
            "Epoch 8/100\n",
            "\u001b[1m3/3\u001b[0m \u001b[32m━━━━━━━━━━━━━━━━━━━━\u001b[0m\u001b[37m\u001b[0m \u001b[1m0s\u001b[0m 84ms/step - accuracy: 0.8268 - loss: 2.0936\n",
            "Epoch 9/100\n",
            "\u001b[1m3/3\u001b[0m \u001b[32m━━━━━━━━━━━━━━━━━━━━\u001b[0m\u001b[37m\u001b[0m \u001b[1m0s\u001b[0m 94ms/step - accuracy: 0.8823 - loss: 1.8450\n",
            "Epoch 10/100\n",
            "\u001b[1m3/3\u001b[0m \u001b[32m━━━━━━━━━━━━━━━━━━━━\u001b[0m\u001b[37m\u001b[0m \u001b[1m0s\u001b[0m 91ms/step - accuracy: 0.9200 - loss: 1.5828\n",
            "Epoch 11/100\n",
            "\u001b[1m3/3\u001b[0m \u001b[32m━━━━━━━━━━━━━━━━━━━━\u001b[0m\u001b[37m\u001b[0m \u001b[1m0s\u001b[0m 90ms/step - accuracy: 0.9601 - loss: 1.3305\n",
            "Epoch 12/100\n",
            "\u001b[1m3/3\u001b[0m \u001b[32m━━━━━━━━━━━━━━━━━━━━\u001b[0m\u001b[37m\u001b[0m \u001b[1m0s\u001b[0m 103ms/step - accuracy: 0.9730 - loss: 1.1283\n",
            "Epoch 13/100\n",
            "\u001b[1m3/3\u001b[0m \u001b[32m━━━━━━━━━━━━━━━━━━━━\u001b[0m\u001b[37m\u001b[0m \u001b[1m0s\u001b[0m 98ms/step - accuracy: 0.9716 - loss: 0.9440\n",
            "Epoch 14/100\n",
            "\u001b[1m3/3\u001b[0m \u001b[32m━━━━━━━━━━━━━━━━━━━━\u001b[0m\u001b[37m\u001b[0m \u001b[1m0s\u001b[0m 88ms/step - accuracy: 0.9819 - loss: 0.7782\n",
            "Epoch 15/100\n",
            "\u001b[1m3/3\u001b[0m \u001b[32m━━━━━━━━━━━━━━━━━━━━\u001b[0m\u001b[37m\u001b[0m \u001b[1m0s\u001b[0m 90ms/step - accuracy: 1.0000 - loss: 0.6719\n",
            "Epoch 16/100\n",
            "\u001b[1m3/3\u001b[0m \u001b[32m━━━━━━━━━━━━━━━━━━━━\u001b[0m\u001b[37m\u001b[0m \u001b[1m0s\u001b[0m 91ms/step - accuracy: 1.0000 - loss: 0.5572\n",
            "Epoch 17/100\n",
            "\u001b[1m3/3\u001b[0m \u001b[32m━━━━━━━━━━━━━━━━━━━━\u001b[0m\u001b[37m\u001b[0m \u001b[1m0s\u001b[0m 88ms/step - accuracy: 0.9897 - loss: 0.4625\n",
            "Epoch 18/100\n",
            "\u001b[1m3/3\u001b[0m \u001b[32m━━━━━━━━━━━━━━━━━━━━\u001b[0m\u001b[37m\u001b[0m \u001b[1m0s\u001b[0m 93ms/step - accuracy: 0.9897 - loss: 0.3825\n",
            "Epoch 19/100\n",
            "\u001b[1m3/3\u001b[0m \u001b[32m━━━━━━━━━━━━━━━━━━━━\u001b[0m\u001b[37m\u001b[0m \u001b[1m0s\u001b[0m 102ms/step - accuracy: 0.9936 - loss: 0.3024\n",
            "Epoch 20/100\n",
            "\u001b[1m3/3\u001b[0m \u001b[32m━━━━━━━━━━━━━━━━━━━━\u001b[0m\u001b[37m\u001b[0m \u001b[1m0s\u001b[0m 94ms/step - accuracy: 0.9819 - loss: 0.2569\n",
            "Epoch 21/100\n",
            "\u001b[1m3/3\u001b[0m \u001b[32m━━━━━━━━━━━━━━━━━━━━\u001b[0m\u001b[37m\u001b[0m \u001b[1m0s\u001b[0m 93ms/step - accuracy: 1.0000 - loss: 0.2234\n",
            "Epoch 22/100\n",
            "\u001b[1m3/3\u001b[0m \u001b[32m━━━━━━━━━━━━━━━━━━━━\u001b[0m\u001b[37m\u001b[0m \u001b[1m0s\u001b[0m 87ms/step - accuracy: 0.9897 - loss: 0.1931\n",
            "Epoch 23/100\n",
            "\u001b[1m3/3\u001b[0m \u001b[32m━━━━━━━━━━━━━━━━━━━━\u001b[0m\u001b[37m\u001b[0m \u001b[1m0s\u001b[0m 92ms/step - accuracy: 1.0000 - loss: 0.1685\n",
            "Epoch 24/100\n",
            "\u001b[1m3/3\u001b[0m \u001b[32m━━━━━━━━━━━━━━━━━━━━\u001b[0m\u001b[37m\u001b[0m \u001b[1m0s\u001b[0m 88ms/step - accuracy: 1.0000 - loss: 0.1472\n",
            "Epoch 25/100\n",
            "\u001b[1m3/3\u001b[0m \u001b[32m━━━━━━━━━━━━━━━━━━━━\u001b[0m\u001b[37m\u001b[0m \u001b[1m0s\u001b[0m 94ms/step - accuracy: 1.0000 - loss: 0.1195\n",
            "Epoch 26/100\n",
            "\u001b[1m3/3\u001b[0m \u001b[32m━━━━━━━━━━━━━━━━━━━━\u001b[0m\u001b[37m\u001b[0m \u001b[1m0s\u001b[0m 103ms/step - accuracy: 1.0000 - loss: 0.1273\n",
            "Epoch 27/100\n",
            "\u001b[1m3/3\u001b[0m \u001b[32m━━━━━━━━━━━━━━━━━━━━\u001b[0m\u001b[37m\u001b[0m \u001b[1m0s\u001b[0m 88ms/step - accuracy: 1.0000 - loss: 0.0996\n",
            "Epoch 28/100\n",
            "\u001b[1m3/3\u001b[0m \u001b[32m━━━━━━━━━━━━━━━━━━━━\u001b[0m\u001b[37m\u001b[0m \u001b[1m0s\u001b[0m 90ms/step - accuracy: 1.0000 - loss: 0.1011\n",
            "Epoch 29/100\n",
            "\u001b[1m3/3\u001b[0m \u001b[32m━━━━━━━━━━━━━━━━━━━━\u001b[0m\u001b[37m\u001b[0m \u001b[1m0s\u001b[0m 90ms/step - accuracy: 1.0000 - loss: 0.0942\n",
            "Epoch 30/100\n",
            "\u001b[1m3/3\u001b[0m \u001b[32m━━━━━━━━━━━━━━━━━━━━\u001b[0m\u001b[37m\u001b[0m \u001b[1m0s\u001b[0m 96ms/step - accuracy: 1.0000 - loss: 0.0768\n",
            "Epoch 31/100\n",
            "\u001b[1m3/3\u001b[0m \u001b[32m━━━━━━━━━━━━━━━━━━━━\u001b[0m\u001b[37m\u001b[0m \u001b[1m0s\u001b[0m 86ms/step - accuracy: 1.0000 - loss: 0.0820\n",
            "Epoch 32/100\n",
            "\u001b[1m3/3\u001b[0m \u001b[32m━━━━━━━━━━━━━━━━━━━━\u001b[0m\u001b[37m\u001b[0m \u001b[1m0s\u001b[0m 100ms/step - accuracy: 1.0000 - loss: 0.0627\n",
            "Epoch 33/100\n",
            "\u001b[1m3/3\u001b[0m \u001b[32m━━━━━━━━━━━━━━━━━━━━\u001b[0m\u001b[37m\u001b[0m \u001b[1m1s\u001b[0m 155ms/step - accuracy: 1.0000 - loss: 0.0587\n",
            "Epoch 34/100\n",
            "\u001b[1m3/3\u001b[0m \u001b[32m━━━━━━━━━━━━━━━━━━━━\u001b[0m\u001b[37m\u001b[0m \u001b[1m1s\u001b[0m 181ms/step - accuracy: 1.0000 - loss: 0.0639\n",
            "Epoch 35/100\n",
            "\u001b[1m3/3\u001b[0m \u001b[32m━━━━━━━━━━━━━━━━━━━━\u001b[0m\u001b[37m\u001b[0m \u001b[1m1s\u001b[0m 162ms/step - accuracy: 1.0000 - loss: 0.0511\n",
            "Epoch 36/100\n",
            "\u001b[1m3/3\u001b[0m \u001b[32m━━━━━━━━━━━━━━━━━━━━\u001b[0m\u001b[37m\u001b[0m \u001b[1m1s\u001b[0m 152ms/step - accuracy: 1.0000 - loss: 0.0561\n",
            "Epoch 37/100\n",
            "\u001b[1m3/3\u001b[0m \u001b[32m━━━━━━━━━━━━━━━━━━━━\u001b[0m\u001b[37m\u001b[0m \u001b[1m1s\u001b[0m 173ms/step - accuracy: 1.0000 - loss: 0.0512\n",
            "Epoch 38/100\n",
            "\u001b[1m3/3\u001b[0m \u001b[32m━━━━━━━━━━━━━━━━━━━━\u001b[0m\u001b[37m\u001b[0m \u001b[1m1s\u001b[0m 156ms/step - accuracy: 1.0000 - loss: 0.0423\n",
            "Epoch 39/100\n",
            "\u001b[1m3/3\u001b[0m \u001b[32m━━━━━━━━━━━━━━━━━━━━\u001b[0m\u001b[37m\u001b[0m \u001b[1m0s\u001b[0m 88ms/step - accuracy: 1.0000 - loss: 0.0506\n",
            "Epoch 40/100\n",
            "\u001b[1m3/3\u001b[0m \u001b[32m━━━━━━━━━━━━━━━━━━━━\u001b[0m\u001b[37m\u001b[0m \u001b[1m0s\u001b[0m 88ms/step - accuracy: 1.0000 - loss: 0.0442\n",
            "Epoch 41/100\n",
            "\u001b[1m3/3\u001b[0m \u001b[32m━━━━━━━━━━━━━━━━━━━━\u001b[0m\u001b[37m\u001b[0m \u001b[1m0s\u001b[0m 94ms/step - accuracy: 1.0000 - loss: 0.0405\n",
            "Epoch 42/100\n",
            "\u001b[1m3/3\u001b[0m \u001b[32m━━━━━━━━━━━━━━━━━━━━\u001b[0m\u001b[37m\u001b[0m \u001b[1m0s\u001b[0m 99ms/step - accuracy: 1.0000 - loss: 0.0385\n",
            "Epoch 43/100\n",
            "\u001b[1m3/3\u001b[0m \u001b[32m━━━━━━━━━━━━━━━━━━━━\u001b[0m\u001b[37m\u001b[0m \u001b[1m0s\u001b[0m 88ms/step - accuracy: 1.0000 - loss: 0.0432\n",
            "Epoch 44/100\n",
            "\u001b[1m3/3\u001b[0m \u001b[32m━━━━━━━━━━━━━━━━━━━━\u001b[0m\u001b[37m\u001b[0m \u001b[1m0s\u001b[0m 91ms/step - accuracy: 1.0000 - loss: 0.0340\n",
            "Epoch 45/100\n",
            "\u001b[1m3/3\u001b[0m \u001b[32m━━━━━━━━━━━━━━━━━━━━\u001b[0m\u001b[37m\u001b[0m \u001b[1m0s\u001b[0m 100ms/step - accuracy: 1.0000 - loss: 0.0330\n",
            "Epoch 46/100\n",
            "\u001b[1m3/3\u001b[0m \u001b[32m━━━━━━━━━━━━━━━━━━━━\u001b[0m\u001b[37m\u001b[0m \u001b[1m0s\u001b[0m 88ms/step - accuracy: 1.0000 - loss: 0.0310\n",
            "Epoch 47/100\n",
            "\u001b[1m3/3\u001b[0m \u001b[32m━━━━━━━━━━━━━━━━━━━━\u001b[0m\u001b[37m\u001b[0m \u001b[1m0s\u001b[0m 94ms/step - accuracy: 1.0000 - loss: 0.0331\n",
            "Epoch 48/100\n",
            "\u001b[1m3/3\u001b[0m \u001b[32m━━━━━━━━━━━━━━━━━━━━\u001b[0m\u001b[37m\u001b[0m \u001b[1m0s\u001b[0m 92ms/step - accuracy: 1.0000 - loss: 0.0336\n",
            "Epoch 49/100\n",
            "\u001b[1m3/3\u001b[0m \u001b[32m━━━━━━━━━━━━━━━━━━━━\u001b[0m\u001b[37m\u001b[0m \u001b[1m0s\u001b[0m 89ms/step - accuracy: 1.0000 - loss: 0.0295\n",
            "Epoch 50/100\n",
            "\u001b[1m3/3\u001b[0m \u001b[32m━━━━━━━━━━━━━━━━━━━━\u001b[0m\u001b[37m\u001b[0m \u001b[1m1s\u001b[0m 95ms/step - accuracy: 1.0000 - loss: 0.0324\n",
            "Epoch 51/100\n",
            "\u001b[1m3/3\u001b[0m \u001b[32m━━━━━━━━━━━━━━━━━━━━\u001b[0m\u001b[37m\u001b[0m \u001b[1m0s\u001b[0m 103ms/step - accuracy: 1.0000 - loss: 0.0290\n",
            "Epoch 52/100\n",
            "\u001b[1m3/3\u001b[0m \u001b[32m━━━━━━━━━━━━━━━━━━━━\u001b[0m\u001b[37m\u001b[0m \u001b[1m0s\u001b[0m 90ms/step - accuracy: 1.0000 - loss: 0.0284\n",
            "Epoch 53/100\n",
            "\u001b[1m3/3\u001b[0m \u001b[32m━━━━━━━━━━━━━━━━━━━━\u001b[0m\u001b[37m\u001b[0m \u001b[1m0s\u001b[0m 97ms/step - accuracy: 1.0000 - loss: 0.0255\n",
            "Epoch 54/100\n",
            "\u001b[1m3/3\u001b[0m \u001b[32m━━━━━━━━━━━━━━━━━━━━\u001b[0m\u001b[37m\u001b[0m \u001b[1m0s\u001b[0m 109ms/step - accuracy: 1.0000 - loss: 0.0223\n",
            "Epoch 55/100\n",
            "\u001b[1m3/3\u001b[0m \u001b[32m━━━━━━━━━━━━━━━━━━━━\u001b[0m\u001b[37m\u001b[0m \u001b[1m1s\u001b[0m 93ms/step - accuracy: 1.0000 - loss: 0.0268\n",
            "Epoch 56/100\n",
            "\u001b[1m3/3\u001b[0m \u001b[32m━━━━━━━━━━━━━━━━━━━━\u001b[0m\u001b[37m\u001b[0m \u001b[1m0s\u001b[0m 89ms/step - accuracy: 1.0000 - loss: 0.0239\n",
            "Epoch 57/100\n",
            "\u001b[1m3/3\u001b[0m \u001b[32m━━━━━━━━━━━━━━━━━━━━\u001b[0m\u001b[37m\u001b[0m \u001b[1m0s\u001b[0m 102ms/step - accuracy: 1.0000 - loss: 0.0207\n",
            "Epoch 58/100\n",
            "\u001b[1m3/3\u001b[0m \u001b[32m━━━━━━━━━━━━━━━━━━━━\u001b[0m\u001b[37m\u001b[0m \u001b[1m0s\u001b[0m 92ms/step - accuracy: 1.0000 - loss: 0.0242\n",
            "Epoch 59/100\n",
            "\u001b[1m3/3\u001b[0m \u001b[32m━━━━━━━━━━━━━━━━━━━━\u001b[0m\u001b[37m\u001b[0m \u001b[1m0s\u001b[0m 94ms/step - accuracy: 1.0000 - loss: 0.0220\n",
            "Epoch 60/100\n",
            "\u001b[1m3/3\u001b[0m \u001b[32m━━━━━━━━━━━━━━━━━━━━\u001b[0m\u001b[37m\u001b[0m \u001b[1m0s\u001b[0m 101ms/step - accuracy: 1.0000 - loss: 0.0213\n",
            "Epoch 61/100\n",
            "\u001b[1m3/3\u001b[0m \u001b[32m━━━━━━━━━━━━━━━━━━━━\u001b[0m\u001b[37m\u001b[0m \u001b[1m0s\u001b[0m 92ms/step - accuracy: 1.0000 - loss: 0.0184\n",
            "Epoch 62/100\n",
            "\u001b[1m3/3\u001b[0m \u001b[32m━━━━━━━━━━━━━━━━━━━━\u001b[0m\u001b[37m\u001b[0m \u001b[1m0s\u001b[0m 96ms/step - accuracy: 1.0000 - loss: 0.0192\n",
            "Epoch 63/100\n",
            "\u001b[1m3/3\u001b[0m \u001b[32m━━━━━━━━━━━━━━━━━━━━\u001b[0m\u001b[37m\u001b[0m \u001b[1m0s\u001b[0m 90ms/step - accuracy: 1.0000 - loss: 0.0194\n",
            "Epoch 64/100\n",
            "\u001b[1m3/3\u001b[0m \u001b[32m━━━━━━━━━━━━━━━━━━━━\u001b[0m\u001b[37m\u001b[0m \u001b[1m0s\u001b[0m 87ms/step - accuracy: 1.0000 - loss: 0.0174\n",
            "Epoch 65/100\n",
            "\u001b[1m3/3\u001b[0m \u001b[32m━━━━━━━━━━━━━━━━━━━━\u001b[0m\u001b[37m\u001b[0m \u001b[1m0s\u001b[0m 91ms/step - accuracy: 1.0000 - loss: 0.0153\n",
            "Epoch 66/100\n",
            "\u001b[1m3/3\u001b[0m \u001b[32m━━━━━━━━━━━━━━━━━━━━\u001b[0m\u001b[37m\u001b[0m \u001b[1m0s\u001b[0m 92ms/step - accuracy: 1.0000 - loss: 0.0169\n",
            "Epoch 67/100\n",
            "\u001b[1m3/3\u001b[0m \u001b[32m━━━━━━━━━━━━━━━━━━━━\u001b[0m\u001b[37m\u001b[0m \u001b[1m0s\u001b[0m 98ms/step - accuracy: 1.0000 - loss: 0.0165\n",
            "Epoch 68/100\n",
            "\u001b[1m3/3\u001b[0m \u001b[32m━━━━━━━━━━━━━━━━━━━━\u001b[0m\u001b[37m\u001b[0m \u001b[1m0s\u001b[0m 92ms/step - accuracy: 1.0000 - loss: 0.0165\n",
            "Epoch 69/100\n",
            "\u001b[1m3/3\u001b[0m \u001b[32m━━━━━━━━━━━━━━━━━━━━\u001b[0m\u001b[37m\u001b[0m \u001b[1m0s\u001b[0m 130ms/step - accuracy: 1.0000 - loss: 0.0172\n",
            "Epoch 70/100\n",
            "\u001b[1m3/3\u001b[0m \u001b[32m━━━━━━━━━━━━━━━━━━━━\u001b[0m\u001b[37m\u001b[0m \u001b[1m1s\u001b[0m 167ms/step - accuracy: 1.0000 - loss: 0.0153\n",
            "Epoch 71/100\n",
            "\u001b[1m3/3\u001b[0m \u001b[32m━━━━━━━━━━━━━━━━━━━━\u001b[0m\u001b[37m\u001b[0m \u001b[1m1s\u001b[0m 175ms/step - accuracy: 1.0000 - loss: 0.0150\n",
            "Epoch 72/100\n",
            "\u001b[1m3/3\u001b[0m \u001b[32m━━━━━━━━━━━━━━━━━━━━\u001b[0m\u001b[37m\u001b[0m \u001b[1m1s\u001b[0m 170ms/step - accuracy: 1.0000 - loss: 0.0156\n",
            "Epoch 73/100\n",
            "\u001b[1m3/3\u001b[0m \u001b[32m━━━━━━━━━━━━━━━━━━━━\u001b[0m\u001b[37m\u001b[0m \u001b[1m1s\u001b[0m 171ms/step - accuracy: 1.0000 - loss: 0.0151\n",
            "Epoch 74/100\n",
            "\u001b[1m3/3\u001b[0m \u001b[32m━━━━━━━━━━━━━━━━━━━━\u001b[0m\u001b[37m\u001b[0m \u001b[1m1s\u001b[0m 182ms/step - accuracy: 1.0000 - loss: 0.0134\n",
            "Epoch 75/100\n",
            "\u001b[1m3/3\u001b[0m \u001b[32m━━━━━━━━━━━━━━━━━━━━\u001b[0m\u001b[37m\u001b[0m \u001b[1m0s\u001b[0m 130ms/step - accuracy: 1.0000 - loss: 0.0144\n",
            "Epoch 76/100\n",
            "\u001b[1m3/3\u001b[0m \u001b[32m━━━━━━━━━━━━━━━━━━━━\u001b[0m\u001b[37m\u001b[0m \u001b[1m0s\u001b[0m 102ms/step - accuracy: 1.0000 - loss: 0.0127\n",
            "Epoch 77/100\n",
            "\u001b[1m3/3\u001b[0m \u001b[32m━━━━━━━━━━━━━━━━━━━━\u001b[0m\u001b[37m\u001b[0m \u001b[1m0s\u001b[0m 88ms/step - accuracy: 1.0000 - loss: 0.0130\n",
            "Epoch 78/100\n",
            "\u001b[1m3/3\u001b[0m \u001b[32m━━━━━━━━━━━━━━━━━━━━\u001b[0m\u001b[37m\u001b[0m \u001b[1m0s\u001b[0m 97ms/step - accuracy: 1.0000 - loss: 0.0131\n",
            "Epoch 79/100\n",
            "\u001b[1m3/3\u001b[0m \u001b[32m━━━━━━━━━━━━━━━━━━━━\u001b[0m\u001b[37m\u001b[0m \u001b[1m0s\u001b[0m 104ms/step - accuracy: 1.0000 - loss: 0.0119\n",
            "Epoch 80/100\n",
            "\u001b[1m3/3\u001b[0m \u001b[32m━━━━━━━━━━━━━━━━━━━━\u001b[0m\u001b[37m\u001b[0m \u001b[1m0s\u001b[0m 92ms/step - accuracy: 1.0000 - loss: 0.0109\n",
            "Epoch 81/100\n",
            "\u001b[1m3/3\u001b[0m \u001b[32m━━━━━━━━━━━━━━━━━━━━\u001b[0m\u001b[37m\u001b[0m \u001b[1m0s\u001b[0m 91ms/step - accuracy: 1.0000 - loss: 0.0119\n",
            "Epoch 82/100\n",
            "\u001b[1m3/3\u001b[0m \u001b[32m━━━━━━━━━━━━━━━━━━━━\u001b[0m\u001b[37m\u001b[0m \u001b[1m0s\u001b[0m 92ms/step - accuracy: 1.0000 - loss: 0.0106\n",
            "Epoch 83/100\n",
            "\u001b[1m3/3\u001b[0m \u001b[32m━━━━━━━━━━━━━━━━━━━━\u001b[0m\u001b[37m\u001b[0m \u001b[1m0s\u001b[0m 92ms/step - accuracy: 1.0000 - loss: 0.0102\n",
            "Epoch 84/100\n",
            "\u001b[1m3/3\u001b[0m \u001b[32m━━━━━━━━━━━━━━━━━━━━\u001b[0m\u001b[37m\u001b[0m \u001b[1m0s\u001b[0m 96ms/step - accuracy: 1.0000 - loss: 0.0111\n",
            "Epoch 85/100\n",
            "\u001b[1m3/3\u001b[0m \u001b[32m━━━━━━━━━━━━━━━━━━━━\u001b[0m\u001b[37m\u001b[0m \u001b[1m0s\u001b[0m 89ms/step - accuracy: 1.0000 - loss: 0.0101\n",
            "Epoch 86/100\n",
            "\u001b[1m3/3\u001b[0m \u001b[32m━━━━━━━━━━━━━━━━━━━━\u001b[0m\u001b[37m\u001b[0m \u001b[1m0s\u001b[0m 105ms/step - accuracy: 1.0000 - loss: 0.0103\n",
            "Epoch 87/100\n",
            "\u001b[1m3/3\u001b[0m \u001b[32m━━━━━━━━━━━━━━━━━━━━\u001b[0m\u001b[37m\u001b[0m \u001b[1m0s\u001b[0m 90ms/step - accuracy: 1.0000 - loss: 0.0098\n",
            "Epoch 88/100\n",
            "\u001b[1m3/3\u001b[0m \u001b[32m━━━━━━━━━━━━━━━━━━━━\u001b[0m\u001b[37m\u001b[0m \u001b[1m0s\u001b[0m 92ms/step - accuracy: 1.0000 - loss: 0.0104\n",
            "Epoch 89/100\n",
            "\u001b[1m3/3\u001b[0m \u001b[32m━━━━━━━━━━━━━━━━━━━━\u001b[0m\u001b[37m\u001b[0m \u001b[1m0s\u001b[0m 95ms/step - accuracy: 1.0000 - loss: 0.0094\n",
            "Epoch 90/100\n",
            "\u001b[1m3/3\u001b[0m \u001b[32m━━━━━━━━━━━━━━━━━━━━\u001b[0m\u001b[37m\u001b[0m \u001b[1m0s\u001b[0m 91ms/step - accuracy: 1.0000 - loss: 0.0091\n",
            "Epoch 91/100\n",
            "\u001b[1m3/3\u001b[0m \u001b[32m━━━━━━━━━━━━━━━━━━━━\u001b[0m\u001b[37m\u001b[0m \u001b[1m0s\u001b[0m 94ms/step - accuracy: 1.0000 - loss: 0.0091\n",
            "Epoch 92/100\n",
            "\u001b[1m3/3\u001b[0m \u001b[32m━━━━━━━━━━━━━━━━━━━━\u001b[0m\u001b[37m\u001b[0m \u001b[1m0s\u001b[0m 93ms/step - accuracy: 1.0000 - loss: 0.0096\n",
            "Epoch 93/100\n",
            "\u001b[1m3/3\u001b[0m \u001b[32m━━━━━━━━━━━━━━━━━━━━\u001b[0m\u001b[37m\u001b[0m \u001b[1m0s\u001b[0m 103ms/step - accuracy: 1.0000 - loss: 0.0089\n",
            "Epoch 94/100\n",
            "\u001b[1m3/3\u001b[0m \u001b[32m━━━━━━━━━━━━━━━━━━━━\u001b[0m\u001b[37m\u001b[0m \u001b[1m0s\u001b[0m 89ms/step - accuracy: 1.0000 - loss: 0.0094\n",
            "Epoch 95/100\n",
            "\u001b[1m3/3\u001b[0m \u001b[32m━━━━━━━━━━━━━━━━━━━━\u001b[0m\u001b[37m\u001b[0m \u001b[1m0s\u001b[0m 93ms/step - accuracy: 1.0000 - loss: 0.0089\n",
            "Epoch 96/100\n",
            "\u001b[1m3/3\u001b[0m \u001b[32m━━━━━━━━━━━━━━━━━━━━\u001b[0m\u001b[37m\u001b[0m \u001b[1m0s\u001b[0m 95ms/step - accuracy: 1.0000 - loss: 0.0083\n",
            "Epoch 97/100\n",
            "\u001b[1m3/3\u001b[0m \u001b[32m━━━━━━━━━━━━━━━━━━━━\u001b[0m\u001b[37m\u001b[0m \u001b[1m0s\u001b[0m 90ms/step - accuracy: 1.0000 - loss: 0.0082\n",
            "Epoch 98/100\n",
            "\u001b[1m3/3\u001b[0m \u001b[32m━━━━━━━━━━━━━━━━━━━━\u001b[0m\u001b[37m\u001b[0m \u001b[1m0s\u001b[0m 93ms/step - accuracy: 1.0000 - loss: 0.0086\n",
            "Epoch 99/100\n",
            "\u001b[1m3/3\u001b[0m \u001b[32m━━━━━━━━━━━━━━━━━━━━\u001b[0m\u001b[37m\u001b[0m \u001b[1m0s\u001b[0m 88ms/step - accuracy: 1.0000 - loss: 0.0081\n",
            "Epoch 100/100\n",
            "\u001b[1m3/3\u001b[0m \u001b[32m━━━━━━━━━━━━━━━━━━━━\u001b[0m\u001b[37m\u001b[0m \u001b[1m0s\u001b[0m 102ms/step - accuracy: 1.0000 - loss: 0.0081\n",
            "✅ Simple RNN training complete!\n",
            "\n",
            "🚀 Training LSTM model (100 epochs)...\n",
            "Epoch 1/100\n",
            "\u001b[1m3/3\u001b[0m \u001b[32m━━━━━━━━━━━━━━━━━━━━\u001b[0m\u001b[37m\u001b[0m \u001b[1m4s\u001b[0m 466ms/step - accuracy: 0.0103 - loss: 3.9530\n",
            "Epoch 2/100\n",
            "\u001b[1m3/3\u001b[0m \u001b[32m━━━━━━━━━━━━━━━━━━━━\u001b[0m\u001b[37m\u001b[0m \u001b[1m2s\u001b[0m 262ms/step - accuracy: 0.1369 - loss: 3.9318\n",
            "Epoch 3/100\n",
            "\u001b[1m3/3\u001b[0m \u001b[32m━━━━━━━━━━━━━━━━━━━━\u001b[0m\u001b[37m\u001b[0m \u001b[1m1s\u001b[0m 253ms/step - accuracy: 0.1383 - loss: 3.9068\n",
            "Epoch 4/100\n",
            "\u001b[1m3/3\u001b[0m \u001b[32m━━━━━━━━━━━━━━━━━━━━\u001b[0m\u001b[37m\u001b[0m \u001b[1m1s\u001b[0m 262ms/step - accuracy: 0.0839 - loss: 3.8428\n",
            "Epoch 5/100\n",
            "\u001b[1m3/3\u001b[0m \u001b[32m━━━━━━━━━━━━━━━━━━━━\u001b[0m\u001b[37m\u001b[0m \u001b[1m1s\u001b[0m 270ms/step - accuracy: 0.0775 - loss: 3.7331\n",
            "Epoch 6/100\n",
            "\u001b[1m3/3\u001b[0m \u001b[32m━━━━━━━━━━━━━━━━━━━━\u001b[0m\u001b[37m\u001b[0m \u001b[1m1s\u001b[0m 261ms/step - accuracy: 0.0736 - loss: 3.5931\n",
            "Epoch 7/100\n",
            "\u001b[1m3/3\u001b[0m \u001b[32m━━━━━━━━━━━━━━━━━━━━\u001b[0m\u001b[37m\u001b[0m \u001b[1m1s\u001b[0m 265ms/step - accuracy: 0.0452 - loss: 3.5382\n",
            "Epoch 8/100\n",
            "\u001b[1m3/3\u001b[0m \u001b[32m━━━━━━━━━━━━━━━━━━━━\u001b[0m\u001b[37m\u001b[0m \u001b[1m1s\u001b[0m 262ms/step - accuracy: 0.0814 - loss: 3.5114\n",
            "Epoch 9/100\n",
            "\u001b[1m3/3\u001b[0m \u001b[32m━━━━━━━━━━━━━━━━━━━━\u001b[0m\u001b[37m\u001b[0m \u001b[1m1s\u001b[0m 262ms/step - accuracy: 0.0800 - loss: 3.3820\n",
            "Epoch 10/100\n",
            "\u001b[1m3/3\u001b[0m \u001b[32m━━━━━━━━━━━━━━━━━━━━\u001b[0m\u001b[37m\u001b[0m \u001b[1m1s\u001b[0m 276ms/step - accuracy: 0.1099 - loss: 3.3585\n",
            "Epoch 11/100\n",
            "\u001b[1m3/3\u001b[0m \u001b[32m━━━━━━━━━━━━━━━━━━━━\u001b[0m\u001b[37m\u001b[0m \u001b[1m1s\u001b[0m 248ms/step - accuracy: 0.0878 - loss: 3.3028\n",
            "Epoch 12/100\n",
            "\u001b[1m3/3\u001b[0m \u001b[32m━━━━━━━━━━━━━━━━━━━━\u001b[0m\u001b[37m\u001b[0m \u001b[1m2s\u001b[0m 463ms/step - accuracy: 0.0775 - loss: 3.2338\n",
            "Epoch 13/100\n",
            "\u001b[1m3/3\u001b[0m \u001b[32m━━━━━━━━━━━━━━━━━━━━\u001b[0m\u001b[37m\u001b[0m \u001b[1m1s\u001b[0m 451ms/step - accuracy: 0.0957 - loss: 3.1707\n",
            "Epoch 14/100\n",
            "\u001b[1m3/3\u001b[0m \u001b[32m━━━━━━━━━━━━━━━━━━━━\u001b[0m\u001b[37m\u001b[0m \u001b[1m1s\u001b[0m 273ms/step - accuracy: 0.1550 - loss: 3.0752\n",
            "Epoch 15/100\n",
            "\u001b[1m3/3\u001b[0m \u001b[32m━━━━━━━━━━━━━━━━━━━━\u001b[0m\u001b[37m\u001b[0m \u001b[1m1s\u001b[0m 252ms/step - accuracy: 0.1810 - loss: 2.9693\n",
            "Epoch 16/100\n",
            "\u001b[1m3/3\u001b[0m \u001b[32m━━━━━━━━━━━━━━━━━━━━\u001b[0m\u001b[37m\u001b[0m \u001b[1m1s\u001b[0m 254ms/step - accuracy: 0.2041 - loss: 2.9045\n",
            "Epoch 17/100\n",
            "\u001b[1m3/3\u001b[0m \u001b[32m━━━━━━━━━━━━━━━━━━━━\u001b[0m\u001b[37m\u001b[0m \u001b[1m1s\u001b[0m 272ms/step - accuracy: 0.1796 - loss: 2.7893\n",
            "Epoch 18/100\n",
            "\u001b[1m3/3\u001b[0m \u001b[32m━━━━━━━━━━━━━━━━━━━━\u001b[0m\u001b[37m\u001b[0m \u001b[1m1s\u001b[0m 268ms/step - accuracy: 0.2248 - loss: 2.7216\n",
            "Epoch 19/100\n",
            "\u001b[1m3/3\u001b[0m \u001b[32m━━━━━━━━━━━━━━━━━━━━\u001b[0m\u001b[37m\u001b[0m \u001b[1m1s\u001b[0m 264ms/step - accuracy: 0.2066 - loss: 2.6034\n",
            "Epoch 20/100\n",
            "\u001b[1m3/3\u001b[0m \u001b[32m━━━━━━━━━━━━━━━━━━━━\u001b[0m\u001b[37m\u001b[0m \u001b[1m1s\u001b[0m 252ms/step - accuracy: 0.2119 - loss: 2.4275\n",
            "Epoch 21/100\n",
            "\u001b[1m3/3\u001b[0m \u001b[32m━━━━━━━━━━━━━━━━━━━━\u001b[0m\u001b[37m\u001b[0m \u001b[1m1s\u001b[0m 252ms/step - accuracy: 0.2326 - loss: 2.3741\n",
            "Epoch 22/100\n",
            "\u001b[1m3/3\u001b[0m \u001b[32m━━━━━━━━━━━━━━━━━━━━\u001b[0m\u001b[37m\u001b[0m \u001b[1m1s\u001b[0m 263ms/step - accuracy: 0.2660 - loss: 2.2155\n",
            "Epoch 23/100\n",
            "\u001b[1m3/3\u001b[0m \u001b[32m━━━━━━━━━━━━━━━━━━━━\u001b[0m\u001b[37m\u001b[0m \u001b[1m1s\u001b[0m 253ms/step - accuracy: 0.3037 - loss: 2.1386\n",
            "Epoch 24/100\n",
            "\u001b[1m3/3\u001b[0m \u001b[32m━━━━━━━━━━━━━━━━━━━━\u001b[0m\u001b[37m\u001b[0m \u001b[1m1s\u001b[0m 261ms/step - accuracy: 0.3424 - loss: 2.0196\n",
            "Epoch 25/100\n",
            "\u001b[1m3/3\u001b[0m \u001b[32m━━━━━━━━━━━━━━━━━━━━\u001b[0m\u001b[37m\u001b[0m \u001b[1m1s\u001b[0m 370ms/step - accuracy: 0.3489 - loss: 1.9687\n",
            "Epoch 26/100\n",
            "\u001b[1m3/3\u001b[0m \u001b[32m━━━━━━━━━━━━━━━━━━━━\u001b[0m\u001b[37m\u001b[0m \u001b[1m1s\u001b[0m 483ms/step - accuracy: 0.4200 - loss: 1.9117\n",
            "Epoch 27/100\n",
            "\u001b[1m3/3\u001b[0m \u001b[32m━━━━━━━━━━━━━━━━━━━━\u001b[0m\u001b[37m\u001b[0m \u001b[1m1s\u001b[0m 460ms/step - accuracy: 0.3226 - loss: 1.9506\n",
            "Epoch 28/100\n",
            "\u001b[1m3/3\u001b[0m \u001b[32m━━━━━━━━━━━━━━━━━━━━\u001b[0m\u001b[37m\u001b[0m \u001b[1m1s\u001b[0m 257ms/step - accuracy: 0.4409 - loss: 1.8275\n",
            "Epoch 29/100\n",
            "\u001b[1m3/3\u001b[0m \u001b[32m━━━━━━━━━━━━━━━━━━━━\u001b[0m\u001b[37m\u001b[0m \u001b[1m1s\u001b[0m 270ms/step - accuracy: 0.3628 - loss: 1.8169\n",
            "Epoch 30/100\n",
            "\u001b[1m3/3\u001b[0m \u001b[32m━━━━━━━━━━━━━━━━━━━━\u001b[0m\u001b[37m\u001b[0m \u001b[1m1s\u001b[0m 258ms/step - accuracy: 0.3968 - loss: 1.7263\n",
            "Epoch 31/100\n",
            "\u001b[1m3/3\u001b[0m \u001b[32m━━━━━━━━━━━━━━━━━━━━\u001b[0m\u001b[37m\u001b[0m \u001b[1m1s\u001b[0m 263ms/step - accuracy: 0.4986 - loss: 1.6385\n",
            "Epoch 32/100\n",
            "\u001b[1m3/3\u001b[0m \u001b[32m━━━━━━━━━━━━━━━━━━━━\u001b[0m\u001b[37m\u001b[0m \u001b[1m1s\u001b[0m 256ms/step - accuracy: 0.5622 - loss: 1.6025\n",
            "Epoch 33/100\n",
            "\u001b[1m3/3\u001b[0m \u001b[32m━━━━━━━━━━━━━━━━━━━━\u001b[0m\u001b[37m\u001b[0m \u001b[1m1s\u001b[0m 267ms/step - accuracy: 0.4612 - loss: 1.6843\n",
            "Epoch 34/100\n",
            "\u001b[1m3/3\u001b[0m \u001b[32m━━━━━━━━━━━━━━━━━━━━\u001b[0m\u001b[37m\u001b[0m \u001b[1m1s\u001b[0m 265ms/step - accuracy: 0.5259 - loss: 1.5967\n",
            "Epoch 35/100\n",
            "\u001b[1m3/3\u001b[0m \u001b[32m━━━━━━━━━━━━━━━━━━━━\u001b[0m\u001b[37m\u001b[0m \u001b[1m1s\u001b[0m 265ms/step - accuracy: 0.5338 - loss: 1.5142\n",
            "Epoch 36/100\n",
            "\u001b[1m3/3\u001b[0m \u001b[32m━━━━━━━━━━━━━━━━━━━━\u001b[0m\u001b[37m\u001b[0m \u001b[1m1s\u001b[0m 276ms/step - accuracy: 0.5633 - loss: 1.4550\n",
            "Epoch 37/100\n",
            "\u001b[1m3/3\u001b[0m \u001b[32m━━━━━━━━━━━━━━━━━━━━\u001b[0m\u001b[37m\u001b[0m \u001b[1m1s\u001b[0m 270ms/step - accuracy: 0.6138 - loss: 1.3999\n",
            "Epoch 38/100\n",
            "\u001b[1m3/3\u001b[0m \u001b[32m━━━━━━━━━━━━━━━━━━━━\u001b[0m\u001b[37m\u001b[0m \u001b[1m1s\u001b[0m 376ms/step - accuracy: 0.6525 - loss: 1.3499\n",
            "Epoch 39/100\n",
            "\u001b[1m3/3\u001b[0m \u001b[32m━━━━━━━━━━━━━━━━━━━━\u001b[0m\u001b[37m\u001b[0m \u001b[1m2s\u001b[0m 465ms/step - accuracy: 0.6497 - loss: 1.3218\n",
            "Epoch 40/100\n",
            "\u001b[1m3/3\u001b[0m \u001b[32m━━━━━━━━━━━━━━━━━━━━\u001b[0m\u001b[37m\u001b[0m \u001b[1m1s\u001b[0m 375ms/step - accuracy: 0.6330 - loss: 1.2888\n",
            "Epoch 41/100\n",
            "\u001b[1m3/3\u001b[0m \u001b[32m━━━━━━━━━━━━━━━━━━━━\u001b[0m\u001b[37m\u001b[0m \u001b[1m1s\u001b[0m 261ms/step - accuracy: 0.6486 - loss: 1.2513\n",
            "Epoch 42/100\n",
            "\u001b[1m3/3\u001b[0m \u001b[32m━━━━━━━━━━━━━━━━━━━━\u001b[0m\u001b[37m\u001b[0m \u001b[1m1s\u001b[0m 268ms/step - accuracy: 0.7027 - loss: 1.2167\n",
            "Epoch 43/100\n",
            "\u001b[1m3/3\u001b[0m \u001b[32m━━━━━━━━━━━━━━━━━━━━\u001b[0m\u001b[37m\u001b[0m \u001b[1m1s\u001b[0m 262ms/step - accuracy: 0.7663 - loss: 1.1543\n",
            "Epoch 44/100\n",
            "\u001b[1m3/3\u001b[0m \u001b[32m━━━━━━━━━━━━━━━━━━━━\u001b[0m\u001b[37m\u001b[0m \u001b[1m1s\u001b[0m 270ms/step - accuracy: 0.8154 - loss: 1.1015\n",
            "Epoch 45/100\n",
            "\u001b[1m3/3\u001b[0m \u001b[32m━━━━━━━━━━━━━━━━━━━━\u001b[0m\u001b[37m\u001b[0m \u001b[1m1s\u001b[0m 251ms/step - accuracy: 0.8424 - loss: 1.0620\n",
            "Epoch 46/100\n",
            "\u001b[1m3/3\u001b[0m \u001b[32m━━━━━━━━━━━━━━━━━━━━\u001b[0m\u001b[37m\u001b[0m \u001b[1m1s\u001b[0m 263ms/step - accuracy: 0.8659 - loss: 1.0282\n",
            "Epoch 47/100\n",
            "\u001b[1m3/3\u001b[0m \u001b[32m━━━━━━━━━━━━━━━━━━━━\u001b[0m\u001b[37m\u001b[0m \u001b[1m1s\u001b[0m 265ms/step - accuracy: 0.8503 - loss: 0.9921\n",
            "Epoch 48/100\n",
            "\u001b[1m3/3\u001b[0m \u001b[32m━━━━━━━━━━━━━━━━━━━━\u001b[0m\u001b[37m\u001b[0m \u001b[1m1s\u001b[0m 272ms/step - accuracy: 0.9239 - loss: 0.9667\n",
            "Epoch 49/100\n",
            "\u001b[1m3/3\u001b[0m \u001b[32m━━━━━━━━━━━━━━━━━━━━\u001b[0m\u001b[37m\u001b[0m \u001b[1m1s\u001b[0m 275ms/step - accuracy: 0.9264 - loss: 0.9443\n",
            "Epoch 50/100\n",
            "\u001b[1m3/3\u001b[0m \u001b[32m━━━━━━━━━━━━━━━━━━━━\u001b[0m\u001b[37m\u001b[0m \u001b[1m1s\u001b[0m 267ms/step - accuracy: 0.8954 - loss: 0.9048\n",
            "Epoch 51/100\n",
            "\u001b[1m3/3\u001b[0m \u001b[32m━━━━━━━━━━━━━━━━━━━━\u001b[0m\u001b[37m\u001b[0m \u001b[1m1s\u001b[0m 276ms/step - accuracy: 0.8901 - loss: 0.9136\n",
            "Epoch 52/100\n",
            "\u001b[1m3/3\u001b[0m \u001b[32m━━━━━━━━━━━━━━━━━━━━\u001b[0m\u001b[37m\u001b[0m \u001b[1m1s\u001b[0m 440ms/step - accuracy: 0.9097 - loss: 0.8711\n",
            "Epoch 53/100\n",
            "\u001b[1m3/3\u001b[0m \u001b[32m━━━━━━━━━━━━━━━━━━━━\u001b[0m\u001b[37m\u001b[0m \u001b[1m1s\u001b[0m 456ms/step - accuracy: 0.8904 - loss: 0.8560\n",
            "Epoch 54/100\n",
            "\u001b[1m3/3\u001b[0m \u001b[32m━━━━━━━━━━━━━━━━━━━━\u001b[0m\u001b[37m\u001b[0m \u001b[1m1s\u001b[0m 261ms/step - accuracy: 0.9161 - loss: 0.8348\n",
            "Epoch 55/100\n",
            "\u001b[1m3/3\u001b[0m \u001b[32m━━━━━━━━━━━━━━━━━━━━\u001b[0m\u001b[37m\u001b[0m \u001b[1m1s\u001b[0m 256ms/step - accuracy: 0.9317 - loss: 0.7984\n",
            "Epoch 56/100\n",
            "\u001b[1m3/3\u001b[0m \u001b[32m━━━━━━━━━━━━━━━━━━━━\u001b[0m\u001b[37m\u001b[0m \u001b[1m2s\u001b[0m 730ms/step - accuracy: 0.9328 - loss: 0.7794\n",
            "Epoch 57/100\n",
            "\u001b[1m3/3\u001b[0m \u001b[32m━━━━━━━━━━━━━━━━━━━━\u001b[0m\u001b[37m\u001b[0m \u001b[1m3s\u001b[0m 727ms/step - accuracy: 0.9342 - loss: 0.7431\n",
            "Epoch 58/100\n",
            "\u001b[1m3/3\u001b[0m \u001b[32m━━━━━━━━━━━━━━━━━━━━\u001b[0m\u001b[37m\u001b[0m \u001b[1m1s\u001b[0m 287ms/step - accuracy: 0.9897 - loss: 0.7363\n",
            "Epoch 59/100\n",
            "\u001b[1m3/3\u001b[0m \u001b[32m━━━━━━━━━━━━━━━━━━━━\u001b[0m\u001b[37m\u001b[0m \u001b[1m3s\u001b[0m 388ms/step - accuracy: 0.9794 - loss: 0.7142\n",
            "Epoch 60/100\n",
            "\u001b[1m3/3\u001b[0m \u001b[32m━━━━━━━━━━━━━━━━━━━━\u001b[0m\u001b[37m\u001b[0m \u001b[1m2s\u001b[0m 478ms/step - accuracy: 0.9548 - loss: 0.6977\n",
            "Epoch 61/100\n",
            "\u001b[1m3/3\u001b[0m \u001b[32m━━━━━━━━━━━━━━━━━━━━\u001b[0m\u001b[37m\u001b[0m \u001b[1m1s\u001b[0m 445ms/step - accuracy: 0.9730 - loss: 0.6691\n",
            "Epoch 62/100\n",
            "\u001b[1m3/3\u001b[0m \u001b[32m━━━━━━━━━━━━━━━━━━━━\u001b[0m\u001b[37m\u001b[0m \u001b[1m1s\u001b[0m 265ms/step - accuracy: 0.9936 - loss: 0.6283\n",
            "Epoch 63/100\n",
            "\u001b[1m3/3\u001b[0m \u001b[32m━━━━━━━━━━━━━━━━━━━━\u001b[0m\u001b[37m\u001b[0m \u001b[1m1s\u001b[0m 274ms/step - accuracy: 0.9936 - loss: 0.6051\n",
            "Epoch 64/100\n",
            "\u001b[1m3/3\u001b[0m \u001b[32m━━━━━━━━━━━━━━━━━━━━\u001b[0m\u001b[37m\u001b[0m \u001b[1m1s\u001b[0m 268ms/step - accuracy: 1.0000 - loss: 0.5947\n",
            "Epoch 65/100\n",
            "\u001b[1m3/3\u001b[0m \u001b[32m━━━━━━━━━━━━━━━━━━━━\u001b[0m\u001b[37m\u001b[0m \u001b[1m1s\u001b[0m 254ms/step - accuracy: 1.0000 - loss: 0.5612\n",
            "Epoch 66/100\n",
            "\u001b[1m3/3\u001b[0m \u001b[32m━━━━━━━━━━━━━━━━━━━━\u001b[0m\u001b[37m\u001b[0m \u001b[1m1s\u001b[0m 251ms/step - accuracy: 1.0000 - loss: 0.5349\n",
            "Epoch 67/100\n",
            "\u001b[1m3/3\u001b[0m \u001b[32m━━━━━━━━━━━━━━━━━━━━\u001b[0m\u001b[37m\u001b[0m \u001b[1m1s\u001b[0m 253ms/step - accuracy: 0.9897 - loss: 0.5128\n",
            "Epoch 68/100\n",
            "\u001b[1m3/3\u001b[0m \u001b[32m━━━━━━━━━━━━━━━━━━━━\u001b[0m\u001b[37m\u001b[0m \u001b[1m1s\u001b[0m 257ms/step - accuracy: 1.0000 - loss: 0.4961\n",
            "Epoch 69/100\n",
            "\u001b[1m3/3\u001b[0m \u001b[32m━━━━━━━━━━━━━━━━━━━━\u001b[0m\u001b[37m\u001b[0m \u001b[1m1s\u001b[0m 263ms/step - accuracy: 1.0000 - loss: 0.4735\n",
            "Epoch 70/100\n",
            "\u001b[1m3/3\u001b[0m \u001b[32m━━━━━━━━━━━━━━━━━━━━\u001b[0m\u001b[37m\u001b[0m \u001b[1m1s\u001b[0m 250ms/step - accuracy: 1.0000 - loss: 0.4665\n",
            "Epoch 71/100\n",
            "\u001b[1m3/3\u001b[0m \u001b[32m━━━━━━━━━━━━━━━━━━━━\u001b[0m\u001b[37m\u001b[0m \u001b[1m1s\u001b[0m 267ms/step - accuracy: 1.0000 - loss: 0.4288\n",
            "Epoch 72/100\n",
            "\u001b[1m3/3\u001b[0m \u001b[32m━━━━━━━━━━━━━━━━━━━━\u001b[0m\u001b[37m\u001b[0m \u001b[1m2s\u001b[0m 464ms/step - accuracy: 1.0000 - loss: 0.4090\n",
            "Epoch 73/100\n",
            "\u001b[1m3/3\u001b[0m \u001b[32m━━━━━━━━━━━━━━━━━━━━\u001b[0m\u001b[37m\u001b[0m \u001b[1m1s\u001b[0m 456ms/step - accuracy: 1.0000 - loss: 0.3986\n",
            "Epoch 74/100\n",
            "\u001b[1m3/3\u001b[0m \u001b[32m━━━━━━━━━━━━━━━━━━━━\u001b[0m\u001b[37m\u001b[0m \u001b[1m1s\u001b[0m 282ms/step - accuracy: 1.0000 - loss: 0.3804\n",
            "Epoch 75/100\n",
            "\u001b[1m3/3\u001b[0m \u001b[32m━━━━━━━━━━━━━━━━━━━━\u001b[0m\u001b[37m\u001b[0m \u001b[1m1s\u001b[0m 272ms/step - accuracy: 1.0000 - loss: 0.3777\n",
            "Epoch 76/100\n",
            "\u001b[1m3/3\u001b[0m \u001b[32m━━━━━━━━━━━━━━━━━━━━\u001b[0m\u001b[37m\u001b[0m \u001b[1m1s\u001b[0m 274ms/step - accuracy: 1.0000 - loss: 0.3523\n",
            "Epoch 77/100\n",
            "\u001b[1m3/3\u001b[0m \u001b[32m━━━━━━━━━━━━━━━━━━━━\u001b[0m\u001b[37m\u001b[0m \u001b[1m1s\u001b[0m 268ms/step - accuracy: 1.0000 - loss: 0.3425\n",
            "Epoch 78/100\n",
            "\u001b[1m3/3\u001b[0m \u001b[32m━━━━━━━━━━━━━━━━━━━━\u001b[0m\u001b[37m\u001b[0m \u001b[1m1s\u001b[0m 261ms/step - accuracy: 1.0000 - loss: 0.3361\n",
            "Epoch 79/100\n",
            "\u001b[1m3/3\u001b[0m \u001b[32m━━━━━━━━━━━━━━━━━━━━\u001b[0m\u001b[37m\u001b[0m \u001b[1m1s\u001b[0m 265ms/step - accuracy: 1.0000 - loss: 0.3183\n",
            "Epoch 80/100\n",
            "\u001b[1m3/3\u001b[0m \u001b[32m━━━━━━━━━━━━━━━━━━━━\u001b[0m\u001b[37m\u001b[0m \u001b[1m1s\u001b[0m 269ms/step - accuracy: 1.0000 - loss: 0.3010\n",
            "Epoch 81/100\n",
            "\u001b[1m3/3\u001b[0m \u001b[32m━━━━━━━━━━━━━━━━━━━━\u001b[0m\u001b[37m\u001b[0m \u001b[1m1s\u001b[0m 261ms/step - accuracy: 1.0000 - loss: 0.2902\n",
            "Epoch 82/100\n",
            "\u001b[1m3/3\u001b[0m \u001b[32m━━━━━━━━━━━━━━━━━━━━\u001b[0m\u001b[37m\u001b[0m \u001b[1m1s\u001b[0m 267ms/step - accuracy: 1.0000 - loss: 0.2780\n",
            "Epoch 83/100\n",
            "\u001b[1m3/3\u001b[0m \u001b[32m━━━━━━━━━━━━━━━━━━━━\u001b[0m\u001b[37m\u001b[0m \u001b[1m1s\u001b[0m 263ms/step - accuracy: 1.0000 - loss: 0.2690\n",
            "Epoch 84/100\n",
            "\u001b[1m3/3\u001b[0m \u001b[32m━━━━━━━━━━━━━━━━━━━━\u001b[0m\u001b[37m\u001b[0m \u001b[1m1s\u001b[0m 459ms/step - accuracy: 1.0000 - loss: 0.2619\n",
            "Epoch 85/100\n",
            "\u001b[1m3/3\u001b[0m \u001b[32m━━━━━━━━━━━━━━━━━━━━\u001b[0m\u001b[37m\u001b[0m \u001b[1m2s\u001b[0m 470ms/step - accuracy: 1.0000 - loss: 0.2373\n",
            "Epoch 86/100\n",
            "\u001b[1m3/3\u001b[0m \u001b[32m━━━━━━━━━━━━━━━━━━━━\u001b[0m\u001b[37m\u001b[0m \u001b[1m1s\u001b[0m 254ms/step - accuracy: 1.0000 - loss: 0.2397\n",
            "Epoch 87/100\n",
            "\u001b[1m3/3\u001b[0m \u001b[32m━━━━━━━━━━━━━━━━━━━━\u001b[0m\u001b[37m\u001b[0m \u001b[1m1s\u001b[0m 257ms/step - accuracy: 1.0000 - loss: 0.2310\n",
            "Epoch 88/100\n",
            "\u001b[1m3/3\u001b[0m \u001b[32m━━━━━━━━━━━━━━━━━━━━\u001b[0m\u001b[37m\u001b[0m \u001b[1m1s\u001b[0m 251ms/step - accuracy: 1.0000 - loss: 0.2214\n",
            "Epoch 89/100\n",
            "\u001b[1m3/3\u001b[0m \u001b[32m━━━━━━━━━━━━━━━━━━━━\u001b[0m\u001b[37m\u001b[0m \u001b[1m1s\u001b[0m 255ms/step - accuracy: 1.0000 - loss: 0.2186\n",
            "Epoch 90/100\n",
            "\u001b[1m3/3\u001b[0m \u001b[32m━━━━━━━━━━━━━━━━━━━━\u001b[0m\u001b[37m\u001b[0m \u001b[1m1s\u001b[0m 279ms/step - accuracy: 1.0000 - loss: 0.2085\n",
            "Epoch 91/100\n",
            "\u001b[1m3/3\u001b[0m \u001b[32m━━━━━━━━━━━━━━━━━━━━\u001b[0m\u001b[37m\u001b[0m \u001b[1m1s\u001b[0m 262ms/step - accuracy: 1.0000 - loss: 0.1991\n",
            "Epoch 92/100\n",
            "\u001b[1m3/3\u001b[0m \u001b[32m━━━━━━━━━━━━━━━━━━━━\u001b[0m\u001b[37m\u001b[0m \u001b[1m1s\u001b[0m 293ms/step - accuracy: 1.0000 - loss: 0.1825\n",
            "Epoch 93/100\n",
            "\u001b[1m3/3\u001b[0m \u001b[32m━━━━━━━━━━━━━━━━━━━━\u001b[0m\u001b[37m\u001b[0m \u001b[1m1s\u001b[0m 257ms/step - accuracy: 1.0000 - loss: 0.1871\n",
            "Epoch 94/100\n",
            "\u001b[1m3/3\u001b[0m \u001b[32m━━━━━━━━━━━━━━━━━━━━\u001b[0m\u001b[37m\u001b[0m \u001b[1m1s\u001b[0m 275ms/step - accuracy: 1.0000 - loss: 0.1778\n",
            "Epoch 95/100\n",
            "\u001b[1m3/3\u001b[0m \u001b[32m━━━━━━━━━━━━━━━━━━━━\u001b[0m\u001b[37m\u001b[0m \u001b[1m1s\u001b[0m 257ms/step - accuracy: 1.0000 - loss: 0.1699\n",
            "Epoch 96/100\n",
            "\u001b[1m3/3\u001b[0m \u001b[32m━━━━━━━━━━━━━━━━━━━━\u001b[0m\u001b[37m\u001b[0m \u001b[1m1s\u001b[0m 253ms/step - accuracy: 1.0000 - loss: 0.1652\n",
            "Epoch 97/100\n",
            "\u001b[1m3/3\u001b[0m \u001b[32m━━━━━━━━━━━━━━━━━━━━\u001b[0m\u001b[37m\u001b[0m \u001b[1m2s\u001b[0m 452ms/step - accuracy: 1.0000 - loss: 0.1607\n",
            "Epoch 98/100\n",
            "\u001b[1m3/3\u001b[0m \u001b[32m━━━━━━━━━━━━━━━━━━━━\u001b[0m\u001b[37m\u001b[0m \u001b[1m1s\u001b[0m 425ms/step - accuracy: 1.0000 - loss: 0.1493\n",
            "Epoch 99/100\n",
            "\u001b[1m3/3\u001b[0m \u001b[32m━━━━━━━━━━━━━━━━━━━━\u001b[0m\u001b[37m\u001b[0m \u001b[1m1s\u001b[0m 269ms/step - accuracy: 1.0000 - loss: 0.1477\n",
            "Epoch 100/100\n",
            "\u001b[1m3/3\u001b[0m \u001b[32m━━━━━━━━━━━━━━━━━━━━\u001b[0m\u001b[37m\u001b[0m \u001b[1m1s\u001b[0m 280ms/step - accuracy: 1.0000 - loss: 0.1459\n",
            "✅ LSTM training complete!\n",
            "\n",
            "📊 MODEL COMPARISON:\n",
            "Simple RNN → Accuracy: 1.0000, Loss: 0.0077\n",
            "LSTM       → Accuracy: 1.0000, Loss: 0.1382\n",
            "\n",
            "✨ RNN prediction: twinkle twinkle little star how i wonder\n",
            "✨ LSTM prediction: twinkle twinkle little star how i wonder\n"
          ]
        }
      ]
    },
    {
      "cell_type": "code",
      "source": [],
      "metadata": {
        "id": "wO39aCN_YhKi"
      },
      "execution_count": null,
      "outputs": []
    },
    {
      "cell_type": "markdown",
      "source": [
        "#Explanation:"
      ],
      "metadata": {
        "id": "o1Y6Hga2XzBG"
      }
    },
    {
      "cell_type": "markdown",
      "source": [
        "1.This task trains neural network-based models on text data using TensorFlow.\n",
        "\n",
        "\n",
        "2.A Simple RNN is implemented to learn short-term word dependencies, followed by an LSTM model to capture long-term context through its memory gates.\n",
        "\n",
        "\n",
        "3.Both models aim to predict the next word or character based on learned patterns.\n",
        "\n",
        "\n",
        "#Unique aspect:\n",
        "Introduces deep learning for language modeling, allowing the model to learn context automatically instead of relying on statistical counts."
      ],
      "metadata": {
        "id": "XEnAe3ibVADQ"
      }
    },
    {
      "cell_type": "markdown",
      "source": [
        "![image.png](data:image/png;base64,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)"
      ],
      "metadata": {
        "id": "Jhqn6fOxOy-t"
      }
    },
    {
      "cell_type": "code",
      "source": [
        "from transformers import pipeline\n",
        "unmasker = pipeline('fill-mask', model='bert-base-uncased')\n",
        "unmasker(\"Twinkle twinkle [MASK] star.\")"
      ],
      "metadata": {
        "colab": {
          "base_uri": "https://localhost:8080/",
          "height": 751,
          "referenced_widgets": [
            "0c2fb3d2a14541a0b3ae76214e4d3a36",
            "f86cb962da294119b69b30499fdda719",
            "df6131b4d0734e5e86aa794f7d7b63b6",
            "5f2537f0af3542eaab0eeaeed5fed5c0",
            "4850ea9e1bfe43cb8b3accf74ea50b26",
            "1f64146fcc9a422da4cfc88c6a348b07",
            "4e6a5eb999a44cb0a3ddc2fe63a5113d",
            "6e95595aa945488580314eab1f538566",
            "95756fa189db4fdfa7ddd55a034a0566",
            "56a7a08f7c334b7bba48ff6f3f74aa32",
            "0be4fc7ab8a44dcd8618c783efe50cb4",
            "53a6b9bf61bd404c8ebc9d2d3b54b3b4",
            "ce713f09f6d94f9eac7b6b07e4fc3db5",
            "bd1b741a36a04470bd1668c67c76cc99",
            "3bb73932a3974c85a78b9c0aba3b222e",
            "e0aeed36764f43bc8c335e21538ed4ab",
            "010469350c4e45c98f0f70b2a8eea783",
            "d9bf27232e934478bf74c32d015504a0",
            "b4dd593120f043feb17b8d8223d18de3",
            "1557e85a6439474cab4e995a7b5cb560",
            "418925667bbb4d359a497450f95f91fd",
            "13b0e7655c5b43959662e238541089ea",
            "f5666eb2fbac45c19a681b6504050a1c",
            "c0b18af491b94412b4cb9cc6790c01a5",
            "c1b3f2bfffed4a12801004d586e0bf29",
            "c515c6f4d5e748c987aedd0bb5426192",
            "5c1617405ef14f25a5f851af7af545d0",
            "19ef8536309a48369e2a6fa6d86456e5",
            "78fef5593bee4ca1b2c8cacc6ad4c2d4",
            "ad22436237b44c8797af8e5411a7acb0",
            "b6fb66e6a32444218b7be23542f560d9",
            "069ce30dd26649bd8ac6987f1d7ad43e",
            "0fbb4cb82e1a4176a121c2504daf297b",
            "bc238ef9230647e1b9b63cfdb10438d9",
            "b798229f9b244a1d9014ac74086de7ed",
            "14a8eb91029044b6aa19ec1436198df7",
            "047c7d20f7b64d34a0d6e357057405a7",
            "3ea4d58c72324174814e625a67131151",
            "0c54bc9fe3054822b0a5bbdb9f84d8f2",
            "9f9df91097a146439bb9cf51146709f9",
            "a9172c15176c4825a229b75442db3dee",
            "401f4644f8fe4052b1c98827bb53ee89",
            "5457c60390824eaa9a00d9d92643eec0",
            "c3b0e3fad31844fa9b74249b510cf2c3",
            "437f85ed54ca405588f101f5f64d061b",
            "873f8cc114f34567bcb4849891f7850e",
            "7fa85905933f405092d9be3d22201dbe",
            "79b2a461e72844f4a3c8e39789fc3526",
            "ef1bfce829d543f9a8493a201ed7d701",
            "6b437c2a3b324f0191f8bfc670f35618",
            "11fc7202fe5e4acda9537159e6784b4b",
            "6dc4043b55294a3ca5942ee78a0f7652",
            "0ecd4464bffc489e872a46b16e01d007",
            "ea200daf5377404196c3bdb6e12c7bfe",
            "c61afe013aa6412288c9b8c18a37adde"
          ]
        },
        "id": "0-9gSVqwKn4g",
        "outputId": "2fac3f8d-f938-4cfc-a5e9-a9b0c3ebe2fe"
      },
      "execution_count": null,
      "outputs": [
        {
          "output_type": "stream",
          "name": "stderr",
          "text": [
            "/usr/local/lib/python3.12/dist-packages/huggingface_hub/utils/_auth.py:94: UserWarning: \n",
            "The secret `HF_TOKEN` does not exist in your Colab secrets.\n",
            "To authenticate with the Hugging Face Hub, create a token in your settings tab (https://huggingface.co/settings/tokens), set it as secret in your Google Colab and restart your session.\n",
            "You will be able to reuse this secret in all of your notebooks.\n",
            "Please note that authentication is recommended but still optional to access public models or datasets.\n",
            "  warnings.warn(\n"
          ]
        },
        {
          "output_type": "display_data",
          "data": {
            "text/plain": [
              "config.json:   0%|          | 0.00/570 [00:00<?, ?B/s]"
            ],
            "application/vnd.jupyter.widget-view+json": {
              "version_major": 2,
              "version_minor": 0,
              "model_id": "0c2fb3d2a14541a0b3ae76214e4d3a36"
            }
          },
          "metadata": {}
        },
        {
          "output_type": "display_data",
          "data": {
            "text/plain": [
              "model.safetensors:   0%|          | 0.00/440M [00:00<?, ?B/s]"
            ],
            "application/vnd.jupyter.widget-view+json": {
              "version_major": 2,
              "version_minor": 0,
              "model_id": "53a6b9bf61bd404c8ebc9d2d3b54b3b4"
            }
          },
          "metadata": {}
        },
        {
          "output_type": "stream",
          "name": "stderr",
          "text": [
            "Some weights of the model checkpoint at bert-base-uncased were not used when initializing BertForMaskedLM: ['bert.pooler.dense.bias', 'bert.pooler.dense.weight', 'cls.seq_relationship.bias', 'cls.seq_relationship.weight']\n",
            "- This IS expected if you are initializing BertForMaskedLM from the checkpoint of a model trained on another task or with another architecture (e.g. initializing a BertForSequenceClassification model from a BertForPreTraining model).\n",
            "- This IS NOT expected if you are initializing BertForMaskedLM from the checkpoint of a model that you expect to be exactly identical (initializing a BertForSequenceClassification model from a BertForSequenceClassification model).\n"
          ]
        },
        {
          "output_type": "display_data",
          "data": {
            "text/plain": [
              "tokenizer_config.json:   0%|          | 0.00/48.0 [00:00<?, ?B/s]"
            ],
            "application/vnd.jupyter.widget-view+json": {
              "version_major": 2,
              "version_minor": 0,
              "model_id": "f5666eb2fbac45c19a681b6504050a1c"
            }
          },
          "metadata": {}
        },
        {
          "output_type": "display_data",
          "data": {
            "text/plain": [
              "vocab.txt:   0%|          | 0.00/232k [00:00<?, ?B/s]"
            ],
            "application/vnd.jupyter.widget-view+json": {
              "version_major": 2,
              "version_minor": 0,
              "model_id": "bc238ef9230647e1b9b63cfdb10438d9"
            }
          },
          "metadata": {}
        },
        {
          "output_type": "display_data",
          "data": {
            "text/plain": [
              "tokenizer.json:   0%|          | 0.00/466k [00:00<?, ?B/s]"
            ],
            "application/vnd.jupyter.widget-view+json": {
              "version_major": 2,
              "version_minor": 0,
              "model_id": "437f85ed54ca405588f101f5f64d061b"
            }
          },
          "metadata": {}
        },
        {
          "output_type": "stream",
          "name": "stderr",
          "text": [
            "Device set to use cpu\n"
          ]
        },
        {
          "output_type": "execute_result",
          "data": {
            "text/plain": [
              "[{'score': 0.44585758447647095,\n",
              "  'token': 2210,\n",
              "  'token_str': 'little',\n",
              "  'sequence': 'twinkle twinkle little star.'},\n",
              " {'score': 0.11427944153547287,\n",
              "  'token': 29038,\n",
              "  'token_str': 'twinkle',\n",
              "  'sequence': 'twinkle twinkle twinkle star.'},\n",
              " {'score': 0.0911245048046112,\n",
              "  'token': 1010,\n",
              "  'token_str': ',',\n",
              "  'sequence': 'twinkle twinkle, star.'},\n",
              " {'score': 0.0819026306271553,\n",
              "  'token': 1996,\n",
              "  'token_str': 'the',\n",
              "  'sequence': 'twinkle twinkle the star.'},\n",
              " {'score': 0.06745883077383041,\n",
              "  'token': 2026,\n",
              "  'token_str': 'my',\n",
              "  'sequence': 'twinkle twinkle my star.'}]"
            ]
          },
          "metadata": {},
          "execution_count": 3
        }
      ]
    },
    {
      "cell_type": "code",
      "source": [],
      "metadata": {
        "id": "WqV2Dt3aYi70"
      },
      "execution_count": null,
      "outputs": []
    },
    {
      "cell_type": "code",
      "source": [],
      "metadata": {
        "id": "HpARlCc-Yjnk"
      },
      "execution_count": null,
      "outputs": []
    },
    {
      "cell_type": "code",
      "source": [],
      "metadata": {
        "id": "Myv7Z7APYkO0"
      },
      "execution_count": null,
      "outputs": []
    },
    {
      "cell_type": "code",
      "source": [],
      "metadata": {
        "id": "Mr3RS4JvYk3m"
      },
      "execution_count": null,
      "outputs": []
    },
    {
      "cell_type": "code",
      "source": [],
      "metadata": {
        "id": "8s38iMjXYmGH"
      },
      "execution_count": null,
      "outputs": []
    },
    {
      "cell_type": "markdown",
      "source": [
        "#Explanation:"
      ],
      "metadata": {
        "id": "eR_B-EpoXugm"
      }
    },
    {
      "cell_type": "markdown",
      "source": [
        "1.This task utilizes a pretrained transformer model (e.g., BERT) to generate text from a given prompt.\n",
        "\n",
        "2.The transformer uses self-attention mechanisms to understand complete sentence context and produce fluent, meaningful text.\n",
        "\n",
        "#Unique aspect:\n",
        "Demonstrates transfer learning with a pretrained large language model, capable of performing multiple NLP tasks without additional training."
      ],
      "metadata": {
        "id": "jDkqT7fGVd-L"
      }
    },
    {
      "cell_type": "code",
      "source": [],
      "metadata": {
        "id": "O96mE-tBKxkq"
      },
      "execution_count": null,
      "outputs": []
    }
  ]
}