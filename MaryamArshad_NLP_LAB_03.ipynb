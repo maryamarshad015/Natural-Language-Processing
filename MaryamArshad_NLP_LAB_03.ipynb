{
  "nbformat": 4,
  "nbformat_minor": 0,
  "metadata": {
    "colab": {
      "provenance": []
    },
    "kernelspec": {
      "name": "python3",
      "display_name": "Python 3"
    },
    "language_info": {
      "name": "python"
    },
    "widgets": {
      "application/vnd.jupyter.widget-state+json": {
        "373d6830e9214a259369876bcd0fb076": {
          "model_module": "@jupyter-widgets/controls",
          "model_name": "HBoxModel",
          "model_module_version": "1.5.0",
          "state": {
            "_dom_classes": [],
            "_model_module": "@jupyter-widgets/controls",
            "_model_module_version": "1.5.0",
            "_model_name": "HBoxModel",
            "_view_count": null,
            "_view_module": "@jupyter-widgets/controls",
            "_view_module_version": "1.5.0",
            "_view_name": "HBoxView",
            "box_style": "",
            "children": [
              "IPY_MODEL_38030abeebd04273a3d87d8fe7d31e9e",
              "IPY_MODEL_b8ee2db7d666463da6fc10f901b87bfa",
              "IPY_MODEL_c69be7955ee34387aebd3c47fc7b5871"
            ],
            "layout": "IPY_MODEL_499cb3d94fc54b92a348dfb70b349b5b"
          }
        },
        "38030abeebd04273a3d87d8fe7d31e9e": {
          "model_module": "@jupyter-widgets/controls",
          "model_name": "HTMLModel",
          "model_module_version": "1.5.0",
          "state": {
            "_dom_classes": [],
            "_model_module": "@jupyter-widgets/controls",
            "_model_module_version": "1.5.0",
            "_model_name": "HTMLModel",
            "_view_count": null,
            "_view_module": "@jupyter-widgets/controls",
            "_view_module_version": "1.5.0",
            "_view_name": "HTMLView",
            "description": "",
            "description_tooltip": null,
            "layout": "IPY_MODEL_a77f734567f143ebb270bc12866d7200",
            "placeholder": "​",
            "style": "IPY_MODEL_ca095cde57fb4f7382b932b15d271064",
            "value": "Downloading https://raw.githubusercontent.com/stanfordnlp/stanza-resources/main/resources_1.10.0.json: "
          }
        },
        "b8ee2db7d666463da6fc10f901b87bfa": {
          "model_module": "@jupyter-widgets/controls",
          "model_name": "FloatProgressModel",
          "model_module_version": "1.5.0",
          "state": {
            "_dom_classes": [],
            "_model_module": "@jupyter-widgets/controls",
            "_model_module_version": "1.5.0",
            "_model_name": "FloatProgressModel",
            "_view_count": null,
            "_view_module": "@jupyter-widgets/controls",
            "_view_module_version": "1.5.0",
            "_view_name": "ProgressView",
            "bar_style": "success",
            "description": "",
            "description_tooltip": null,
            "layout": "IPY_MODEL_f61b105084ac4e91af16ce97a4daa532",
            "max": 53595,
            "min": 0,
            "orientation": "horizontal",
            "style": "IPY_MODEL_4aab396eae1b470a8fa9221856ab176d",
            "value": 53595
          }
        },
        "c69be7955ee34387aebd3c47fc7b5871": {
          "model_module": "@jupyter-widgets/controls",
          "model_name": "HTMLModel",
          "model_module_version": "1.5.0",
          "state": {
            "_dom_classes": [],
            "_model_module": "@jupyter-widgets/controls",
            "_model_module_version": "1.5.0",
            "_model_name": "HTMLModel",
            "_view_count": null,
            "_view_module": "@jupyter-widgets/controls",
            "_view_module_version": "1.5.0",
            "_view_name": "HTMLView",
            "description": "",
            "description_tooltip": null,
            "layout": "IPY_MODEL_b61f6a8fe7d943cbb5e45160846cfb70",
            "placeholder": "​",
            "style": "IPY_MODEL_f8c27869edba4571a81a46b5b0518ea4",
            "value": " 434k/? [00:00&lt;00:00, 28.1MB/s]"
          }
        },
        "499cb3d94fc54b92a348dfb70b349b5b": {
          "model_module": "@jupyter-widgets/base",
          "model_name": "LayoutModel",
          "model_module_version": "1.2.0",
          "state": {
            "_model_module": "@jupyter-widgets/base",
            "_model_module_version": "1.2.0",
            "_model_name": "LayoutModel",
            "_view_count": null,
            "_view_module": "@jupyter-widgets/base",
            "_view_module_version": "1.2.0",
            "_view_name": "LayoutView",
            "align_content": null,
            "align_items": null,
            "align_self": null,
            "border": null,
            "bottom": null,
            "display": null,
            "flex": null,
            "flex_flow": null,
            "grid_area": null,
            "grid_auto_columns": null,
            "grid_auto_flow": null,
            "grid_auto_rows": null,
            "grid_column": null,
            "grid_gap": null,
            "grid_row": null,
            "grid_template_areas": null,
            "grid_template_columns": null,
            "grid_template_rows": null,
            "height": null,
            "justify_content": null,
            "justify_items": null,
            "left": null,
            "margin": null,
            "max_height": null,
            "max_width": null,
            "min_height": null,
            "min_width": null,
            "object_fit": null,
            "object_position": null,
            "order": null,
            "overflow": null,
            "overflow_x": null,
            "overflow_y": null,
            "padding": null,
            "right": null,
            "top": null,
            "visibility": null,
            "width": null
          }
        },
        "a77f734567f143ebb270bc12866d7200": {
          "model_module": "@jupyter-widgets/base",
          "model_name": "LayoutModel",
          "model_module_version": "1.2.0",
          "state": {
            "_model_module": "@jupyter-widgets/base",
            "_model_module_version": "1.2.0",
            "_model_name": "LayoutModel",
            "_view_count": null,
            "_view_module": "@jupyter-widgets/base",
            "_view_module_version": "1.2.0",
            "_view_name": "LayoutView",
            "align_content": null,
            "align_items": null,
            "align_self": null,
            "border": null,
            "bottom": null,
            "display": null,
            "flex": null,
            "flex_flow": null,
            "grid_area": null,
            "grid_auto_columns": null,
            "grid_auto_flow": null,
            "grid_auto_rows": null,
            "grid_column": null,
            "grid_gap": null,
            "grid_row": null,
            "grid_template_areas": null,
            "grid_template_columns": null,
            "grid_template_rows": null,
            "height": null,
            "justify_content": null,
            "justify_items": null,
            "left": null,
            "margin": null,
            "max_height": null,
            "max_width": null,
            "min_height": null,
            "min_width": null,
            "object_fit": null,
            "object_position": null,
            "order": null,
            "overflow": null,
            "overflow_x": null,
            "overflow_y": null,
            "padding": null,
            "right": null,
            "top": null,
            "visibility": null,
            "width": null
          }
        },
        "ca095cde57fb4f7382b932b15d271064": {
          "model_module": "@jupyter-widgets/controls",
          "model_name": "DescriptionStyleModel",
          "model_module_version": "1.5.0",
          "state": {
            "_model_module": "@jupyter-widgets/controls",
            "_model_module_version": "1.5.0",
            "_model_name": "DescriptionStyleModel",
            "_view_count": null,
            "_view_module": "@jupyter-widgets/base",
            "_view_module_version": "1.2.0",
            "_view_name": "StyleView",
            "description_width": ""
          }
        },
        "f61b105084ac4e91af16ce97a4daa532": {
          "model_module": "@jupyter-widgets/base",
          "model_name": "LayoutModel",
          "model_module_version": "1.2.0",
          "state": {
            "_model_module": "@jupyter-widgets/base",
            "_model_module_version": "1.2.0",
            "_model_name": "LayoutModel",
            "_view_count": null,
            "_view_module": "@jupyter-widgets/base",
            "_view_module_version": "1.2.0",
            "_view_name": "LayoutView",
            "align_content": null,
            "align_items": null,
            "align_self": null,
            "border": null,
            "bottom": null,
            "display": null,
            "flex": null,
            "flex_flow": null,
            "grid_area": null,
            "grid_auto_columns": null,
            "grid_auto_flow": null,
            "grid_auto_rows": null,
            "grid_column": null,
            "grid_gap": null,
            "grid_row": null,
            "grid_template_areas": null,
            "grid_template_columns": null,
            "grid_template_rows": null,
            "height": null,
            "justify_content": null,
            "justify_items": null,
            "left": null,
            "margin": null,
            "max_height": null,
            "max_width": null,
            "min_height": null,
            "min_width": null,
            "object_fit": null,
            "object_position": null,
            "order": null,
            "overflow": null,
            "overflow_x": null,
            "overflow_y": null,
            "padding": null,
            "right": null,
            "top": null,
            "visibility": null,
            "width": null
          }
        },
        "4aab396eae1b470a8fa9221856ab176d": {
          "model_module": "@jupyter-widgets/controls",
          "model_name": "ProgressStyleModel",
          "model_module_version": "1.5.0",
          "state": {
            "_model_module": "@jupyter-widgets/controls",
            "_model_module_version": "1.5.0",
            "_model_name": "ProgressStyleModel",
            "_view_count": null,
            "_view_module": "@jupyter-widgets/base",
            "_view_module_version": "1.2.0",
            "_view_name": "StyleView",
            "bar_color": null,
            "description_width": ""
          }
        },
        "b61f6a8fe7d943cbb5e45160846cfb70": {
          "model_module": "@jupyter-widgets/base",
          "model_name": "LayoutModel",
          "model_module_version": "1.2.0",
          "state": {
            "_model_module": "@jupyter-widgets/base",
            "_model_module_version": "1.2.0",
            "_model_name": "LayoutModel",
            "_view_count": null,
            "_view_module": "@jupyter-widgets/base",
            "_view_module_version": "1.2.0",
            "_view_name": "LayoutView",
            "align_content": null,
            "align_items": null,
            "align_self": null,
            "border": null,
            "bottom": null,
            "display": null,
            "flex": null,
            "flex_flow": null,
            "grid_area": null,
            "grid_auto_columns": null,
            "grid_auto_flow": null,
            "grid_auto_rows": null,
            "grid_column": null,
            "grid_gap": null,
            "grid_row": null,
            "grid_template_areas": null,
            "grid_template_columns": null,
            "grid_template_rows": null,
            "height": null,
            "justify_content": null,
            "justify_items": null,
            "left": null,
            "margin": null,
            "max_height": null,
            "max_width": null,
            "min_height": null,
            "min_width": null,
            "object_fit": null,
            "object_position": null,
            "order": null,
            "overflow": null,
            "overflow_x": null,
            "overflow_y": null,
            "padding": null,
            "right": null,
            "top": null,
            "visibility": null,
            "width": null
          }
        },
        "f8c27869edba4571a81a46b5b0518ea4": {
          "model_module": "@jupyter-widgets/controls",
          "model_name": "DescriptionStyleModel",
          "model_module_version": "1.5.0",
          "state": {
            "_model_module": "@jupyter-widgets/controls",
            "_model_module_version": "1.5.0",
            "_model_name": "DescriptionStyleModel",
            "_view_count": null,
            "_view_module": "@jupyter-widgets/base",
            "_view_module_version": "1.2.0",
            "_view_name": "StyleView",
            "description_width": ""
          }
        },
        "a29728033fee4cf482b94427554b12fb": {
          "model_module": "@jupyter-widgets/controls",
          "model_name": "HBoxModel",
          "model_module_version": "1.5.0",
          "state": {
            "_dom_classes": [],
            "_model_module": "@jupyter-widgets/controls",
            "_model_module_version": "1.5.0",
            "_model_name": "HBoxModel",
            "_view_count": null,
            "_view_module": "@jupyter-widgets/controls",
            "_view_module_version": "1.5.0",
            "_view_name": "HBoxView",
            "box_style": "",
            "children": [
              "IPY_MODEL_c882148802204338b027a136dd5bd80c",
              "IPY_MODEL_b0273e269c594a4cb4bd072ac4bf43f6",
              "IPY_MODEL_d49a2d0773fa41a0adad8a9b94d8f29f"
            ],
            "layout": "IPY_MODEL_88195caed4454b28b35bc90f883e0e8f"
          }
        },
        "c882148802204338b027a136dd5bd80c": {
          "model_module": "@jupyter-widgets/controls",
          "model_name": "HTMLModel",
          "model_module_version": "1.5.0",
          "state": {
            "_dom_classes": [],
            "_model_module": "@jupyter-widgets/controls",
            "_model_module_version": "1.5.0",
            "_model_name": "HTMLModel",
            "_view_count": null,
            "_view_module": "@jupyter-widgets/controls",
            "_view_module_version": "1.5.0",
            "_view_name": "HTMLView",
            "description": "",
            "description_tooltip": null,
            "layout": "IPY_MODEL_6f1056f702134c19a104e4dc177855b1",
            "placeholder": "​",
            "style": "IPY_MODEL_49af31b16e2d4361a0b4ba019013c093",
            "value": "Downloading https://raw.githubusercontent.com/stanfordnlp/stanza-resources/main/resources_1.10.0.json: "
          }
        },
        "b0273e269c594a4cb4bd072ac4bf43f6": {
          "model_module": "@jupyter-widgets/controls",
          "model_name": "FloatProgressModel",
          "model_module_version": "1.5.0",
          "state": {
            "_dom_classes": [],
            "_model_module": "@jupyter-widgets/controls",
            "_model_module_version": "1.5.0",
            "_model_name": "FloatProgressModel",
            "_view_count": null,
            "_view_module": "@jupyter-widgets/controls",
            "_view_module_version": "1.5.0",
            "_view_name": "ProgressView",
            "bar_style": "success",
            "description": "",
            "description_tooltip": null,
            "layout": "IPY_MODEL_d5f7167e62504bdd89b3fac5e7a2f026",
            "max": 53595,
            "min": 0,
            "orientation": "horizontal",
            "style": "IPY_MODEL_bfa15c43e3c14d1fac5b1fea6c0f1374",
            "value": 53595
          }
        },
        "d49a2d0773fa41a0adad8a9b94d8f29f": {
          "model_module": "@jupyter-widgets/controls",
          "model_name": "HTMLModel",
          "model_module_version": "1.5.0",
          "state": {
            "_dom_classes": [],
            "_model_module": "@jupyter-widgets/controls",
            "_model_module_version": "1.5.0",
            "_model_name": "HTMLModel",
            "_view_count": null,
            "_view_module": "@jupyter-widgets/controls",
            "_view_module_version": "1.5.0",
            "_view_name": "HTMLView",
            "description": "",
            "description_tooltip": null,
            "layout": "IPY_MODEL_a024216acba44ddba134de24ec963fe9",
            "placeholder": "​",
            "style": "IPY_MODEL_abb23f3b4e5e4e70b7915c6bf399b3ec",
            "value": " 434k/? [00:00&lt;00:00, 12.9MB/s]"
          }
        },
        "88195caed4454b28b35bc90f883e0e8f": {
          "model_module": "@jupyter-widgets/base",
          "model_name": "LayoutModel",
          "model_module_version": "1.2.0",
          "state": {
            "_model_module": "@jupyter-widgets/base",
            "_model_module_version": "1.2.0",
            "_model_name": "LayoutModel",
            "_view_count": null,
            "_view_module": "@jupyter-widgets/base",
            "_view_module_version": "1.2.0",
            "_view_name": "LayoutView",
            "align_content": null,
            "align_items": null,
            "align_self": null,
            "border": null,
            "bottom": null,
            "display": null,
            "flex": null,
            "flex_flow": null,
            "grid_area": null,
            "grid_auto_columns": null,
            "grid_auto_flow": null,
            "grid_auto_rows": null,
            "grid_column": null,
            "grid_gap": null,
            "grid_row": null,
            "grid_template_areas": null,
            "grid_template_columns": null,
            "grid_template_rows": null,
            "height": null,
            "justify_content": null,
            "justify_items": null,
            "left": null,
            "margin": null,
            "max_height": null,
            "max_width": null,
            "min_height": null,
            "min_width": null,
            "object_fit": null,
            "object_position": null,
            "order": null,
            "overflow": null,
            "overflow_x": null,
            "overflow_y": null,
            "padding": null,
            "right": null,
            "top": null,
            "visibility": null,
            "width": null
          }
        },
        "6f1056f702134c19a104e4dc177855b1": {
          "model_module": "@jupyter-widgets/base",
          "model_name": "LayoutModel",
          "model_module_version": "1.2.0",
          "state": {
            "_model_module": "@jupyter-widgets/base",
            "_model_module_version": "1.2.0",
            "_model_name": "LayoutModel",
            "_view_count": null,
            "_view_module": "@jupyter-widgets/base",
            "_view_module_version": "1.2.0",
            "_view_name": "LayoutView",
            "align_content": null,
            "align_items": null,
            "align_self": null,
            "border": null,
            "bottom": null,
            "display": null,
            "flex": null,
            "flex_flow": null,
            "grid_area": null,
            "grid_auto_columns": null,
            "grid_auto_flow": null,
            "grid_auto_rows": null,
            "grid_column": null,
            "grid_gap": null,
            "grid_row": null,
            "grid_template_areas": null,
            "grid_template_columns": null,
            "grid_template_rows": null,
            "height": null,
            "justify_content": null,
            "justify_items": null,
            "left": null,
            "margin": null,
            "max_height": null,
            "max_width": null,
            "min_height": null,
            "min_width": null,
            "object_fit": null,
            "object_position": null,
            "order": null,
            "overflow": null,
            "overflow_x": null,
            "overflow_y": null,
            "padding": null,
            "right": null,
            "top": null,
            "visibility": null,
            "width": null
          }
        },
        "49af31b16e2d4361a0b4ba019013c093": {
          "model_module": "@jupyter-widgets/controls",
          "model_name": "DescriptionStyleModel",
          "model_module_version": "1.5.0",
          "state": {
            "_model_module": "@jupyter-widgets/controls",
            "_model_module_version": "1.5.0",
            "_model_name": "DescriptionStyleModel",
            "_view_count": null,
            "_view_module": "@jupyter-widgets/base",
            "_view_module_version": "1.2.0",
            "_view_name": "StyleView",
            "description_width": ""
          }
        },
        "d5f7167e62504bdd89b3fac5e7a2f026": {
          "model_module": "@jupyter-widgets/base",
          "model_name": "LayoutModel",
          "model_module_version": "1.2.0",
          "state": {
            "_model_module": "@jupyter-widgets/base",
            "_model_module_version": "1.2.0",
            "_model_name": "LayoutModel",
            "_view_count": null,
            "_view_module": "@jupyter-widgets/base",
            "_view_module_version": "1.2.0",
            "_view_name": "LayoutView",
            "align_content": null,
            "align_items": null,
            "align_self": null,
            "border": null,
            "bottom": null,
            "display": null,
            "flex": null,
            "flex_flow": null,
            "grid_area": null,
            "grid_auto_columns": null,
            "grid_auto_flow": null,
            "grid_auto_rows": null,
            "grid_column": null,
            "grid_gap": null,
            "grid_row": null,
            "grid_template_areas": null,
            "grid_template_columns": null,
            "grid_template_rows": null,
            "height": null,
            "justify_content": null,
            "justify_items": null,
            "left": null,
            "margin": null,
            "max_height": null,
            "max_width": null,
            "min_height": null,
            "min_width": null,
            "object_fit": null,
            "object_position": null,
            "order": null,
            "overflow": null,
            "overflow_x": null,
            "overflow_y": null,
            "padding": null,
            "right": null,
            "top": null,
            "visibility": null,
            "width": null
          }
        },
        "bfa15c43e3c14d1fac5b1fea6c0f1374": {
          "model_module": "@jupyter-widgets/controls",
          "model_name": "ProgressStyleModel",
          "model_module_version": "1.5.0",
          "state": {
            "_model_module": "@jupyter-widgets/controls",
            "_model_module_version": "1.5.0",
            "_model_name": "ProgressStyleModel",
            "_view_count": null,
            "_view_module": "@jupyter-widgets/base",
            "_view_module_version": "1.2.0",
            "_view_name": "StyleView",
            "bar_color": null,
            "description_width": ""
          }
        },
        "a024216acba44ddba134de24ec963fe9": {
          "model_module": "@jupyter-widgets/base",
          "model_name": "LayoutModel",
          "model_module_version": "1.2.0",
          "state": {
            "_model_module": "@jupyter-widgets/base",
            "_model_module_version": "1.2.0",
            "_model_name": "LayoutModel",
            "_view_count": null,
            "_view_module": "@jupyter-widgets/base",
            "_view_module_version": "1.2.0",
            "_view_name": "LayoutView",
            "align_content": null,
            "align_items": null,
            "align_self": null,
            "border": null,
            "bottom": null,
            "display": null,
            "flex": null,
            "flex_flow": null,
            "grid_area": null,
            "grid_auto_columns": null,
            "grid_auto_flow": null,
            "grid_auto_rows": null,
            "grid_column": null,
            "grid_gap": null,
            "grid_row": null,
            "grid_template_areas": null,
            "grid_template_columns": null,
            "grid_template_rows": null,
            "height": null,
            "justify_content": null,
            "justify_items": null,
            "left": null,
            "margin": null,
            "max_height": null,
            "max_width": null,
            "min_height": null,
            "min_width": null,
            "object_fit": null,
            "object_position": null,
            "order": null,
            "overflow": null,
            "overflow_x": null,
            "overflow_y": null,
            "padding": null,
            "right": null,
            "top": null,
            "visibility": null,
            "width": null
          }
        },
        "abb23f3b4e5e4e70b7915c6bf399b3ec": {
          "model_module": "@jupyter-widgets/controls",
          "model_name": "DescriptionStyleModel",
          "model_module_version": "1.5.0",
          "state": {
            "_model_module": "@jupyter-widgets/controls",
            "_model_module_version": "1.5.0",
            "_model_name": "DescriptionStyleModel",
            "_view_count": null,
            "_view_module": "@jupyter-widgets/base",
            "_view_module_version": "1.2.0",
            "_view_name": "StyleView",
            "description_width": ""
          }
        }
      }
    }
  },
  "cells": [
    {
      "cell_type": "code",
      "source": [
        "pip install stanza\n"
      ],
      "metadata": {
        "colab": {
          "base_uri": "https://localhost:8080/"
        },
        "id": "jhq374QIAhWS",
        "outputId": "d2e26b35-4008-48e8-ce0a-73a651ebb6ee"
      },
      "execution_count": null,
      "outputs": [
        {
          "output_type": "stream",
          "name": "stdout",
          "text": [
            "Collecting stanza\n",
            "  Downloading stanza-1.10.1-py3-none-any.whl.metadata (13 kB)\n",
            "Collecting emoji (from stanza)\n",
            "  Downloading emoji-2.15.0-py3-none-any.whl.metadata (5.7 kB)\n",
            "Requirement already satisfied: numpy in /usr/local/lib/python3.12/dist-packages (from stanza) (2.0.2)\n",
            "Requirement already satisfied: protobuf>=3.15.0 in /usr/local/lib/python3.12/dist-packages (from stanza) (5.29.5)\n",
            "Requirement already satisfied: requests in /usr/local/lib/python3.12/dist-packages (from stanza) (2.32.4)\n",
            "Requirement already satisfied: networkx in /usr/local/lib/python3.12/dist-packages (from stanza) (3.5)\n",
            "Requirement already satisfied: torch>=1.3.0 in /usr/local/lib/python3.12/dist-packages (from stanza) (2.8.0+cu126)\n",
            "Requirement already satisfied: tqdm in /usr/local/lib/python3.12/dist-packages (from stanza) (4.67.1)\n",
            "Requirement already satisfied: filelock in /usr/local/lib/python3.12/dist-packages (from torch>=1.3.0->stanza) (3.19.1)\n",
            "Requirement already satisfied: typing-extensions>=4.10.0 in /usr/local/lib/python3.12/dist-packages (from torch>=1.3.0->stanza) (4.15.0)\n",
            "Requirement already satisfied: setuptools in /usr/local/lib/python3.12/dist-packages (from torch>=1.3.0->stanza) (75.2.0)\n",
            "Requirement already satisfied: sympy>=1.13.3 in /usr/local/lib/python3.12/dist-packages (from torch>=1.3.0->stanza) (1.13.3)\n",
            "Requirement already satisfied: jinja2 in /usr/local/lib/python3.12/dist-packages (from torch>=1.3.0->stanza) (3.1.6)\n",
            "Requirement already satisfied: fsspec in /usr/local/lib/python3.12/dist-packages (from torch>=1.3.0->stanza) (2025.3.0)\n",
            "Requirement already satisfied: nvidia-cuda-nvrtc-cu12==12.6.77 in /usr/local/lib/python3.12/dist-packages (from torch>=1.3.0->stanza) (12.6.77)\n",
            "Requirement already satisfied: nvidia-cuda-runtime-cu12==12.6.77 in /usr/local/lib/python3.12/dist-packages (from torch>=1.3.0->stanza) (12.6.77)\n",
            "Requirement already satisfied: nvidia-cuda-cupti-cu12==12.6.80 in /usr/local/lib/python3.12/dist-packages (from torch>=1.3.0->stanza) (12.6.80)\n",
            "Requirement already satisfied: nvidia-cudnn-cu12==9.10.2.21 in /usr/local/lib/python3.12/dist-packages (from torch>=1.3.0->stanza) (9.10.2.21)\n",
            "Requirement already satisfied: nvidia-cublas-cu12==12.6.4.1 in /usr/local/lib/python3.12/dist-packages (from torch>=1.3.0->stanza) (12.6.4.1)\n",
            "Requirement already satisfied: nvidia-cufft-cu12==11.3.0.4 in /usr/local/lib/python3.12/dist-packages (from torch>=1.3.0->stanza) (11.3.0.4)\n",
            "Requirement already satisfied: nvidia-curand-cu12==10.3.7.77 in /usr/local/lib/python3.12/dist-packages (from torch>=1.3.0->stanza) (10.3.7.77)\n",
            "Requirement already satisfied: nvidia-cusolver-cu12==11.7.1.2 in /usr/local/lib/python3.12/dist-packages (from torch>=1.3.0->stanza) (11.7.1.2)\n",
            "Requirement already satisfied: nvidia-cusparse-cu12==12.5.4.2 in /usr/local/lib/python3.12/dist-packages (from torch>=1.3.0->stanza) (12.5.4.2)\n",
            "Requirement already satisfied: nvidia-cusparselt-cu12==0.7.1 in /usr/local/lib/python3.12/dist-packages (from torch>=1.3.0->stanza) (0.7.1)\n",
            "Requirement already satisfied: nvidia-nccl-cu12==2.27.3 in /usr/local/lib/python3.12/dist-packages (from torch>=1.3.0->stanza) (2.27.3)\n",
            "Requirement already satisfied: nvidia-nvtx-cu12==12.6.77 in /usr/local/lib/python3.12/dist-packages (from torch>=1.3.0->stanza) (12.6.77)\n",
            "Requirement already satisfied: nvidia-nvjitlink-cu12==12.6.85 in /usr/local/lib/python3.12/dist-packages (from torch>=1.3.0->stanza) (12.6.85)\n",
            "Requirement already satisfied: nvidia-cufile-cu12==1.11.1.6 in /usr/local/lib/python3.12/dist-packages (from torch>=1.3.0->stanza) (1.11.1.6)\n",
            "Requirement already satisfied: triton==3.4.0 in /usr/local/lib/python3.12/dist-packages (from torch>=1.3.0->stanza) (3.4.0)\n",
            "Requirement already satisfied: charset_normalizer<4,>=2 in /usr/local/lib/python3.12/dist-packages (from requests->stanza) (3.4.3)\n",
            "Requirement already satisfied: idna<4,>=2.5 in /usr/local/lib/python3.12/dist-packages (from requests->stanza) (3.10)\n",
            "Requirement already satisfied: urllib3<3,>=1.21.1 in /usr/local/lib/python3.12/dist-packages (from requests->stanza) (2.5.0)\n",
            "Requirement already satisfied: certifi>=2017.4.17 in /usr/local/lib/python3.12/dist-packages (from requests->stanza) (2025.8.3)\n",
            "Requirement already satisfied: mpmath<1.4,>=1.1.0 in /usr/local/lib/python3.12/dist-packages (from sympy>=1.13.3->torch>=1.3.0->stanza) (1.3.0)\n",
            "Requirement already satisfied: MarkupSafe>=2.0 in /usr/local/lib/python3.12/dist-packages (from jinja2->torch>=1.3.0->stanza) (3.0.2)\n",
            "Downloading stanza-1.10.1-py3-none-any.whl (1.1 MB)\n",
            "\u001b[2K   \u001b[90m━━━━━━━━━━━━━━━━━━━━━━━━━━━━━━━━━━━━━━━━\u001b[0m \u001b[32m1.1/1.1 MB\u001b[0m \u001b[31m53.0 MB/s\u001b[0m eta \u001b[36m0:00:00\u001b[0m\n",
            "\u001b[?25hDownloading emoji-2.15.0-py3-none-any.whl (608 kB)\n",
            "\u001b[2K   \u001b[90m━━━━━━━━━━━━━━━━━━━━━━━━━━━━━━━━━━━━━━━━\u001b[0m \u001b[32m608.4/608.4 kB\u001b[0m \u001b[31m41.2 MB/s\u001b[0m eta \u001b[36m0:00:00\u001b[0m\n",
            "\u001b[?25hInstalling collected packages: emoji, stanza\n",
            "Successfully installed emoji-2.15.0 stanza-1.10.1\n"
          ]
        }
      ]
    },
    {
      "cell_type": "code",
      "source": [
        "pip install nltk\n"
      ],
      "metadata": {
        "colab": {
          "base_uri": "https://localhost:8080/"
        },
        "id": "nyRM0MEqApvB",
        "outputId": "6290c42c-716a-4eb8-ecd2-ddc9b2f50f35"
      },
      "execution_count": null,
      "outputs": [
        {
          "output_type": "stream",
          "name": "stdout",
          "text": [
            "Requirement already satisfied: nltk in /usr/local/lib/python3.12/dist-packages (3.9.1)\n",
            "Requirement already satisfied: click in /usr/local/lib/python3.12/dist-packages (from nltk) (8.2.1)\n",
            "Requirement already satisfied: joblib in /usr/local/lib/python3.12/dist-packages (from nltk) (1.5.2)\n",
            "Requirement already satisfied: regex>=2021.8.3 in /usr/local/lib/python3.12/dist-packages (from nltk) (2024.11.6)\n",
            "Requirement already satisfied: tqdm in /usr/local/lib/python3.12/dist-packages (from nltk) (4.67.1)\n"
          ]
        }
      ]
    },
    {
      "cell_type": "markdown",
      "source": [
        "#Task 01: Dependency Parsing with Stanza"
      ],
      "metadata": {
        "id": "NlFnl6w6DxA7"
      }
    },
    {
      "cell_type": "code",
      "execution_count": null,
      "metadata": {
        "colab": {
          "base_uri": "https://localhost:8080/",
          "height": 1000,
          "referenced_widgets": [
            "373d6830e9214a259369876bcd0fb076",
            "38030abeebd04273a3d87d8fe7d31e9e",
            "b8ee2db7d666463da6fc10f901b87bfa",
            "c69be7955ee34387aebd3c47fc7b5871",
            "499cb3d94fc54b92a348dfb70b349b5b",
            "a77f734567f143ebb270bc12866d7200",
            "ca095cde57fb4f7382b932b15d271064",
            "f61b105084ac4e91af16ce97a4daa532",
            "4aab396eae1b470a8fa9221856ab176d",
            "b61f6a8fe7d943cbb5e45160846cfb70",
            "f8c27869edba4571a81a46b5b0518ea4",
            "a29728033fee4cf482b94427554b12fb",
            "c882148802204338b027a136dd5bd80c",
            "b0273e269c594a4cb4bd072ac4bf43f6",
            "d49a2d0773fa41a0adad8a9b94d8f29f",
            "88195caed4454b28b35bc90f883e0e8f",
            "6f1056f702134c19a104e4dc177855b1",
            "49af31b16e2d4361a0b4ba019013c093",
            "d5f7167e62504bdd89b3fac5e7a2f026",
            "bfa15c43e3c14d1fac5b1fea6c0f1374",
            "a024216acba44ddba134de24ec963fe9",
            "abb23f3b4e5e4e70b7915c6bf399b3ec"
          ]
        },
        "id": "VeSV7xQtABCM",
        "outputId": "6f6d9216-f33a-4f9a-e18b-625dbad50405"
      },
      "outputs": [
        {
          "output_type": "display_data",
          "data": {
            "text/plain": [
              "Downloading https://raw.githubusercontent.com/stanfordnlp/stanza-resources/main/resources_1.10.0.json:   0%|  …"
            ],
            "application/vnd.jupyter.widget-view+json": {
              "version_major": 2,
              "version_minor": 0,
              "model_id": "373d6830e9214a259369876bcd0fb076"
            }
          },
          "metadata": {}
        },
        {
          "output_type": "stream",
          "name": "stderr",
          "text": [
            "INFO:stanza:Downloaded file to /root/stanza_resources/resources.json\n",
            "INFO:stanza:Downloading default packages for language: en (English) ...\n",
            "INFO:stanza:File exists: /root/stanza_resources/en/default.zip\n",
            "INFO:stanza:Finished downloading models and saved to /root/stanza_resources\n",
            "INFO:stanza:Checking for updates to resources.json in case models have been updated.  Note: this behavior can be turned off with download_method=None or download_method=DownloadMethod.REUSE_RESOURCES\n"
          ]
        },
        {
          "output_type": "display_data",
          "data": {
            "text/plain": [
              "Downloading https://raw.githubusercontent.com/stanfordnlp/stanza-resources/main/resources_1.10.0.json:   0%|  …"
            ],
            "application/vnd.jupyter.widget-view+json": {
              "version_major": 2,
              "version_minor": 0,
              "model_id": "a29728033fee4cf482b94427554b12fb"
            }
          },
          "metadata": {}
        },
        {
          "output_type": "stream",
          "name": "stderr",
          "text": [
            "INFO:stanza:Downloaded file to /root/stanza_resources/resources.json\n",
            "INFO:stanza:Loading these models for language: en (English):\n",
            "============================================\n",
            "| Processor    | Package                   |\n",
            "--------------------------------------------\n",
            "| tokenize     | combined                  |\n",
            "| mwt          | combined                  |\n",
            "| pos          | combined_charlm           |\n",
            "| lemma        | combined_nocharlm         |\n",
            "| constituency | ptb3-revised_charlm       |\n",
            "| depparse     | combined_charlm           |\n",
            "| sentiment    | sstplus_charlm            |\n",
            "| ner          | ontonotes-ww-multi_charlm |\n",
            "============================================\n",
            "\n",
            "INFO:stanza:Using device: cpu\n",
            "INFO:stanza:Loading: tokenize\n",
            "INFO:stanza:Loading: mwt\n",
            "INFO:stanza:Loading: pos\n",
            "INFO:stanza:Loading: lemma\n",
            "INFO:stanza:Loading: constituency\n",
            "INFO:stanza:Loading: depparse\n",
            "INFO:stanza:Loading: sentiment\n",
            "INFO:stanza:Loading: ner\n",
            "INFO:stanza:Done loading processors!\n"
          ]
        },
        {
          "output_type": "stream",
          "name": "stdout",
          "text": [
            "\n",
            "Sentence: The cat sees the dog.\n",
            "The        -> Head: ('cat', 2), Relation: det\n",
            "cat        -> Head: ('sees', 3), Relation: nsubj\n",
            "sees       -> Head: ('.', 'ROOT'), Relation: root\n",
            "the        -> Head: ('dog', 5), Relation: det\n",
            "dog        -> Head: ('sees', 3), Relation: obj\n",
            ".          -> Head: ('sees', 3), Relation: punct\n",
            "\n",
            "Sentence: The dog chases the cat.\n",
            "The        -> Head: ('dog', 2), Relation: det\n",
            "dog        -> Head: ('chases', 3), Relation: nsubj\n",
            "chases     -> Head: ('.', 'ROOT'), Relation: root\n",
            "the        -> Head: ('cat', 5), Relation: det\n",
            "cat        -> Head: ('chases', 3), Relation: obj\n",
            ".          -> Head: ('chases', 3), Relation: punct\n",
            "\n",
            "Sentence: A big dog quickly chased the small cat.\n",
            "A          -> Head: ('dog', 3), Relation: det\n",
            "big        -> Head: ('dog', 3), Relation: amod\n",
            "dog        -> Head: ('chased', 5), Relation: nsubj\n",
            "quickly    -> Head: ('chased', 5), Relation: advmod\n",
            "chased     -> Head: ('.', 'ROOT'), Relation: root\n",
            "the        -> Head: ('cat', 8), Relation: det\n",
            "small      -> Head: ('cat', 8), Relation: amod\n",
            "cat        -> Head: ('chased', 5), Relation: obj\n",
            ".          -> Head: ('chased', 5), Relation: punct\n"
          ]
        }
      ],
      "source": [
        "import stanza\n",
        "\n",
        "# Download English model (run once)\n",
        "stanza.download('en')\n",
        "\n",
        "# Initialize the pipeline\n",
        "nlp = stanza.Pipeline('en')\n",
        "\n",
        "# Example sentences\n",
        "sentences = [\n",
        "    \"The cat sees the dog.\",\n",
        "    \"The dog chases the cat.\",\n",
        "    \"A big dog quickly chased the small cat.\"\n",
        "]\n",
        "\n",
        "# Perform dependency parsing\n",
        "for sentence in sentences:\n",
        "    print(f\"\\nSentence: {sentence}\")\n",
        "    doc = nlp(sentence)\n",
        "    for sent in doc.sentences:\n",
        "        for word in sent.words:\n",
        "            print(f\"{word.text:<10} -> Head: {sent.words[word.head-1].text, sent.words[word.head-1].id if word.head > 0 else 'ROOT'}, Relation: {word.deprel}\")\n"
      ]
    },
    {
      "cell_type": "markdown",
      "source": [
        "#Task 02: Constituency Parsing with NLTK"
      ],
      "metadata": {
        "id": "erFC_DBaD_UQ"
      }
    },
    {
      "cell_type": "code",
      "source": [
        "import nltk\n",
        "from nltk import CFG\n",
        "\n",
        "# Define CFG\n",
        "grammar = CFG.fromstring(\"\"\"\n",
        "  S -> NP VP\n",
        "  NP -> Det N\n",
        "  VP -> V NP | V\n",
        "  Det -> 'the' | 'a'\n",
        "  N -> 'cat' | 'dog'\n",
        "  V -> 'sees' | 'chases'\n",
        "\"\"\")\n",
        "\n",
        "# Initialize Chart Parser\n",
        "parser = nltk.ChartParser(grammar)\n",
        "\n",
        "# Input sentence\n",
        "sentence = ['the', 'cat', 'sees', 'the', 'dog']\n",
        "\n",
        "# Parse and display trees\n",
        "print(\"\\nConstituency Parsing (ChartParser):\")\n",
        "for tree in parser.parse(sentence):\n",
        "    print(tree)\n",
        "    tree.pretty_print()\n"
      ],
      "metadata": {
        "colab": {
          "base_uri": "https://localhost:8080/"
        },
        "id": "raJHhfOGAHgY",
        "outputId": "e0a66a95-cc7f-4e73-995a-2e6d7ed2c6d3"
      },
      "execution_count": null,
      "outputs": [
        {
          "output_type": "stream",
          "name": "stdout",
          "text": [
            "\n",
            "Constituency Parsing (ChartParser):\n",
            "(S (NP (Det the) (N cat)) (VP (V sees) (NP (Det the) (N dog))))\n",
            "             S              \n",
            "      _______|____           \n",
            "     |            VP        \n",
            "     |        ____|___       \n",
            "     NP      |        NP    \n",
            "  ___|___    |     ___|___   \n",
            "Det      N   V   Det      N \n",
            " |       |   |    |       |  \n",
            "the     cat sees the     dog\n",
            "\n"
          ]
        }
      ]
    },
    {
      "cell_type": "markdown",
      "source": [
        "#Task 03: Top-Down Parsing with Recursive Descent Parser"
      ],
      "metadata": {
        "id": "ZMucEhumEIS5"
      }
    },
    {
      "cell_type": "code",
      "source": [
        "import nltk\n",
        "from nltk import CFG\n",
        "\n",
        "# Define CFG\n",
        "grammar = CFG.fromstring(\"\"\"\n",
        "  S -> NP VP\n",
        "  NP -> Det N\n",
        "  VP -> V NP | V\n",
        "  Det -> 'the' | 'a'\n",
        "  N -> 'cat' | 'dog'\n",
        "  V -> 'sees' | 'chases'\n",
        "\"\"\")\n",
        "\n",
        "# Initialize Recursive Descent Parser\n",
        "rd_parser = nltk.RecursiveDescentParser(grammar)\n",
        "\n",
        "# Test sentences\n",
        "sentences = [\n",
        "    ['the', 'cat', 'sees', 'the', 'dog'],\n",
        "    ['the', 'dog', 'chases', 'the', 'cat']\n",
        "]\n",
        "\n",
        "# Parse sentences\n",
        "for sent in sentences:\n",
        "    print(f\"\\nParsing: {' '.join(sent)}\")\n",
        "    for tree in rd_parser.parse(sent):\n",
        "        print(tree)\n",
        "        tree.pretty_print()   # ASCII tree\n"
      ],
      "metadata": {
        "colab": {
          "base_uri": "https://localhost:8080/"
        },
        "id": "VfjCvTKyBAQO",
        "outputId": "c41ee869-6dfc-4a23-d2ce-c37aa1adbf8c"
      },
      "execution_count": null,
      "outputs": [
        {
          "output_type": "stream",
          "name": "stdout",
          "text": [
            "\n",
            "Parsing: the cat sees the dog\n",
            "(S (NP (Det the) (N cat)) (VP (V sees) (NP (Det the) (N dog))))\n",
            "             S              \n",
            "      _______|____           \n",
            "     |            VP        \n",
            "     |        ____|___       \n",
            "     NP      |        NP    \n",
            "  ___|___    |     ___|___   \n",
            "Det      N   V   Det      N \n",
            " |       |   |    |       |  \n",
            "the     cat sees the     dog\n",
            "\n",
            "\n",
            "Parsing: the dog chases the cat\n",
            "(S (NP (Det the) (N dog)) (VP (V chases) (NP (Det the) (N cat))))\n",
            "              S               \n",
            "      ________|_____           \n",
            "     |              VP        \n",
            "     |         _____|___       \n",
            "     NP       |         NP    \n",
            "  ___|___     |      ___|___   \n",
            "Det      N    V    Det      N \n",
            " |       |    |     |       |  \n",
            "the     dog chases the     cat\n",
            "\n"
          ]
        }
      ]
    },
    {
      "cell_type": "markdown",
      "source": [
        "#Task 4: Earley Parser"
      ],
      "metadata": {
        "id": "7WGAVoJAj3jN"
      }
    },
    {
      "cell_type": "markdown",
      "source": [
        "#1. Initialize the chart with the start rule at position 0"
      ],
      "metadata": {
        "id": "4cjcJRuYj7TG"
      }
    },
    {
      "cell_type": "code",
      "source": [
        "grammar = {\n",
        "    'S': [['NP', 'VP']],\n",
        "    'NP': [['Det', 'N']],\n",
        "    'VP': [['V', 'NP'], ['V']],\n",
        "    'Det': [['the'], ['a']],\n",
        "    'N': [['cat'], ['dog']],\n",
        "    'V': [['sleeps'], ['sees'], ['chases']]\n",
        "}\n",
        "\n",
        "sentence = [\"the\", \"dog\", \"chases\", \"the\", \"cat\"]\n",
        "\n",
        "class State:\n",
        "    def __init__(self, lhs, rhs, dot, start):\n",
        "        self.lhs = lhs\n",
        "        self.rhs = rhs\n",
        "        self.dot = dot\n",
        "        self.start = start\n",
        "\n",
        "    def is_complete(self):\n",
        "        return self.dot >= len(self.rhs)\n",
        "\n",
        "    def next_symbol(self):\n",
        "        if not self.is_complete():\n",
        "            return self.rhs[self.dot]\n",
        "        return None\n",
        "\n",
        "    def advance(self):\n",
        "        return State(self.lhs, self.rhs, self.dot + 1, self.start)\n",
        "\n",
        "    def __eq__(self, other):\n",
        "        return (self.lhs, self.rhs, self.dot, self.start) == (other.lhs, other.rhs, other.dot, other.start)\n",
        "\n",
        "    def __hash__(self):\n",
        "        return hash((self.lhs, tuple(self.rhs), self.dot, self.start))\n",
        "\n",
        "    def __repr__(self):\n",
        "        before_dot = \" \".join(self.rhs[:self.dot])\n",
        "        after_dot = \" \".join(self.rhs[self.dot:])\n",
        "        return f\"[{self.lhs} → {before_dot} • {after_dot}, {self.start}]\"\n",
        "\n",
        "\n",
        "# Initialize chart with start rule\n",
        "chart = [set() for _ in range(len(sentence) + 1)]\n",
        "start_rule = State('S', grammar['S'][0], 0, 0)\n",
        "chart[0].add(start_rule)\n",
        "\n",
        "print(\"Initial Chart[0]:\")\n",
        "for st in chart[0]:\n",
        "    print(\"   \", st)\n"
      ],
      "metadata": {
        "id": "wK_QYzTrDZ_d",
        "colab": {
          "base_uri": "https://localhost:8080/"
        },
        "outputId": "47de9a9b-261c-48a3-e82b-88af8a70ae66"
      },
      "execution_count": 1,
      "outputs": [
        {
          "output_type": "stream",
          "name": "stdout",
          "text": [
            "Initial Chart[0]:\n",
            "    [S →  • NP VP, 0]\n"
          ]
        }
      ]
    },
    {
      "cell_type": "markdown",
      "source": [
        "#Explanation:"
      ],
      "metadata": {
        "id": "K_aHQ9Tsk2Bh"
      }
    },
    {
      "cell_type": "markdown",
      "source": [
        "We create a chart (list of sets) with one slot per word in the sentence plus one extra, and place the start rule S → • NP VP at position 0."
      ],
      "metadata": {
        "id": "Kky0XIyXk4gE"
      }
    },
    {
      "cell_type": "markdown",
      "source": [
        "#2. Apply Prediction step"
      ],
      "metadata": {
        "id": "VWI9_gBWkFVG"
      }
    },
    {
      "cell_type": "code",
      "source": [
        "def prediction(chart, i, state, grammar):\n",
        "    next_symbol = state.next_symbol()\n",
        "    if next_symbol in grammar:  # Non-terminal\n",
        "        for prod in grammar[next_symbol]:\n",
        "            new_state = State(next_symbol, prod, 0, i)\n",
        "            if new_state not in chart[i]:\n",
        "                chart[i].add(new_state)\n",
        "                return True\n",
        "    return False\n"
      ],
      "metadata": {
        "id": "n0qxODeBjx94"
      },
      "execution_count": 2,
      "outputs": []
    },
    {
      "cell_type": "markdown",
      "source": [
        "#Explanation:\n",
        "If the next symbol after the dot is a non-terminal, we expand it by adding all its production rules into the chart at the current position."
      ],
      "metadata": {
        "id": "kMWTzdRzk9p4"
      }
    },
    {
      "cell_type": "markdown",
      "source": [
        "#3. Apply Scanning step"
      ],
      "metadata": {
        "id": "XnXDmuWKkL3Q"
      }
    },
    {
      "cell_type": "code",
      "source": [
        "def scanning(chart, i, state, words):\n",
        "    next_symbol = state.next_symbol()\n",
        "    if next_symbol is not None and i < len(words):\n",
        "        if [words[i]] == [next_symbol]:  # match terminal\n",
        "            new_state = state.advance()\n",
        "            if new_state not in chart[i + 1]:\n",
        "                chart[i + 1].add(new_state)\n",
        "                return True\n",
        "    return False\n"
      ],
      "metadata": {
        "id": "2o_OZRV4kIE6"
      },
      "execution_count": 3,
      "outputs": []
    },
    {
      "cell_type": "markdown",
      "source": [
        "#Explanation:\n",
        "\n",
        "If the next symbol after the dot is a terminal and matches the current word in the input, we move the dot forward and place the new state into the next chart position."
      ],
      "metadata": {
        "id": "-EAPfF0ulDg4"
      }
    },
    {
      "cell_type": "markdown",
      "source": [
        "#4. Apply Completion step"
      ],
      "metadata": {
        "id": "7RjbW8YWkSEq"
      }
    },
    {
      "cell_type": "code",
      "source": [
        "def completion(chart, i, state):\n",
        "    if state.is_complete():\n",
        "        for prev_state in list(chart[state.start]):\n",
        "            if prev_state.next_symbol() == state.lhs:\n",
        "                new_state = prev_state.advance()\n",
        "                if new_state not in chart[i]:\n",
        "                    chart[i].add(new_state)\n",
        "                    return True\n",
        "    return False\n"
      ],
      "metadata": {
        "id": "dZeoaWDJkORJ"
      },
      "execution_count": 4,
      "outputs": []
    },
    {
      "cell_type": "markdown",
      "source": [
        "#Explanation:\n",
        "When a rule is fully recognized (dot at the end), we look back to the states that expected this non-terminal and advance their dots as well."
      ],
      "metadata": {
        "id": "iv8qoO56lKNg"
      }
    },
    {
      "cell_type": "markdown",
      "source": [
        "#5. Run the Earley Parser (combine steps)"
      ],
      "metadata": {
        "id": "WBrkGOrbkYWK"
      }
    },
    {
      "cell_type": "code",
      "source": [
        "def earley_parse(grammar, words):\n",
        "    chart = [set() for _ in range(len(words) + 1)]\n",
        "    start_rule = State('S', grammar['S'][0], 0, 0)\n",
        "    chart[0].add(start_rule)\n",
        "\n",
        "    for i in range(len(words) + 1):\n",
        "        changed = True\n",
        "        while changed:\n",
        "            changed = False\n",
        "            for state in list(chart[i]):\n",
        "                if prediction(chart, i, state, grammar):\n",
        "                    changed = True\n",
        "                if scanning(chart, i, state, words):\n",
        "                    changed = True\n",
        "                if completion(chart, i, state):\n",
        "                    changed = True\n",
        "\n",
        "    # Print chart\n",
        "    for i, states in enumerate(chart):\n",
        "        print(f\"\\nChart[{i}]:\")\n",
        "        for st in states:\n",
        "            print(\"   \", st)\n",
        "\n",
        "    # Check acceptance\n",
        "    accepting_state = State('S', grammar['S'][0], len(grammar['S'][0]), 0)\n",
        "    return accepting_state in chart[len(words)]\n"
      ],
      "metadata": {
        "id": "2zVlvErXkUfh"
      },
      "execution_count": 5,
      "outputs": []
    },
    {
      "cell_type": "markdown",
      "source": [
        "#Explanation:\n",
        "We repeatedly apply prediction, scanning, and completion at each position until no new states can be added, filling the chart."
      ],
      "metadata": {
        "id": "AL3xWIe7lQEB"
      }
    },
    {
      "cell_type": "markdown",
      "source": [
        "#6. Test the parser"
      ],
      "metadata": {
        "id": "3kLgD3f0kdkj"
      }
    },
    {
      "cell_type": "code",
      "source": [
        "if __name__ == \"__main__\":\n",
        "    result = earley_parse(grammar, sentence)\n",
        "    print(\"\\nAccepted?\", result)\n"
      ],
      "metadata": {
        "colab": {
          "base_uri": "https://localhost:8080/"
        },
        "id": "JrnxeI-Xkabz",
        "outputId": "e7f50cd6-dbd4-42f9-8755-98d7bfbf2f79"
      },
      "execution_count": 6,
      "outputs": [
        {
          "output_type": "stream",
          "name": "stdout",
          "text": [
            "\n",
            "Chart[0]:\n",
            "    [Det →  • a, 0]\n",
            "    [NP →  • Det N, 0]\n",
            "    [Det →  • the, 0]\n",
            "    [S →  • NP VP, 0]\n",
            "\n",
            "Chart[1]:\n",
            "    [Det → the • , 0]\n",
            "    [N →  • cat, 1]\n",
            "    [N →  • dog, 1]\n",
            "    [NP → Det • N, 0]\n",
            "\n",
            "Chart[2]:\n",
            "    [V →  • sees, 2]\n",
            "    [N → dog • , 1]\n",
            "    [VP →  • V, 2]\n",
            "    [NP → Det N • , 0]\n",
            "    [VP →  • V NP, 2]\n",
            "    [V →  • sleeps, 2]\n",
            "    [S → NP • VP, 0]\n",
            "    [V →  • chases, 2]\n",
            "\n",
            "Chart[3]:\n",
            "    [VP → V • , 2]\n",
            "    [Det →  • a, 3]\n",
            "    [NP →  • Det N, 3]\n",
            "    [V → chases • , 2]\n",
            "    [VP → V • NP, 2]\n",
            "    [Det →  • the, 3]\n",
            "    [S → NP VP • , 0]\n",
            "\n",
            "Chart[4]:\n",
            "    [N →  • dog, 4]\n",
            "    [NP → Det • N, 3]\n",
            "    [Det → the • , 3]\n",
            "    [N →  • cat, 4]\n",
            "\n",
            "Chart[5]:\n",
            "    [VP → V NP • , 2]\n",
            "    [N → cat • , 4]\n",
            "    [S → NP VP • , 0]\n",
            "    [NP → Det N • , 3]\n",
            "\n",
            "Accepted? True\n"
          ]
        }
      ]
    },
    {
      "cell_type": "markdown",
      "source": [
        "#Explanation:\n",
        "Finally, we check if the completed start rule (S → NP VP • , 0) is in the last chart entry, meaning the sentence is accepted by the grammar."
      ],
      "metadata": {
        "id": "RjedN38xlVX-"
      }
    },
    {
      "cell_type": "markdown",
      "source": [
        "#Combined Summary\n",
        "\n",
        "1.Initialize chart: Start with S → • RHS at position 0.\n",
        "\n",
        "2.Prediction: Expand non-terminals with their productions.\n",
        "\n",
        "3.Scanning: Match terminal words with input and advance.\n",
        "\n",
        "4.Completion: Finish rules and update states that depend on them.\n",
        "\n",
        "5.Iteration: Repeat steps until no new states appear in each chart column.\n",
        "\n",
        "6.Acceptance: If the final chart contains a completed S rule, the sentence is valid."
      ],
      "metadata": {
        "id": "sOUCOSZhla2_"
      }
    },
    {
      "cell_type": "code",
      "source": [],
      "metadata": {
        "id": "23apLSaqkg1h"
      },
      "execution_count": null,
      "outputs": []
    }
  ]
}