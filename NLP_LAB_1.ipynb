{
  "nbformat": 4,
  "nbformat_minor": 0,
  "metadata": {
    "colab": {
      "provenance": []
    },
    "kernelspec": {
      "name": "python3",
      "display_name": "Python 3"
    },
    "language_info": {
      "name": "python"
    }
  },
  "cells": [
    {
      "cell_type": "code",
      "source": [
        "!python --version"
      ],
      "metadata": {
        "colab": {
          "base_uri": "https://localhost:8080/"
        },
        "id": "R2E5Crd52cGL",
        "outputId": "48991e74-b9a1-4f19-c61e-4eae34180f09"
      },
      "execution_count": null,
      "outputs": [
        {
          "output_type": "stream",
          "name": "stdout",
          "text": [
            "Python 3.12.11\n"
          ]
        }
      ]
    },
    {
      "cell_type": "markdown",
      "source": [
        "#TASK 01:"
      ],
      "metadata": {
        "id": "Oib4IwaY4uEZ"
      }
    },
    {
      "cell_type": "markdown",
      "source": [
        "# 1. Create a 1D NumPy array with numbers from 1 to 20"
      ],
      "metadata": {
        "id": "4qAXdNPO9-yC"
      }
    },
    {
      "cell_type": "code",
      "source": [
        "import numpy as np\n",
        "\n",
        "\n",
        "arr1d = np.arange(1, 21)\n",
        "print(\"1D Array:\", arr1d)\n",
        "\n"
      ],
      "metadata": {
        "colab": {
          "base_uri": "https://localhost:8080/"
        },
        "id": "OEID821F9Z91",
        "outputId": "5954819d-e2dd-4567-d4f3-da5777924b21"
      },
      "execution_count": null,
      "outputs": [
        {
          "output_type": "stream",
          "name": "stdout",
          "text": [
            "1D Array: [ 1  2  3  4  5  6  7  8  9 10 11 12 13 14 15 16 17 18 19 20]\n"
          ]
        }
      ]
    },
    {
      "cell_type": "markdown",
      "source": [
        "# 2. Create a 2D array (3x5) with random integers between 10 and 50"
      ],
      "metadata": {
        "id": "YrE6DRPq-Dtu"
      }
    },
    {
      "cell_type": "code",
      "source": [
        "\n",
        "arr2d = np.random.randint(10, 50, size=(3, 5))\n",
        "print(\"\\n2D Array:\\n\", arr2d)\n",
        "\n"
      ],
      "metadata": {
        "colab": {
          "base_uri": "https://localhost:8080/"
        },
        "id": "pNmVEZgp9hSm",
        "outputId": "03db0ed1-8479-4bc8-f817-d2b2c3769e45"
      },
      "execution_count": null,
      "outputs": [
        {
          "output_type": "stream",
          "name": "stdout",
          "text": [
            "\n",
            "2D Array:\n",
            " [[23 40 39 22 14]\n",
            " [26 47 47 41 15]\n",
            " [41 25 22 24 29]]\n"
          ]
        }
      ]
    },
    {
      "cell_type": "markdown",
      "source": [
        "#Extract the first and third rows of the 2D array."
      ],
      "metadata": {
        "id": "mI2ndswA-IYX"
      }
    },
    {
      "cell_type": "code",
      "source": [
        "print(\"\\nFirst row:\", arr2d[0])\n",
        "print(\"Third row:\", arr2d[2])\n",
        "\n"
      ],
      "metadata": {
        "colab": {
          "base_uri": "https://localhost:8080/"
        },
        "id": "BQxZ-LE-9rdf",
        "outputId": "2c4d6563-d81d-4b24-8038-fd1a0fdfaa7f"
      },
      "execution_count": null,
      "outputs": [
        {
          "output_type": "stream",
          "name": "stdout",
          "text": [
            "\n",
            "First row: [23 40 39 22 14]\n",
            "Third row: [41 25 22 24 29]\n"
          ]
        }
      ]
    },
    {
      "cell_type": "markdown",
      "source": [
        "#Calculate the sum, mean, minimum, and maximum of the entire 2D array."
      ],
      "metadata": {
        "id": "YI2fnXNb-P3H"
      }
    },
    {
      "cell_type": "code",
      "source": [
        "print(\"\\nSum:\", arr2d.sum())\n",
        "print(\"Mean:\", arr2d.mean())\n",
        "print(\"Min:\", arr2d.min())\n",
        "print(\"Max:\", arr2d.max())\n"
      ],
      "metadata": {
        "colab": {
          "base_uri": "https://localhost:8080/"
        },
        "id": "I4fN7kXQ9vzu",
        "outputId": "9c37b1fa-6beb-4a27-efc4-0cd2d93c71fe"
      },
      "execution_count": null,
      "outputs": [
        {
          "output_type": "stream",
          "name": "stdout",
          "text": [
            "\n",
            "Sum: 455\n",
            "Mean: 30.333333333333332\n",
            "Min: 14\n",
            "Max: 47\n"
          ]
        }
      ]
    },
    {
      "cell_type": "markdown",
      "source": [
        "#Reshape the 1D array into a 4x5 matrix."
      ],
      "metadata": {
        "id": "rdML0RTn-YfP"
      }
    },
    {
      "cell_type": "code",
      "source": [
        "\n",
        "arr1d_reshaped = arr1d.reshape(4, 5)\n",
        "print(\"\\nReshaped (4x5):\\n\", arr1d_reshaped)\n",
        "\n"
      ],
      "metadata": {
        "colab": {
          "base_uri": "https://localhost:8080/"
        },
        "id": "mSCMJ66p9yrW",
        "outputId": "4d6c9f0d-e933-4036-95c5-01c847917165"
      },
      "execution_count": null,
      "outputs": [
        {
          "output_type": "stream",
          "name": "stdout",
          "text": [
            "\n",
            "Reshaped (4x5):\n",
            " [[ 1  2  3  4  5]\n",
            " [ 6  7  8  9 10]\n",
            " [11 12 13 14 15]\n",
            " [16 17 18 19 20]]\n"
          ]
        }
      ]
    },
    {
      "cell_type": "markdown",
      "source": [
        "#Create two random 3x3 matrices using [Hint: numpy.random.rand().]"
      ],
      "metadata": {
        "id": "nS87GEcW-gC2"
      }
    },
    {
      "cell_type": "code",
      "source": [
        "mat1 = np.random.rand(3, 3)\n",
        "mat2 = np.random.rand(3, 3)\n",
        "print(\"\\nMatrix 1:\\n\", mat1)\n",
        "print(\"Matrix 2:\\n\", mat2)\n",
        "\n"
      ],
      "metadata": {
        "colab": {
          "base_uri": "https://localhost:8080/"
        },
        "id": "pjgwdGVf91h-",
        "outputId": "43df84fe-187a-4f23-b7da-e44685012ed0"
      },
      "execution_count": null,
      "outputs": [
        {
          "output_type": "stream",
          "name": "stdout",
          "text": [
            "\n",
            "Matrix 1:\n",
            " [[0.03438497 0.01736195 0.13149704]\n",
            " [0.15648652 0.07510703 0.52111527]\n",
            " [0.59762058 0.24698873 0.56316664]]\n",
            "Matrix 2:\n",
            " [[0.07905972 0.16890333 0.53863433]\n",
            " [0.83934157 0.00863423 0.37911722]\n",
            " [0.0802296  0.50417677 0.26738696]]\n"
          ]
        }
      ]
    },
    {
      "cell_type": "markdown",
      "source": [
        "#Perform the following element-wise operations on these matrices:\n",
        "a. Addition\n",
        "b. Subtraction\n",
        "c. Multiplication\n",
        "d. Division"
      ],
      "metadata": {
        "id": "xoybYEBm-osz"
      }
    },
    {
      "cell_type": "code",
      "source": [
        "print(\"\\nAddition:\\n\", mat1 + mat2)\n",
        "print(\"Subtraction:\\n\", mat1 - mat2)\n",
        "print(\"Multiplication:\\n\", mat1 * mat2)\n",
        "print(\"Division:\\n\", mat1 / mat2)\n",
        "\n"
      ],
      "metadata": {
        "colab": {
          "base_uri": "https://localhost:8080/"
        },
        "id": "rRcE8v0J93tX",
        "outputId": "fd9a4fcf-3d5a-450d-af42-3cba5cc12601"
      },
      "execution_count": null,
      "outputs": [
        {
          "output_type": "stream",
          "name": "stdout",
          "text": [
            "\n",
            "Addition:\n",
            " [[0.11344469 0.18626528 0.67013136]\n",
            " [0.99582809 0.08374125 0.90023249]\n",
            " [0.67785018 0.7511655  0.8305536 ]]\n",
            "Subtraction:\n",
            " [[-0.04467475 -0.15154138 -0.40713729]\n",
            " [-0.68285505  0.0664728   0.14199805]\n",
            " [ 0.51739098 -0.25718804  0.29577967]]\n",
            "Multiplication:\n",
            " [[0.00271847 0.00293249 0.07082882]\n",
            " [0.13134564 0.00064849 0.19756377]\n",
            " [0.04794686 0.12452598 0.15058342]]\n",
            "Division:\n",
            " [[0.43492402 0.10279224 0.24413044]\n",
            " [0.18643962 8.69875419 1.37454919]\n",
            " [7.44887875 0.48988519 2.10618585]]\n"
          ]
        }
      ]
    },
    {
      "cell_type": "markdown",
      "source": [
        "#Multiply one of the matrices by a scalar (e.g., multiply by 5)"
      ],
      "metadata": {
        "id": "cWeG2XU9-35_"
      }
    },
    {
      "cell_type": "code",
      "source": [
        "print(\"\\nMatrix 1 * 5:\\n\", mat1 * 5)"
      ],
      "metadata": {
        "colab": {
          "base_uri": "https://localhost:8080/"
        },
        "id": "oYBWi-t79622",
        "outputId": "a63b0b33-6bcf-4828-f2b1-f129afd38805"
      },
      "execution_count": null,
      "outputs": [
        {
          "output_type": "stream",
          "name": "stdout",
          "text": [
            "\n",
            "Matrix 1 * 5:\n",
            " [[0.17192485 0.08680976 0.65748518]\n",
            " [0.78243261 0.37553513 2.60557636]\n",
            " [2.98810289 1.23494366 2.81583318]]\n"
          ]
        }
      ]
    },
    {
      "cell_type": "markdown",
      "source": [
        "#Task 02: Pandas"
      ],
      "metadata": {
        "id": "4o0z-EpW_FYA"
      }
    },
    {
      "cell_type": "markdown",
      "source": [
        "#Load the dataset into a Pandas DataFrame.\n",
        "• Display first 5 rows (head())\n",
        "• Show shape (rows, columns)\n",
        "• Show column names"
      ],
      "metadata": {
        "id": "xM9rAFUm_Nvn"
      }
    },
    {
      "cell_type": "code",
      "source": [
        "import pandas as pd\n",
        "\n",
        "df = pd.read_csv(\"students.csv\")\n",
        "\n",
        "\n"
      ],
      "metadata": {
        "id": "YFJdZH0q_Byv"
      },
      "execution_count": null,
      "outputs": []
    },
    {
      "cell_type": "markdown",
      "source": [
        "# 1. Display first 5 rows"
      ],
      "metadata": {
        "id": "f-VmfY2UAVWq"
      }
    },
    {
      "cell_type": "code",
      "source": [
        "\n",
        "print(\"First 5 rows:\\n\", df.head())\n"
      ],
      "metadata": {
        "colab": {
          "base_uri": "https://localhost:8080/"
        },
        "id": "SeWxhcdJ_yqG",
        "outputId": "31819063-a262-4449-b25e-7dd091e3041c"
      },
      "execution_count": null,
      "outputs": [
        {
          "output_type": "stream",
          "name": "stdout",
          "text": [
            "First 5 rows:\n",
            "       Name  Age        Department  Score      City\n",
            "0    Alice   20  Computer Science   85.0  New York\n",
            "1      Bob   22       Mathematics   78.0    London\n",
            "2  Charlie   23  Computer Science    NaN     Paris\n",
            "3    David   21           Physics   92.0    London\n",
            "4      Eva   22       Mathematics   88.0     Paris\n"
          ]
        }
      ]
    },
    {
      "cell_type": "markdown",
      "source": [
        "# 2. Show shape (rows, columns)"
      ],
      "metadata": {
        "id": "cmd0A_ZgAYTn"
      }
    },
    {
      "cell_type": "code",
      "source": [
        "\n",
        "print(\"\\nShape:\", df.shape)\n",
        "\n"
      ],
      "metadata": {
        "colab": {
          "base_uri": "https://localhost:8080/"
        },
        "id": "3_I74h2vABID",
        "outputId": "2763f369-4096-45d1-cd7e-f4bd2ccffa5c"
      },
      "execution_count": null,
      "outputs": [
        {
          "output_type": "stream",
          "name": "stdout",
          "text": [
            "\n",
            "Shape: (10, 5)\n"
          ]
        }
      ]
    },
    {
      "cell_type": "markdown",
      "source": [
        "# 3. Show column names"
      ],
      "metadata": {
        "id": "gZyF8HRXAauH"
      }
    },
    {
      "cell_type": "code",
      "source": [
        "\n",
        "print(\"\\nColumns:\", df.columns)\n",
        "\n"
      ],
      "metadata": {
        "colab": {
          "base_uri": "https://localhost:8080/"
        },
        "id": "T6UxLIQmADaD",
        "outputId": "486429d3-a4af-4a81-a20d-ad23c46f2ae4"
      },
      "execution_count": null,
      "outputs": [
        {
          "output_type": "stream",
          "name": "stdout",
          "text": [
            "\n",
            "Columns: Index(['Name', 'Age', 'Department', 'Score', 'City'], dtype='object')\n"
          ]
        }
      ]
    },
    {
      "cell_type": "markdown",
      "source": [
        "#Explore the dataset:\n",
        "• Select only the Name and Score columns.\n",
        "• Get summary statistics (describe()).\n",
        "• Find the average age of students"
      ],
      "metadata": {
        "id": "yDVqeDmBAf19"
      }
    },
    {
      "cell_type": "markdown",
      "source": [
        "# 4. Select only Name and Score"
      ],
      "metadata": {
        "id": "DlRTLxvZAprD"
      }
    },
    {
      "cell_type": "code",
      "source": [
        "\n",
        "print(\"\\nName & Score:\\n\", df[[\"Name\", \"Score\"]])\n"
      ],
      "metadata": {
        "colab": {
          "base_uri": "https://localhost:8080/"
        },
        "id": "GqRyRGfWAFb8",
        "outputId": "c45a3c52-e5ad-4b08-ce81-414ce63543ac"
      },
      "execution_count": null,
      "outputs": [
        {
          "output_type": "stream",
          "name": "stdout",
          "text": [
            "\n",
            "Name & Score:\n",
            "       Name  Score\n",
            "0    Alice   85.0\n",
            "1      Bob   78.0\n",
            "2  Charlie    NaN\n",
            "3    David   92.0\n",
            "4      Eva   88.0\n",
            "5    Frank   75.0\n",
            "6    Grace   95.0\n",
            "7    Helen    NaN\n",
            "8      NaN   80.0\n",
            "9     Jack   70.0\n"
          ]
        }
      ]
    },
    {
      "cell_type": "markdown",
      "source": [
        "# 5. Get summary statistics"
      ],
      "metadata": {
        "id": "hhDhuvMaAs6Q"
      }
    },
    {
      "cell_type": "code",
      "source": [
        "\n",
        "print(\"\\nSummary statistics:\\n\", df.describe())\n",
        "\n"
      ],
      "metadata": {
        "colab": {
          "base_uri": "https://localhost:8080/"
        },
        "id": "xnpaQChzAIGl",
        "outputId": "a6cba0bd-caa5-4ea4-e1de-f9dae80fecef"
      },
      "execution_count": null,
      "outputs": [
        {
          "output_type": "stream",
          "name": "stdout",
          "text": [
            "\n",
            "Summary statistics:\n",
            "              Age      Score\n",
            "count  10.000000   8.000000\n",
            "mean   22.300000  82.875000\n",
            "std     1.494434   8.626165\n",
            "min    20.000000  70.000000\n",
            "25%    21.250000  77.250000\n",
            "50%    22.000000  82.500000\n",
            "75%    23.000000  89.000000\n",
            "max    25.000000  95.000000\n"
          ]
        }
      ]
    },
    {
      "cell_type": "markdown",
      "source": [
        "# 6. Find average age of students"
      ],
      "metadata": {
        "id": "ZNh8lXqhAxNY"
      }
    },
    {
      "cell_type": "code",
      "source": [
        "\n",
        "print(\"\\nAverage Age:\", df[\"Age\"].mean())\n"
      ],
      "metadata": {
        "colab": {
          "base_uri": "https://localhost:8080/"
        },
        "id": "dVw4Vb0vAKiE",
        "outputId": "2d4aece8-31fd-4331-9719-11b565182158"
      },
      "execution_count": null,
      "outputs": [
        {
          "output_type": "stream",
          "name": "stdout",
          "text": [
            "\n",
            "Average Age: 22.3\n"
          ]
        }
      ]
    },
    {
      "cell_type": "markdown",
      "source": [
        "#Filtering:\n",
        "• Select students with Score > 80.\n",
        "• Select students from \"Computer Science\" department"
      ],
      "metadata": {
        "id": "pVddQQFZA39S"
      }
    },
    {
      "cell_type": "markdown",
      "source": [
        "\n",
        "# 7. Filtering: Score > 80"
      ],
      "metadata": {
        "id": "r9ekK35GA7cP"
      }
    },
    {
      "cell_type": "code",
      "source": [
        "\n",
        "print(\"\\nStudents with Score > 80:\\n\", df[df[\"Score\"] > 80])\n",
        "\n"
      ],
      "metadata": {
        "colab": {
          "base_uri": "https://localhost:8080/"
        },
        "id": "EqWPeyGtAMeE",
        "outputId": "a905ce5d-f835-4d01-d95c-9fd788180e31"
      },
      "execution_count": null,
      "outputs": [
        {
          "output_type": "stream",
          "name": "stdout",
          "text": [
            "\n",
            "Students with Score > 80:\n",
            "     Name  Age        Department  Score      City\n",
            "0  Alice   20  Computer Science   85.0  New York\n",
            "3  David   21           Physics   92.0    London\n",
            "4    Eva   22       Mathematics   88.0     Paris\n",
            "6  Grace   23           Physics   95.0     Paris\n"
          ]
        }
      ]
    },
    {
      "cell_type": "markdown",
      "source": [
        "# 8. Filtering: Computer Science students"
      ],
      "metadata": {
        "id": "ovQg8YDmA-j1"
      }
    },
    {
      "cell_type": "code",
      "source": [
        "\n",
        "print(\"\\nComputer Science Students:\\n\", df[df[\"Department\"] == \"Computer Science\"])"
      ],
      "metadata": {
        "colab": {
          "base_uri": "https://localhost:8080/"
        },
        "id": "uT5A6TUGAOmU",
        "outputId": "b320646a-5f1e-4d40-8529-e9d6581899be"
      },
      "execution_count": null,
      "outputs": [
        {
          "output_type": "stream",
          "name": "stdout",
          "text": [
            "\n",
            "Computer Science Students:\n",
            "       Name  Age        Department  Score      City\n",
            "0    Alice   20  Computer Science   85.0  New York\n",
            "2  Charlie   23  Computer Science    NaN     Paris\n",
            "5    Frank   24  Computer Science   75.0  New York\n",
            "9     Jack   25  Computer Science   70.0  New York\n"
          ]
        }
      ]
    },
    {
      "cell_type": "markdown",
      "source": [
        "#Task 03: Matplotlib and seaborn"
      ],
      "metadata": {
        "id": "7KwmbDNHBEZu"
      }
    },
    {
      "cell_type": "markdown",
      "source": [
        "# Pie chart for Department Distribution"
      ],
      "metadata": {
        "id": "ehDVXEqLB26_"
      }
    },
    {
      "cell_type": "code",
      "source": [
        "import matplotlib.pyplot as plt\n",
        "import seaborn as sns\n",
        "\n",
        "\n",
        "gender_counts = df[\"Department\"].value_counts()\n",
        "plt.pie(gender_counts, labels=gender_counts.index, autopct='%1.1f%%')\n",
        "plt.title(\"Department Distribution\")\n",
        "plt.show()\n",
        "\n"
      ],
      "metadata": {
        "colab": {
          "base_uri": "https://localhost:8080/",
          "height": 428
        },
        "id": "QnihHM6UAPeU",
        "outputId": "47cdb2e4-a989-4ab8-e1a0-ee00bfc19a81"
      },
      "execution_count": null,
      "outputs": [
        {
          "output_type": "display_data",
          "data": {
            "text/plain": [
              "<Figure size 640x480 with 1 Axes>"
            ],
            "image/png": "[encoded data removed]"
          },
          "metadata": {}
        }
      ]
    },
    {
      "cell_type": "markdown",
      "source": [
        "# Bar chart for Age"
      ],
      "metadata": {
        "id": "bbXR7cUsB-wD"
      }
    },
    {
      "cell_type": "code",
      "source": [
        "\n",
        "plt.figure(figsize=(6,4))\n",
        "sns.countplot(x=\"Age\", data=df)\n",
        "plt.title(\"Age Distribution\")\n",
        "plt.show()\n"
      ],
      "metadata": {
        "colab": {
          "base_uri": "https://localhost:8080/",
          "height": 410
        },
        "id": "zsRB4FzhBQz_",
        "outputId": "2a7684b9-1242-4e29-960c-6798482f5ca0"
      },
      "execution_count": null,
      "outputs": [
        {
          "output_type": "display_data",
          "data": {
            "text/plain": [
              "<Figure size 600x400 with 1 Axes>"
            ],
            "image/png": "[encoded data removed]"
          },
          "metadata": {}
        }
      ]
    },
    {
      "cell_type": "markdown",
      "source": [
        "# Bar chart for City"
      ],
      "metadata": {
        "id": "2beKfdNLCKUg"
      }
    },
    {
      "cell_type": "code",
      "source": [
        "\n",
        "\n",
        "plt.figure(figsize=(6,4))\n",
        "sns.countplot(x=\"City\", data=df)\n",
        "plt.title(\"Domicile Distribution\")\n",
        "plt.xticks(rotation=45)\n",
        "plt.show()\n"
      ],
      "metadata": {
        "colab": {
          "base_uri": "https://localhost:8080/",
          "height": 451
        },
        "id": "hO-hLlpFBhS_",
        "outputId": "6f02f01b-81de-45bb-9741-2578cc6a035d"
      },
      "execution_count": null,
      "outputs": [
        {
          "output_type": "display_data",
          "data": {
            "text/plain": [
              "<Figure size 600x400 with 1 Axes>"
            ],
            "image/png": "[encoded data removed]"
          },
          "metadata": {}
        }
      ]
    },
    {
      "cell_type": "code",
      "source": [],
      "metadata": {
        "id": "a0p2GqXYBirO"
      },
      "execution_count": null,
      "outputs": []
    }
  ]
}